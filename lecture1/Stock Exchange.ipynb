{
 "cells": [
  {
   "cell_type": "code",
   "execution_count": 10,
   "metadata": {
    "collapsed": true
   },
   "outputs": [],
   "source": [
    "import cProfile\n",
    "import random\n",
    "import time"
   ]
  },
  {
   "cell_type": "markdown",
   "metadata": {},
   "source": [
    "# Stock Exachange Problem"
   ]
  },
  {
   "cell_type": "code",
   "execution_count": 11,
   "metadata": {
    "collapsed": true
   },
   "outputs": [],
   "source": [
    "def make_prices(n):\n",
    "    \"\"\" Return array of n random prices. \"\"\"\n",
    "    return [ random.random() for _ in range(n) ]"
   ]
  },
  {
   "cell_type": "code",
   "execution_count": 12,
   "metadata": {
    "collapsed": true
   },
   "outputs": [],
   "source": [
    "def naive(A):\n",
    "    \"\"\" return best gain on A, using naive method \n",
    "        running time, due to doubly-nest loop, is O(n^2)\n",
    "    \"\"\"\n",
    "    n = len(A)\n",
    "    ans = 0\n",
    "    for i0 in range(n):\n",
    "        for j0 in range(i0,n):\n",
    "            ans = max(ans, A[j0]-A[i0])\n",
    "    return ans"
   ]
  },
  {
   "cell_type": "code",
   "execution_count": 13,
   "metadata": {
    "collapsed": false
   },
   "outputs": [
    {
     "data": {
      "text/plain": [
       "16"
      ]
     },
     "execution_count": 13,
     "metadata": {},
     "output_type": "execute_result"
    }
   ],
   "source": [
    "naive([20, 3, 19, 1, 15, 6])"
   ]
  },
  {
   "cell_type": "code",
   "execution_count": 15,
   "metadata": {
    "collapsed": false
   },
   "outputs": [
    {
     "name": "stdout",
     "output_type": "stream",
     "text": [
      "         50025007 function calls in 14.145 seconds\n",
      "\n",
      "   Ordered by: standard name\n",
      "\n",
      "   ncalls  tottime  percall  cumtime  percall filename:lineno(function)\n",
      "        1    0.004    0.004    0.006    0.006 <ipython-input-11-05f49758ed89>:1(make_prices)\n",
      "        1    8.640    8.640   14.139   14.139 <ipython-input-12-1b173f4b093c>:1(naive)\n",
      "        1    0.000    0.000   14.145   14.145 <string>:1(<module>)\n",
      "        1    0.000    0.000    0.000    0.000 {len}\n",
      " 50005000    5.304    0.000    5.304    0.000 {max}\n",
      "        1    0.000    0.000    0.000    0.000 {method 'disable' of '_lsprof.Profiler' objects}\n",
      "    10000    0.001    0.000    0.001    0.000 {method 'random' of '_random.Random' objects}\n",
      "    10002    0.196    0.000    0.196    0.000 {range}\n",
      "\n",
      "\n"
     ]
    }
   ],
   "source": [
    "cProfile.run(\"naive(make_prices(10000))\")"
   ]
  },
  {
   "cell_type": "code",
   "execution_count": 19,
   "metadata": {
    "collapsed": true
   },
   "outputs": [],
   "source": [
    "def dc(A, lo=None, hi=None):\n",
    "    \"\"\" return best gain on A[lo:hi], using divide & conquer \n",
    "        running time is solution to T(n) = 2*T(n/2) + Theta(n) = Theta(n log n)\n",
    "    \"\"\"\n",
    "    if lo is None:\n",
    "        lo = 0\n",
    "    if hi is None:\n",
    "        hi = len(A)\n",
    "    n = hi-lo\n",
    "    # base case\n",
    "    if n == 1:\n",
    "        return 0\n",
    "    # divide and conquer\n",
    "    # divide into lo:mid and mid:hi\n",
    "    mid = (lo+hi)//2            \n",
    "    # recurse on left half\n",
    "    gain_low = dc(A, lo, mid)\n",
    "    # recurse on right half\n",
    "    gain_high = dc(A, mid, hi)\n",
    "    # figure out best gain for buying in left half, selling in right half\n",
    "    buy_price = min([ A[i] for i in range(lo, mid) ])\n",
    "    sell_price = max([ A[i] for i in range(mid, hi)])\n",
    "    gain_cross = sell_price - buy_price\n",
    "    # optimum is max of three cases just solved\n",
    "    return max(gain_low, gain_high, gain_cross)"
   ]
  },
  {
   "cell_type": "code",
   "execution_count": 20,
   "metadata": {
    "collapsed": false
   },
   "outputs": [
    {
     "data": {
      "text/plain": [
       "16"
      ]
     },
     "execution_count": 20,
     "metadata": {},
     "output_type": "execute_result"
    }
   ],
   "source": [
    "dc([20, 3, 19, 1, 15, 6])"
   ]
  },
  {
   "cell_type": "code",
   "execution_count": 21,
   "metadata": {
    "collapsed": false
   },
   "outputs": [
    {
     "name": "stdout",
     "output_type": "stream",
     "text": [
      "         79999 function calls (60001 primitive calls) in 0.080 seconds\n",
      "\n",
      "   Ordered by: standard name\n",
      "\n",
      "   ncalls  tottime  percall  cumtime  percall filename:lineno(function)\n",
      "        1    0.004    0.004    0.005    0.005 <ipython-input-11-05f49758ed89>:1(make_prices)\n",
      "  19999/1    0.053    0.000    0.074    0.074 <ipython-input-19-e8b912c3a064>:1(dc)\n",
      "        1    0.000    0.000    0.080    0.080 <string>:1(<module>)\n",
      "        1    0.000    0.000    0.000    0.000 {len}\n",
      "    19998    0.008    0.000    0.008    0.000 {max}\n",
      "        1    0.000    0.000    0.000    0.000 {method 'disable' of '_lsprof.Profiler' objects}\n",
      "    10000    0.001    0.000    0.001    0.000 {method 'random' of '_random.Random' objects}\n",
      "     9999    0.004    0.000    0.004    0.000 {min}\n",
      "    19999    0.009    0.000    0.009    0.000 {range}\n",
      "\n",
      "\n"
     ]
    }
   ],
   "source": [
    "cProfile.run(\"dc(make_prices(10000))\")"
   ]
  },
  {
   "cell_type": "code",
   "execution_count": 22,
   "metadata": {
    "collapsed": true
   },
   "outputs": [],
   "source": [
    "def lin(A):\n",
    "    \"\"\" return best gain, computed by linear-time alg \n",
    "        running time is Theta(n)\n",
    "    \"\"\"\n",
    "    n = len(A)\n",
    "    # B[k] = min{ A[i0]: i0 <= k }   for k = 0, 1, ..., n-1\n",
    "    #      = price to buy at if you have to buy no later than k (and sell no earlier than k)\n",
    "    B = [A[0]] * n\n",
    "    for k in range(1, n):\n",
    "        B[k] = min(B[k-1],A[k])\n",
    "    # S[k] = max{ A[j0]: j0 >= k }   for k = 0, 1, ..., n-1\n",
    "    #      = price to sell at if you have to sell no earlier than k (but bought no later than k)\n",
    "    S = [A[n-1]] * n\n",
    "    for k in range(n-2, -1, -1):\n",
    "        S[k] = max(S[k+1], A[k])\n",
    "    # G[k] = S[k] - B[k] for k = 0, 1, ..., n-1\n",
    "    #      = best gain from buying no later than k, then selling no earlier than k\n",
    "    G = [ S[k]-B[k] for k in range(n) ]\n",
    "    # opt = max { G[k]: 0 <= k < n }\n",
    "    #     = best possible gain for given input A\n",
    "    opt = max(G)\n",
    "    return opt\n"
   ]
  },
  {
   "cell_type": "code",
   "execution_count": 23,
   "metadata": {
    "collapsed": false
   },
   "outputs": [
    {
     "data": {
      "text/plain": [
       "16"
      ]
     },
     "execution_count": 23,
     "metadata": {},
     "output_type": "execute_result"
    }
   ],
   "source": [
    "lin([20, 3, 19, 1, 15, 6])"
   ]
  },
  {
   "cell_type": "code",
   "execution_count": 24,
   "metadata": {
    "collapsed": false
   },
   "outputs": [
    {
     "name": "stdout",
     "output_type": "stream",
     "text": [
      "         30008 function calls in 0.026 seconds\n",
      "\n",
      "   Ordered by: standard name\n",
      "\n",
      "   ncalls  tottime  percall  cumtime  percall filename:lineno(function)\n",
      "        1    0.004    0.004    0.005    0.005 <ipython-input-11-05f49758ed89>:1(make_prices)\n",
      "        1    0.015    0.015    0.020    0.020 <ipython-input-22-21a4740e4169>:1(lin)\n",
      "        1    0.000    0.000    0.026    0.026 <string>:1(<module>)\n",
      "        1    0.000    0.000    0.000    0.000 {len}\n",
      "    10000    0.003    0.000    0.003    0.000 {max}\n",
      "        1    0.000    0.000    0.000    0.000 {method 'disable' of '_lsprof.Profiler' objects}\n",
      "    10000    0.001    0.000    0.001    0.000 {method 'random' of '_random.Random' objects}\n",
      "     9999    0.002    0.000    0.002    0.000 {min}\n",
      "        4    0.001    0.000    0.001    0.000 {range}\n",
      "\n",
      "\n"
     ]
    }
   ],
   "source": [
    "cProfile.run(\"lin(make_prices(10000))\")"
   ]
  },
  {
   "cell_type": "code",
   "execution_count": null,
   "metadata": {
    "collapsed": true
   },
   "outputs": [],
   "source": []
  }
 ],
 "metadata": {
  "kernelspec": {
   "display_name": "Python 2",
   "language": "python",
   "name": "python2"
  },
  "language_info": {
   "codemirror_mode": {
    "name": "ipython",
    "version": 2
   },
   "file_extension": ".py",
   "mimetype": "text/x-python",
   "name": "python",
   "nbconvert_exporter": "python",
   "pygments_lexer": "ipython2",
   "version": "2.7.8"
  }
 },
 "nbformat": 4,
 "nbformat_minor": 0
}
