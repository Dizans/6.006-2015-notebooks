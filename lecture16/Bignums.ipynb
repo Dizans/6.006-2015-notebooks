{
 "metadata": {
  "name": "",
  "signature": "sha256:ff8db7a7ce6f2069bedf1431a8b199fdb097d0951db01fa47ff32a1ab74e8b78"
 },
 "nbformat": 3,
 "nbformat_minor": 0,
 "worksheets": [
  {
   "cells": [
    {
     "cell_type": "code",
     "collapsed": false,
     "input": [
      "class Number(list):\n",
      "    @staticmethod\n",
      "    def wrap(n):\n",
      "        return Number(reversed([ord(c) - ord('0') for c in str(n)]))\n",
      "    \n",
      "    def __repr__(self):\n",
      "        return ''.join([str(d) for d in reversed(self)])"
     ],
     "language": "python",
     "metadata": {},
     "outputs": [],
     "prompt_number": 22
    },
    {
     "cell_type": "code",
     "collapsed": false,
     "input": [
      "a = Number.wrap(11)\n",
      "b = Number.wrap(12)\n",
      "a, b\n",
      "list(a), list(b)"
     ],
     "language": "python",
     "metadata": {},
     "outputs": [
      {
       "metadata": {},
       "output_type": "pyout",
       "prompt_number": 37,
       "text": [
        "([1, 1], [2, 1])"
       ]
      }
     ],
     "prompt_number": 37
    },
    {
     "cell_type": "heading",
     "level": 2,
     "metadata": {},
     "source": [
      "# Addition"
     ]
    },
    {
     "cell_type": "code",
     "collapsed": false,
     "input": [
      "def add(a, b):\n",
      "    c = Number()\n",
      "    carry = 0\n",
      "    for i in range(max(len(a), len(b))):\n",
      "        r = carry + (a[i] if i < len(a) else 0) + (b[i] if i < len(b) else 0)\n",
      "        c.append(r % 10)\n",
      "        carry = r / 10\n",
      "    if carry > 0:\n",
      "        c.append(carry)\n",
      "    return c\n",
      "\n",
      "Number.__add__ = add\n"
     ],
     "language": "python",
     "metadata": {},
     "outputs": [],
     "prompt_number": 63
    },
    {
     "cell_type": "code",
     "collapsed": false,
     "input": [
      "Number.wrap(6) + Number.wrap(7)"
     ],
     "language": "python",
     "metadata": {},
     "outputs": [
      {
       "metadata": {},
       "output_type": "pyout",
       "prompt_number": 64,
       "text": [
        "13"
       ]
      }
     ],
     "prompt_number": 64
    },
    {
     "cell_type": "code",
     "collapsed": false,
     "input": [
      "Number.wrap(6) + Number.wrap(70)"
     ],
     "language": "python",
     "metadata": {},
     "outputs": [
      {
       "metadata": {},
       "output_type": "pyout",
       "prompt_number": 65,
       "text": [
        "76"
       ]
      }
     ],
     "prompt_number": 65
    },
    {
     "cell_type": "markdown",
     "metadata": {},
     "source": [
      "# Substraction"
     ]
    },
    {
     "cell_type": "code",
     "collapsed": false,
     "input": [
      "def sub(a, b):\n",
      "    c = Number()\n",
      "    carry = 0\n",
      "    for i in range(max(len(a), len(b))):\n",
      "        r = carry + (a[i] if i < len(a) else 0) - (b[i] if i < len(b) else 0)\n",
      "        carry = 0 \n",
      "        while r < 0:\n",
      "            r += 10\n",
      "            carry -= 1\n",
      "        c.append(r % 10)\n",
      "    assert carry == 0, \"negative result\"\n",
      "    while len(c) > 1 and c[-1] == 0:\n",
      "        c.pop()\n",
      "    return c\n",
      "Number.__sub__ = sub"
     ],
     "language": "python",
     "metadata": {},
     "outputs": [],
     "prompt_number": 80
    },
    {
     "cell_type": "code",
     "collapsed": false,
     "input": [
      "a, b = Number.wrap(7), Number.wrap(6)\n",
      "sub(a,b)"
     ],
     "language": "python",
     "metadata": {},
     "outputs": [
      {
       "metadata": {},
       "output_type": "pyout",
       "prompt_number": 81,
       "text": [
        "1"
       ]
      }
     ],
     "prompt_number": 81
    },
    {
     "cell_type": "code",
     "collapsed": false,
     "input": [
      "Number.wrap(70) - Number.wrap(6)"
     ],
     "language": "python",
     "metadata": {},
     "outputs": [
      {
       "metadata": {},
       "output_type": "pyout",
       "prompt_number": 82,
       "text": [
        "64"
       ]
      }
     ],
     "prompt_number": 82
    },
    {
     "cell_type": "code",
     "collapsed": false,
     "input": [
      "Number.wrap(70) - Number.wrap(70)"
     ],
     "language": "python",
     "metadata": {},
     "outputs": [
      {
       "metadata": {},
       "output_type": "pyout",
       "prompt_number": 83,
       "text": [
        "0"
       ]
      }
     ],
     "prompt_number": 83
    },
    {
     "cell_type": "markdown",
     "metadata": {},
     "source": [
      "# Multiplication by digit"
     ]
    },
    {
     "cell_type": "code",
     "collapsed": false,
     "input": [
      "def mul_by_digit(number, digit):\n",
      "    res = Number()\n",
      "    carry = 0\n",
      "    for i in range(len(number)):\n",
      "        r = carry + number[i] * digit\n",
      "        res.append(r % 10)\n",
      "        carry = r / 10\n",
      "    if carry > 0:\n",
      "        res.append(carry)\n",
      "    return res"
     ],
     "language": "python",
     "metadata": {},
     "outputs": [],
     "prompt_number": 126
    },
    {
     "cell_type": "code",
     "collapsed": false,
     "input": [
      "mul_by_digit(Number.wrap(123), 9)"
     ],
     "language": "python",
     "metadata": {},
     "outputs": [
      {
       "metadata": {},
       "output_type": "pyout",
       "prompt_number": 127,
       "text": [
        "1107"
       ]
      }
     ],
     "prompt_number": 127
    },
    {
     "cell_type": "markdown",
     "metadata": {},
     "source": [
      "# Karatsuba Multiplication"
     ]
    },
    {
     "cell_type": "code",
     "collapsed": false,
     "input": [
      "def mul(a, b):\n",
      "    if len(a) < len(b):\n",
      "        a, b = b, a\n",
      "    # now a is longer of the two\n",
      "    assert len(a) >= len(b)\n",
      "    if len(b) == 0:\n",
      "        return Number.wrap(0)\n",
      "    elif len(b) == 1:\n",
      "        return mul_by_digit(a, b[0])\n",
      "    \n",
      "    mid = len(a) / 2\n",
      "    y1, x1 = a[:mid], a[mid:]\n",
      "    y2, x2 = b[:mid], b[mid:]\n",
      "    H = mul(x1, x2)\n",
      "    L = mul(y1, y2)\n",
      "    M = mul(add(x1,y1), add(x2,y2))\n",
      "    M = sub(M,H)\n",
      "    M = sub(M,L)\n",
      "    \n",
      "    res = Number([0] * (2 * mid) + list(H)) + Number([0] * (mid) + list(M))   + L\n",
      "    return res"
     ],
     "language": "python",
     "metadata": {},
     "outputs": [],
     "prompt_number": 116
    },
    {
     "cell_type": "code",
     "collapsed": false,
     "input": [
      "mul(Number.wrap(123), Number.wrap(11))"
     ],
     "language": "python",
     "metadata": {},
     "outputs": [
      {
       "metadata": {},
       "output_type": "pyout",
       "prompt_number": 124,
       "text": [
        "1353"
       ]
      }
     ],
     "prompt_number": 124
    },
    {
     "cell_type": "code",
     "collapsed": false,
     "input": [
      "for a in range(1112):\n",
      "    for b in range(123):\n",
      "        A,B = Number.wrap(a), Number.wrap(b)\n",
      "        assert int(str(mul(A, B))) == a*b"
     ],
     "language": "python",
     "metadata": {},
     "outputs": [],
     "prompt_number": 123
    },
    {
     "cell_type": "markdown",
     "metadata": {},
     "source": [
      "# Multiplication"
     ]
    },
    {
     "cell_type": "code",
     "collapsed": false,
     "input": [
      "def sqrt(a):\n",
      "    nextx, x = None, a\n",
      "    while True:\n",
      "        print(x)\n",
      "        nextx = (x + (a/x)) / 2\n",
      "        if x == nextx:\n",
      "            break\n",
      "        x = nextx\n",
      "    return x"
     ],
     "language": "python",
     "metadata": {},
     "outputs": [],
     "prompt_number": 52
    },
    {
     "cell_type": "code",
     "collapsed": false,
     "input": [
      "sqrt(734 * 734)"
     ],
     "language": "python",
     "metadata": {},
     "outputs": [
      {
       "output_type": "stream",
       "stream": "stdout",
       "text": [
        "538756\n",
        "269378\n",
        "134690\n",
        "67346\n",
        "33676\n",
        "16845\n",
        "8438\n",
        "4250\n",
        "2188\n",
        "1217\n",
        "829\n",
        "739\n",
        "734\n"
       ]
      },
      {
       "metadata": {},
       "output_type": "pyout",
       "prompt_number": 55,
       "text": [
        "734"
       ]
      }
     ],
     "prompt_number": 55
    },
    {
     "cell_type": "code",
     "collapsed": false,
     "input": [
      "sqrt(735 * 735 + 10)"
     ],
     "language": "python",
     "metadata": {},
     "outputs": [
      {
       "output_type": "stream",
       "stream": "stdout",
       "text": [
        "540235\n",
        "270118\n",
        "135059\n",
        "67531\n",
        "33769\n",
        "16892\n",
        "8461\n",
        "4262\n",
        "2194\n",
        "1220\n",
        "831\n",
        "740\n",
        "735\n"
       ]
      },
      {
       "metadata": {},
       "output_type": "pyout",
       "prompt_number": 58,
       "text": [
        "735"
       ]
      }
     ],
     "prompt_number": 58
    },
    {
     "cell_type": "code",
     "collapsed": false,
     "input": [
      "sqrt(735 * 735 - 10)"
     ],
     "language": "python",
     "metadata": {},
     "outputs": [
      {
       "output_type": "stream",
       "stream": "stdout",
       "text": [
        "540215\n",
        "270108\n",
        "135054\n",
        "67528\n",
        "33767\n",
        "16891\n",
        "8461\n",
        "4262\n",
        "2194\n",
        "1220\n",
        "831\n",
        "740\n",
        "735\n",
        "734\n"
       ]
      },
      {
       "metadata": {},
       "output_type": "pyout",
       "prompt_number": 59,
       "text": [
        "734"
       ]
      }
     ],
     "prompt_number": 59
    },
    {
     "cell_type": "code",
     "collapsed": false,
     "input": [],
     "language": "python",
     "metadata": {},
     "outputs": []
    }
   ],
   "metadata": {}
  }
 ]
}