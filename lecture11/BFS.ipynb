{
 "cells": [
  {
   "cell_type": "code",
   "execution_count": 11,
   "metadata": {
    "collapsed": true
   },
   "outputs": [],
   "source": [
    "from collections import defaultdict\n",
    "from igraph import Graph as PlottableGraph, plot, layout, Plot"
   ]
  },
  {
   "cell_type": "code",
   "execution_count": 79,
   "metadata": {
    "collapsed": false
   },
   "outputs": [],
   "source": [
    "class Graph(object):\n",
    "    def __init__(self):\n",
    "        self.adj = defaultdict(lambda: [])\n",
    "        \n",
    "    def add_edge(self, a, b):\n",
    "        self.adj[a].append(b)\n",
    "        self.adj[b].append(a)\n",
    "        \n",
    "    def draw(self, root):\n",
    "        graph = PlottableGraph()\n",
    "        figure = Plot(bbox=(800, 600))\n",
    "        for name in self.adj:\n",
    "            graph.add_vertex(name=name, label=name)\n",
    "        for name, neighbors in self.adj.items():\n",
    "            for neighbor in neighbors:\n",
    "                if name < neighbor:\n",
    "                    graph.add_edge(name, neighbor, color=\"black\")\n",
    "        for vv in graph.vs:\n",
    "            if vv.attributes()[\"name\"] == root:\n",
    "                root = vv.index\n",
    "                break\n",
    "                    \n",
    "        figure.add(graph, layout=graph.layout(\"kk\"), margin = 100,\n",
    "                          vertex_label_dist=1, root=root)\n",
    "        return figure"
   ]
  },
  {
   "cell_type": "code",
   "execution_count": 90,
   "metadata": {
    "collapsed": true
   },
   "outputs": [],
   "source": [
    "def bfs(graph, start):\n",
    "    node_to_depth = {start: 0}\n",
    "    parent = {start:None}\n",
    "    \n",
    "    next_level = [start]\n",
    "    while len(next_level) > 0:\n",
    "        print (\"Level %d:\" % (node_to_depth[next_level[0]],))\n",
    "        current_level = next_level\n",
    "        next_level = []\n",
    "        for node in current_level:\n",
    "            print \"    \", node\n",
    "            for neighbor in graph.adj[node]:\n",
    "                if neighbor not in node_to_depth:\n",
    "                    node_to_depth[neighbor] = node_to_depth[node] + 1\n",
    "                    parent[neighbor] = node\n",
    "                    next_level.append(neighbor)\n",
    "    return node_to_depth, parent"
   ]
  },
  {
   "cell_type": "code",
   "execution_count": 80,
   "metadata": {
    "collapsed": false
   },
   "outputs": [],
   "source": [
    "g = Graph()\n",
    "g.add_edge(\"START\", \"study_hard\")\n",
    "g.add_edge(\"study_hard\", \"mit\")\n",
    "g.add_edge(\"study_hard\", \"giveup\")\n",
    "g.add_edge(\"study_hard\", \"get_a_real_job\")\n",
    "g.add_edge(\"study_hard\", \"start_a_business\")\n",
    "g.add_edge(\"start_a_business\", \"marry\")\n",
    "g.add_edge(\"get_a_real_job\", \"marry\")\n",
    "g.add_edge(\"marry\", \"HAPPY\")\n",
    "\n",
    "g.add_edge(\"giveup\", \"lookforjob\")\n",
    "g.add_edge(\"lookforjob\", \"mcdonalds\")\n",
    "g.add_edge(\"mcdonalds\", \"low_income\")\n",
    "\n",
    "g.add_edge(\"mit\", \"grad_school\")\n",
    "g.add_edge(\"grad_school\", \"low_income\")\n",
    "g.add_edge(\"low_income\", \"unsatisfied_demands\")\n",
    "g.add_edge(\"unsatisfied_demands\", \"DEPRESSION\")"
   ]
  },
  {
   "cell_type": "code",
   "execution_count": 81,
   "metadata": {
    "collapsed": false
   },
   "outputs": [
    {
     "data": {
      "image/png": "[encoded data removed]",
      "text/plain": [
       "<igraph.drawing.Plot at 0x7fd158921dd0>"
      ]
     },
     "execution_count": 81,
     "metadata": {},
     "output_type": "execute_result"
    }
   ],
   "source": [
    "g.draw(root=\"START\")"
   ]
  },
  {
   "cell_type": "code",
   "execution_count": 91,
   "metadata": {
    "collapsed": false
   },
   "outputs": [
    {
     "name": "stdout",
     "output_type": "stream",
     "text": [
      "Level 0:\n",
      "     START\n",
      "Level 1:\n",
      "     study_hard\n",
      "Level 2:\n",
      "     mit\n",
      "     giveup\n",
      "     get_a_real_job\n",
      "     start_a_business\n",
      "Level 3:\n",
      "     grad_school\n",
      "     lookforjob\n",
      "     marry\n",
      "Level 4:\n",
      "     low_income\n",
      "     mcdonalds\n",
      "     HAPPY\n",
      "Level 5:\n",
      "     unsatisfied_demands\n",
      "Level 6:\n",
      "     DEPRESSION\n"
     ]
    }
   ],
   "source": [
    "node_to_depth, parent = bfs(g, \"START\")"
   ]
  },
  {
   "cell_type": "code",
   "execution_count": 94,
   "metadata": {
    "collapsed": true
   },
   "outputs": [],
   "source": [
    "def get_shortest_path(node, parent):\n",
    "    result = []\n",
    "    while node is not None:\n",
    "        result.append(node)\n",
    "        node = parent[node]\n",
    "    return list(reversed(result))"
   ]
  },
  {
   "cell_type": "code",
   "execution_count": 95,
   "metadata": {
    "collapsed": false
   },
   "outputs": [
    {
     "data": {
      "text/plain": [
       "['START',\n",
       " 'study_hard',\n",
       " 'mit',\n",
       " 'grad_school',\n",
       " 'low_income',\n",
       " 'unsatisfied_demands',\n",
       " 'DEPRESSION']"
      ]
     },
     "execution_count": 95,
     "metadata": {},
     "output_type": "execute_result"
    }
   ],
   "source": [
    "get_shortest_path(\"DEPRESSION\", parent)"
   ]
  }
 ],
 "metadata": {
  "kernelspec": {
   "display_name": "Python 2",
   "language": "python",
   "name": "python2"
  },
  "language_info": {
   "codemirror_mode": {
    "name": "ipython",
    "version": 2
   },
   "file_extension": ".py",
   "mimetype": "text/x-python",
   "name": "python",
   "nbconvert_exporter": "python",
   "pygments_lexer": "ipython2",
   "version": "2.7.8"
  }
 },
 "nbformat": 4,
 "nbformat_minor": 0
}
