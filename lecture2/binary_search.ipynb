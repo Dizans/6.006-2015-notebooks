{
 "cells": [
  {
   "cell_type": "code",
   "execution_count": 230,
   "metadata": {
    "collapsed": true
   },
   "outputs": [],
   "source": [
    "import numpy as np\n",
    "from scipy.spatial.distance import cosine as cosine_similarity\n",
    "import random\n",
    "import cProfile"
   ]
  },
  {
   "cell_type": "markdown",
   "metadata": {},
   "source": [
    "# Binary search simulation\n",
    "\n",
    "To understand the kind of problems that computers need to deal with on daily bases I prepared a little simulation.\n",
    "\n",
    "You are given a hand of 20 sorted cards and your task is to find a particular card. Have fun!"
   ]
  },
  {
   "cell_type": "code",
   "execution_count": 172,
   "metadata": {
    "collapsed": false
   },
   "outputs": [],
   "source": [
    "def generated_ordered_cards():\n",
    "    cards = []\n",
    "    cards.extend(unichr(x) for x in range(127185, 127185 + 14))\n",
    "    cards.extend(unichr(x) for x in range(127169, 127169 + 14))\n",
    "    cards.extend(unichr(x) for x in range(127153, 127153 + 14))    \n",
    "    cards.extend(unichr(x) for x in range(127137, 127137 + 14))\n",
    "    return cards"
   ]
  },
  {
   "cell_type": "code",
   "execution_count": 175,
   "metadata": {
    "collapsed": false
   },
   "outputs": [],
   "source": [
    "DOMAIN = generated_ordered_cards()\n",
    "NUM_SAMPLES = 20\n",
    "\n",
    "class Problem(object):\n",
    "    def __init__(self):\n",
    "        self.elements = set()\n",
    "        while len(self.elements) < NUM_SAMPLES:\n",
    "            self.elements.add(random.choice(DOMAIN))\n",
    "        self.elements = sorted(list(self.elements), key=lambda x: DOMAIN.index(x))\n",
    "        self.hide_all()\n",
    "        self.query = random.choice(self.elements)\n",
    "    \n",
    "    def ask(self, position):\n",
    "        assert 0 <= position < NUM_SAMPLES\n",
    "        self.visible[position] = True\n",
    "        return self\n",
    "    \n",
    "    def hide_all(self):\n",
    "        self.visible = [False for _ in range(NUM_SAMPLES)]\n",
    "        \n",
    "    def _repr_html_(self):\n",
    "        els_html = []\n",
    "        for el_idx in range(len(self.elements)):\n",
    "            if self.visible[el_idx]:\n",
    "                els_html.append(\"<td style='text-align:center'><font size='5'><b>%s</b></font></td>\" % (self.elements[el_idx]))\n",
    "            else:\n",
    "                els_html.append(\"<td style='text-align:center;background:lightskyblue'<small><font color='grey'>%d</font></small></td>\" % (el_idx,))\n",
    "        header_html = u\"<center><h1>Find %s! (♣ < ♦ < ♥ < ♠)</h1></center><br />\" % (self.query,)\n",
    "        table_html  = \"<table width='100%%' height='50px' style='table-layout: fixed'><tr>%s</tr></table>\" % (\"\".join(els_html))\n",
    "        return header_html + table_html"
   ]
  },
  {
   "cell_type": "code",
   "execution_count": 180,
   "metadata": {
    "collapsed": false
   },
   "outputs": [
    {
     "data": {
      "text/html": [
       "<center><h1>Find 🃒! (♣ < ♦ < ♥ < ♠)</h1></center><br /><table width='100%' height='50px' style='table-layout: fixed'><tr><td style='text-align:center;background:lightskyblue'<small><font color='grey'>0</font></small></td><td style='text-align:center;background:lightskyblue'<small><font color='grey'>1</font></small></td><td style='text-align:center;background:lightskyblue'<small><font color='grey'>2</font></small></td><td style='text-align:center;background:lightskyblue'<small><font color='grey'>3</font></small></td><td style='text-align:center;background:lightskyblue'<small><font color='grey'>4</font></small></td><td style='text-align:center;background:lightskyblue'<small><font color='grey'>5</font></small></td><td style='text-align:center;background:lightskyblue'<small><font color='grey'>6</font></small></td><td style='text-align:center;background:lightskyblue'<small><font color='grey'>7</font></small></td><td style='text-align:center;background:lightskyblue'<small><font color='grey'>8</font></small></td><td style='text-align:center;background:lightskyblue'<small><font color='grey'>9</font></small></td><td style='text-align:center;background:lightskyblue'<small><font color='grey'>10</font></small></td><td style='text-align:center;background:lightskyblue'<small><font color='grey'>11</font></small></td><td style='text-align:center;background:lightskyblue'<small><font color='grey'>12</font></small></td><td style='text-align:center;background:lightskyblue'<small><font color='grey'>13</font></small></td><td style='text-align:center;background:lightskyblue'<small><font color='grey'>14</font></small></td><td style='text-align:center;background:lightskyblue'<small><font color='grey'>15</font></small></td><td style='text-align:center;background:lightskyblue'<small><font color='grey'>16</font></small></td><td style='text-align:center;background:lightskyblue'<small><font color='grey'>17</font></small></td><td style='text-align:center;background:lightskyblue'<small><font color='grey'>18</font></small></td><td style='text-align:center;background:lightskyblue'<small><font color='grey'>19</font></small></td></tr></table>"
      ],
      "text/plain": [
       "<__main__.Problem at 0x7f92a40697d0>"
      ]
     },
     "execution_count": 180,
     "metadata": {},
     "output_type": "execute_result"
    }
   ],
   "source": [
    "p = Problem()\n",
    "p"
   ]
  },
  {
   "cell_type": "code",
   "execution_count": 181,
   "metadata": {
    "collapsed": false
   },
   "outputs": [
    {
     "data": {
      "text/html": [
       "<center><h1>Find 🃒! (♣ < ♦ < ♥ < ♠)</h1></center><br /><table width='100%' height='50px' style='table-layout: fixed'><tr><td style='text-align:center;background:lightskyblue'<small><font color='grey'>0</font></small></td><td style='text-align:center;background:lightskyblue'<small><font color='grey'>1</font></small></td><td style='text-align:center;background:lightskyblue'<small><font color='grey'>2</font></small></td><td style='text-align:center;background:lightskyblue'<small><font color='grey'>3</font></small></td><td style='text-align:center;background:lightskyblue'<small><font color='grey'>4</font></small></td><td style='text-align:center;background:lightskyblue'<small><font color='grey'>5</font></small></td><td style='text-align:center;background:lightskyblue'<small><font color='grey'>6</font></small></td><td style='text-align:center;background:lightskyblue'<small><font color='grey'>7</font></small></td><td style='text-align:center;background:lightskyblue'<small><font color='grey'>8</font></small></td><td style='text-align:center;background:lightskyblue'<small><font color='grey'>9</font></small></td><td style='text-align:center'><font size='5'><b>🂶</b></font></td><td style='text-align:center;background:lightskyblue'<small><font color='grey'>11</font></small></td><td style='text-align:center;background:lightskyblue'<small><font color='grey'>12</font></small></td><td style='text-align:center;background:lightskyblue'<small><font color='grey'>13</font></small></td><td style='text-align:center;background:lightskyblue'<small><font color='grey'>14</font></small></td><td style='text-align:center;background:lightskyblue'<small><font color='grey'>15</font></small></td><td style='text-align:center;background:lightskyblue'<small><font color='grey'>16</font></small></td><td style='text-align:center;background:lightskyblue'<small><font color='grey'>17</font></small></td><td style='text-align:center;background:lightskyblue'<small><font color='grey'>18</font></small></td><td style='text-align:center;background:lightskyblue'<small><font color='grey'>19</font></small></td></tr></table>"
      ],
      "text/plain": [
       "<__main__.Problem at 0x7f92a40697d0>"
      ]
     },
     "execution_count": 181,
     "metadata": {},
     "output_type": "execute_result"
    }
   ],
   "source": [
    "p.ask(10)"
   ]
  },
  {
   "cell_type": "code",
   "execution_count": 182,
   "metadata": {
    "collapsed": false
   },
   "outputs": [
    {
     "data": {
      "text/html": [
       "<center><h1>Find 🃒! (♣ < ♦ < ♥ < ♠)</h1></center><br /><table width='100%' height='50px' style='table-layout: fixed'><tr><td style='text-align:center;background:lightskyblue'<small><font color='grey'>0</font></small></td><td style='text-align:center;background:lightskyblue'<small><font color='grey'>1</font></small></td><td style='text-align:center;background:lightskyblue'<small><font color='grey'>2</font></small></td><td style='text-align:center;background:lightskyblue'<small><font color='grey'>3</font></small></td><td style='text-align:center;background:lightskyblue'<small><font color='grey'>4</font></small></td><td style='text-align:center;background:lightskyblue'<small><font color='grey'>5</font></small></td><td style='text-align:center;background:lightskyblue'<small><font color='grey'>6</font></small></td><td style='text-align:center;background:lightskyblue'<small><font color='grey'>7</font></small></td><td style='text-align:center;background:lightskyblue'<small><font color='grey'>8</font></small></td><td style='text-align:center;background:lightskyblue'<small><font color='grey'>9</font></small></td><td style='text-align:center'><font size='5'><b>🂶</b></font></td><td style='text-align:center;background:lightskyblue'<small><font color='grey'>11</font></small></td><td style='text-align:center;background:lightskyblue'<small><font color='grey'>12</font></small></td><td style='text-align:center;background:lightskyblue'<small><font color='grey'>13</font></small></td><td style='text-align:center;background:lightskyblue'<small><font color='grey'>14</font></small></td><td style='text-align:center;background:lightskyblue'<small><font color='grey'>15</font></small></td><td style='text-align:center'><font size='5'><b>🂢</b></font></td><td style='text-align:center;background:lightskyblue'<small><font color='grey'>17</font></small></td><td style='text-align:center;background:lightskyblue'<small><font color='grey'>18</font></small></td><td style='text-align:center;background:lightskyblue'<small><font color='grey'>19</font></small></td></tr></table>"
      ],
      "text/plain": [
       "<__main__.Problem at 0x7f92a40697d0>"
      ]
     },
     "execution_count": 182,
     "metadata": {},
     "output_type": "execute_result"
    }
   ],
   "source": [
    "p.ask(16)"
   ]
  },
  {
   "cell_type": "markdown",
   "metadata": {},
   "source": []
  },
  {
   "cell_type": "markdown",
   "metadata": {},
   "source": [
    "# Binary search implemetation - GLOVE vectors\n",
    "\n",
    "Glove vectors try to assign vectors of numbers to words in surprising ways. One interesting property they have is\n",
    "ability to solve many analogies. For example:\n",
    "\n",
    "$$\n",
    "V_{\\text{berlin}} - V_{\\text{germany}} \\approx V_{\\text{paris}} - V_{\\text{france}}\n",
    "$$\n",
    "\n",
    "Today we will try to write an algorithm that can quickly find vectors from Glove database"
   ]
  },
  {
   "cell_type": "code",
   "execution_count": 5,
   "metadata": {
    "collapsed": false
   },
   "outputs": [],
   "source": [
    "class Glove(object):\n",
    "    def __init__(self, path):\n",
    "        self.word_vector = []\n",
    "        \n",
    "        with open(path) as f:\n",
    "            for line in f:\n",
    "                if len(line) < 1:\n",
    "                    break\n",
    "                line = line.split(' ')\n",
    "                word, vector = line[0], np.array([float(x) for x in line[1:]])\n",
    "                self.word_vector.append((word, vector))\n",
    "        self.word_vector.sort()\n",
    "        \n",
    "    def __call__(self, key):\n",
    "        return self.find_vector(key)\n",
    "        \n",
    "    def find_vector(self, key):\n",
    "        for word,vector in self.word_vector:\n",
    "            if word == key:\n",
    "                return vector\n",
    "        raise KeyError(key)\n",
    "        \n",
    "    def find_closest_word(self, key_vector,blacklist=[]):\n",
    "        best_similarity = float('inf')\n",
    "        best_word = None\n",
    "        for word, vector in self.word_vector:\n",
    "            if word in blacklist:\n",
    "                continue\n",
    "            similarity = cosine_similarity(vector, key_vector)\n",
    "            if best_similarity > similarity:\n",
    "                best_similarity = similarity\n",
    "                best_word = word\n",
    "        return best_word"
   ]
  },
  {
   "cell_type": "code",
   "execution_count": 24,
   "metadata": {
    "collapsed": false
   },
   "outputs": [],
   "source": [
    "# Download from http://nlp.stanford.edu/projects/glove/\n",
    "glove = Glove(\"/home/sidor/projects/Dali/data/glove/glove.6B.300d.txt\")\n"
   ]
  },
  {
   "cell_type": "code",
   "execution_count": 52,
   "metadata": {
    "collapsed": false
   },
   "outputs": [],
   "source": [
    "# this call is quite slow...\n",
    "def analogy(thisword, tothis, islikethis):\n",
    "    key_vector = glove(tothis) - glove(thisword) + glove(islikethis)\n",
    "    best_word = glove.find_closest_word(key_vector, blacklist=[thisword, tothis,islikethis])\n",
    "    print(\"%s is to %s like %s to <%s>\" % (thisword, tothis, islikethis, best_word,))"
   ]
  },
  {
   "cell_type": "code",
   "execution_count": 58,
   "metadata": {
    "collapsed": false
   },
   "outputs": [
    {
     "name": "stdout",
     "output_type": "stream",
     "text": [
      "germany is to berlin like france to <paris>\n"
     ]
    }
   ],
   "source": [
    "analogy(\"germany\", \"berlin\", \"france\")"
   ]
  },
  {
   "cell_type": "code",
   "execution_count": 46,
   "metadata": {
    "collapsed": false
   },
   "outputs": [
    {
     "name": "stdout",
     "output_type": "stream",
     "text": [
      "movie is to movies like school to <films>\n"
     ]
    }
   ],
   "source": [
    "analogy(\"movie\", \"movies\", \"school\")"
   ]
  },
  {
   "cell_type": "code",
   "execution_count": 57,
   "metadata": {
    "collapsed": false
   },
   "outputs": [
    {
     "name": "stdout",
     "output_type": "stream",
     "text": [
      "movie is to actor like school to <teacher>\n"
     ]
    }
   ],
   "source": [
    "analogy(\"movie\", \"actor\", \"school\")"
   ]
  },
  {
   "cell_type": "code",
   "execution_count": 55,
   "metadata": {
    "collapsed": false
   },
   "outputs": [
    {
     "name": "stdout",
     "output_type": "stream",
     "text": [
      "smaller is to small like bigger to <big>\n"
     ]
    }
   ],
   "source": [
    "analogy(\"smaller\", \"small\", \"bigger\")"
   ]
  },
  {
   "cell_type": "code",
   "execution_count": 56,
   "metadata": {
    "collapsed": false
   },
   "outputs": [
    {
     "name": "stdout",
     "output_type": "stream",
     "text": [
      "smaller is to small like big to <huge>\n"
     ]
    }
   ],
   "source": [
    "analogy(\"smaller\", \"small\", \"big\")"
   ]
  },
  {
   "cell_type": "code",
   "execution_count": 60,
   "metadata": {
    "collapsed": false
   },
   "outputs": [
    {
     "name": "stdout",
     "output_type": "stream",
     "text": [
      "one is to two like two to <three>\n"
     ]
    }
   ],
   "source": [
    "analogy(\"one\", \"two\", \"two\")"
   ]
  },
  {
   "cell_type": "code",
   "execution_count": 59,
   "metadata": {
    "collapsed": false
   },
   "outputs": [
    {
     "name": "stdout",
     "output_type": "stream",
     "text": [
      "king is to queen like man to <woman>\n"
     ]
    }
   ],
   "source": [
    "analogy(\"king\", \"queen\", \"man\")"
   ]
  },
  {
   "cell_type": "markdown",
   "metadata": {},
   "source": [
    "### Finding a vector given a word\n",
    "Notice that implementation of find_word above is quite naive:\n",
    "    \n",
    "```python\n",
    "    def find_vector(self, key):\n",
    "        for word,vector in self.word_vector:\n",
    "            if word == key:\n",
    "                return vector\n",
    "        raise KeyError(key)\n",
    "```\n",
    "\n",
    "Every query to look up a word takes about 100ms. This is not very good if we want to run millions of such queries per second!"
   ]
  },
  {
   "cell_type": "code",
   "execution_count": 69,
   "metadata": {
    "collapsed": false
   },
   "outputs": [
    {
     "name": "stdout",
     "output_type": "stream",
     "text": [
      "         4 function calls in 0.123 seconds\n",
      "\n",
      "   Ordered by: standard name\n",
      "\n",
      "   ncalls  tottime  percall  cumtime  percall filename:lineno(function)\n",
      "        1    0.000    0.000    0.123    0.123 <ipython-input-5-dbe6e5a0c3c4>:14(__call__)\n",
      "        1    0.123    0.123    0.123    0.123 <ipython-input-5-dbe6e5a0c3c4>:17(find_vector)\n",
      "        1    0.000    0.000    0.123    0.123 <string>:1(<module>)\n",
      "        1    0.000    0.000    0.000    0.000 {method 'disable' of '_lsprof.Profiler' objects}\n",
      "\n",
      "\n"
     ]
    }
   ],
   "source": [
    "cProfile.run('glove(\"zebra\")')"
   ]
  },
  {
   "cell_type": "markdown",
   "metadata": {},
   "source": [
    "### Implementation using binary search\n",
    "\n",
    "Here we perform binary search algorithm. List of words `glove.word_vectors` is sorted alphabetically. Now we wish to find index `i`, such that `glove.word_vectors[i][0] == key` for some `key` word.\n",
    "\n",
    "Let $l$ be the lowest index in our array (zero) and $h$ be the highest index in our array (in this case 400000 - 1). To find and index on which a particular word is stored we find the middle $m = (h + l) / 2$. If key at index $m$ (denoted $k_m$) is less than desired key $k^*$ we know that $k^*$ is on some index in range $(m, h)$ otherwise it is in range $(l, m-1)$. This idea can be recursively applied to all the subranges. Notice that with each query range size is halved, so the complexity of the solution is $O(\\log{(h - l)})$"
   ]
  },
  {
   "cell_type": "code",
   "execution_count": 70,
   "metadata": {
    "collapsed": false
   },
   "outputs": [],
   "source": [
    "def find_vector(self, key, lo=None, hi=None, debug=False):\n",
    "    # Make sure by default we search over entire table\n",
    "    if lo is None:\n",
    "        lo = 0\n",
    "    if hi is None:\n",
    "        hi = len(self.word_vector) - 1\n",
    "    \n",
    "    if lo > hi:\n",
    "        raise KeyError(key)\n",
    "    \n",
    "    mid = (hi + lo) / 2\n",
    "    word, vector = self.word_vector[mid]\n",
    "    if debug:\n",
    "        print(\"Looking for %s in range(%d, %d). Middle is %s\" % (key, lo, hi, word))\n",
    "\n",
    "    if word == key:\n",
    "        return vector\n",
    "    elif key < word:\n",
    "        return self.find_vector(key, lo, mid - 1, debug=debug)\n",
    "    else: # key > word\n",
    "        return self.find_vector(key, mid + 1, hi, debug=debug)\n",
    "    \n",
    "Glove.find_vector = find_vector"
   ]
  },
  {
   "cell_type": "code",
   "execution_count": 71,
   "metadata": {
    "collapsed": false
   },
   "outputs": [
    {
     "name": "stdout",
     "output_type": "stream",
     "text": [
      "Looking for zebra in range(0, 399999). Middle is jurnal\n",
      "Looking for zebra in range(200000, 399999). Middle is ramdass\n",
      "Looking for zebra in range(300000, 399999). Middle is syme\n",
      "Looking for zebra in range(350000, 399999). Middle is vadims\n",
      "Looking for zebra in range(375000, 399999). Middle is wilbarger\n",
      "Looking for zebra in range(387500, 399999). Middle is yevtushenko\n",
      "Looking for zebra in range(393750, 399999). Middle is zeughaus\n",
      "Looking for zebra in range(393750, 396873). Middle is zaa\n",
      "Looking for zebra in range(395312, 396873). Middle is zaremba\n",
      "Looking for zebra in range(396093, 396873). Middle is zehava\n",
      "Looking for zebra in range(396093, 396482). Middle is zayu\n",
      "Looking for zebra in range(396288, 396482). Middle is zeami\n",
      "Looking for zebra in range(396386, 396482). Middle is zeder\n",
      "Looking for zebra in range(396386, 396433). Middle is zebu\n",
      "Looking for zebra in range(396386, 396408). Middle is zebic\n",
      "Looking for zebra in range(396398, 396408). Middle is zebras\n",
      "Looking for zebra in range(396398, 396402). Middle is zebra\n"
     ]
    }
   ],
   "source": [
    "vec = glove.find_vector(\"zebra\", debug=True)"
   ]
  },
  {
   "cell_type": "code",
   "execution_count": 72,
   "metadata": {
    "collapsed": false
   },
   "outputs": [
    {
     "name": "stdout",
     "output_type": "stream",
     "text": [
      "Looking for ronrivest in range(0, 399999). Middle is jurnal\n",
      "Looking for ronrivest in range(200000, 399999). Middle is ramdass\n",
      "Looking for ronrivest in range(300000, 399999). Middle is syme\n",
      "Looking for ronrivest in range(300000, 349998). Middle is sensationalism\n",
      "Looking for ronrivest in range(300000, 324998). Middle is rs6\n",
      "Looking for ronrivest in range(300000, 312498). Middle is rescue\n",
      "Looking for ronrivest in range(306250, 312498). Middle is riveras\n",
      "Looking for ronrivest in range(309375, 312498). Middle is romero\n",
      "Looking for ronrivest in range(310937, 312498). Middle is rostekhnadzor\n",
      "Looking for ronrivest in range(310937, 311716). Middle is rosaleda\n",
      "Looking for ronrivest in range(310937, 311325). Middle is ronstadt\n",
      "Looking for ronrivest in range(310937, 311130). Middle is ronayne\n",
      "Looking for ronrivest in range(311034, 311130). Middle is rongbuk\n",
      "Looking for ronrivest in range(311083, 311130). Middle is ronin\n",
      "Looking for ronrivest in range(311107, 311130). Middle is ronni\n",
      "Looking for ronrivest in range(311119, 311130). Middle is rono\n",
      "Looking for ronrivest in range(311125, 311130). Middle is ronsard\n",
      "Looking for ronrivest in range(311125, 311126). Middle is ronon\n",
      "Looking for ronrivest in range(311126, 311126). Middle is ronquillo\n",
      "Not found!\n"
     ]
    }
   ],
   "source": [
    "try:\n",
    "    vec = glove.find_vector(\"ronrivest\", debug=True)\n",
    "except KeyError:\n",
    "    print(\"Not found!\")"
   ]
  },
  {
   "cell_type": "code",
   "execution_count": 73,
   "metadata": {
    "collapsed": false
   },
   "outputs": [
    {
     "name": "stdout",
     "output_type": "stream",
     "text": [
      "         21 function calls (5 primitive calls) in 0.000 seconds\n",
      "\n",
      "   Ordered by: standard name\n",
      "\n",
      "   ncalls  tottime  percall  cumtime  percall filename:lineno(function)\n",
      "        1    0.000    0.000    0.000    0.000 <ipython-input-5-dbe6e5a0c3c4>:14(__call__)\n",
      "     17/1    0.000    0.000    0.000    0.000 <ipython-input-70-eec181511d7b>:1(find_vector)\n",
      "        1    0.000    0.000    0.000    0.000 <string>:1(<module>)\n",
      "        1    0.000    0.000    0.000    0.000 {len}\n",
      "        1    0.000    0.000    0.000    0.000 {method 'disable' of '_lsprof.Profiler' objects}\n",
      "\n",
      "\n"
     ]
    }
   ],
   "source": [
    "cProfile.run('glove(\"zebra\")')"
   ]
  },
  {
   "cell_type": "markdown",
   "metadata": {
    "collapsed": true
   },
   "source": [
    "### Extra problems (not graded)\n",
    "1. Here's another way of thinking about binary search - we are looking for higest $x$ such that property $p(x)$ is true. For example if we are looking for index of a key in array $p(x) = k_x \\leq k^*$. Can you give examples of other properties that we can binary search over? What makes a property suitable for use in binary search?\n",
    "\n",
    "2. Binary search can **not** be used to minimize a quadratic function. Can you find a similar algorithm that can?"
   ]
  },
  {
   "cell_type": "code",
   "execution_count": null,
   "metadata": {
    "collapsed": false
   },
   "outputs": [],
   "source": [
    "# Hint to problem 2\n",
    "cyph = lambda x: chr((ord(x) + 64) % 128)\n",
    "''.join(map(cyph, \"\\t.34%!$`/&`30,)44).'`2!.'%`).`47/`0)%#%3l`#/.3)$%2`30,)44).'`)4`).`4(2%%`0)%#%3n\"))"
   ]
  }
 ],
 "metadata": {
  "kernelspec": {
   "display_name": "Python 2",
   "language": "python",
   "name": "python2"
  },
  "language_info": {
   "codemirror_mode": {
    "name": "ipython",
    "version": 2
   },
   "file_extension": ".py",
   "mimetype": "text/x-python",
   "name": "python",
   "nbconvert_exporter": "python",
   "pygments_lexer": "ipython2",
   "version": "2.7.8"
  }
 },
 "nbformat": 4,
 "nbformat_minor": 0
}
