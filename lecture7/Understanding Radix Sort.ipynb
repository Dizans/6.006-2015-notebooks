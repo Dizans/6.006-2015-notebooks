{
 "cells": [
  {
   "cell_type": "markdown",
   "metadata": {},
   "source": [
    "## Understanding radix sort\n",
    "\n",
    "First building block we will need is the `is_sorted` function. "
   ]
  },
  {
   "cell_type": "code",
   "execution_count": 1,
   "metadata": {
    "collapsed": true
   },
   "outputs": [],
   "source": [
    "def is_sorted(array):\n",
    "    \"\"\"Takes a sequence and returns true if an only if sequence is sorted.\"\"\"\n",
    "    # check all the n-1 pairs of adjacent elements for \n",
    "    # order violation\n",
    "    for i in xrange(1, len(array)):\n",
    "        if array[i-1] > array[i]:\n",
    "            return False\n",
    "    # if no violations, then by transitivity of < the sequence is sorted.\n",
    "    return True"
   ]
  },
  {
   "cell_type": "code",
   "execution_count": 2,
   "metadata": {
    "collapsed": false
   },
   "outputs": [
    {
     "name": "stdout",
     "output_type": "stream",
     "text": [
      "([1, 4, 6, 7, 8], True)\n",
      "([1, 4, 7, 6, 8], False)\n"
     ]
    }
   ],
   "source": [
    "# Verify implementation on few test cases\n",
    "example1 = [1,4,6,7,8]\n",
    "example2 = [1,4,7,6,8]\n",
    "print(example1, is_sorted(example1))\n",
    "print(example2, is_sorted(example2))"
   ]
  },
  {
   "cell_type": "markdown",
   "metadata": {},
   "source": [
    "## Stable sorting\n",
    "\n",
    "Python sort is stable. It means that if we have two elements that have the same value of *sorting key* they will appear in the output in the same order that they appeared in the input.\n",
    "\n",
    "Let's see an example: we have a list of pairs $(a,b)$ and we want to sort them in the nondecreasing order by $a$ and by nondecreasing $b$ if $a$'s are the same"
   ]
  },
  {
   "cell_type": "code",
   "execution_count": 3,
   "metadata": {
    "collapsed": false
   },
   "outputs": [
    {
     "data": {
      "text/plain": [
       "[(3, 1), (3, 2), (1, 1), (1, 2), (2, 2), (2, 1)]"
      ]
     },
     "execution_count": 3,
     "metadata": {},
     "output_type": "execute_result"
    }
   ],
   "source": [
    "example = [ (3,1),(3,2),(1,1),(1,2), (2,2),(2,1)]\n",
    "example"
   ]
  },
  {
   "cell_type": "markdown",
   "metadata": {},
   "source": [
    "We can achieve that by sorting first by $b$ and then **stable-sorting** by $a$."
   ]
  },
  {
   "cell_type": "code",
   "execution_count": 4,
   "metadata": {
    "collapsed": false
   },
   "outputs": [
    {
     "data": {
      "text/plain": [
       "[(3, 1), (1, 1), (2, 1), (3, 2), (1, 2), (2, 2)]"
      ]
     },
     "execution_count": 4,
     "metadata": {},
     "output_type": "execute_result"
    }
   ],
   "source": [
    "sorted_idx2 = sorted(example, key=lambda x: x[1])\n",
    "sorted_idx2"
   ]
  },
  {
   "cell_type": "code",
   "execution_count": 5,
   "metadata": {
    "collapsed": false
   },
   "outputs": [
    {
     "data": {
      "text/plain": [
       "[(1, 1), (1, 2), (2, 1), (2, 2), (3, 1), (3, 2)]"
      ]
     },
     "execution_count": 5,
     "metadata": {},
     "output_type": "execute_result"
    }
   ],
   "source": [
    "sorted_idx12 = sorted(sorted_idx2, key=lambda x: x[0])\n",
    "sorted_idx12"
   ]
  },
  {
   "cell_type": "markdown",
   "metadata": {},
   "source": [
    "### Unstable sort example\n",
    "\n",
    "Sort does no have to be stable. For example merge sort isn't."
   ]
  },
  {
   "cell_type": "code",
   "execution_count": 6,
   "metadata": {
    "collapsed": false
   },
   "outputs": [],
   "source": [
    "class MaxHeap(object):\n",
    "    def __init__(self, array, key):\n",
    "        self.storage = array\n",
    "        self.heap_size = len(array)\n",
    "        self.key = key\n",
    "        self.heapify()\n",
    "    \n",
    "    def fix_down(self, index):\n",
    "        while index < self.heap_size:\n",
    "            # pick maximum child\n",
    "            max_child_idx = None\n",
    "            if  2 * index + 1 < self.heap_size:\n",
    "                max_child_idx = 2 * index + 1\n",
    "\n",
    "            if 2 * index + 2 < self.heap_size and \\\n",
    "                    self.key(self.storage[2 * index + 1]) < self.key(self.storage[2 * index + 2]):\n",
    "                max_child_idx = 2 * index + 2\n",
    "\n",
    "            if max_child_idx is None or \\\n",
    "                    self.key(self.storage[index]) > self.key(self.storage[max_child_idx]):\n",
    "                # heap property satisfied\n",
    "                break\n",
    "            \n",
    "            self.storage[index], self.storage[max_child_idx] = self.storage[max_child_idx], self.storage[index]\n",
    "            index = max_child_idx\n",
    "            \n",
    "    def fix_up(self, index):\n",
    "        assert index < self.heap_size\n",
    "        while index > 0:\n",
    "            parent_idx = (index - 1) // 2\n",
    "            if self.key(self.storage[index]) >= self.key(self.storage[parent_idx]):\n",
    "                self.storage[index],  self.storage[parent_idx] =  self.storage[parent_idx], self.storage[index]\n",
    "                index = parent_idx\n",
    "            else:\n",
    "                break\n",
    "    def extract_max(self):\n",
    "        self.storage[0], self.storage[self.heap_size - 1] = self.storage[self.heap_size -1], self.storage[0]\n",
    "        self.heap_size -= 1\n",
    "        self.fix_down(0)\n",
    "        return self.storage[self.heap_size]\n",
    "        \n",
    "    def heapify(self):\n",
    "        for i in range(self.heap_size - 1, -1, -1):\n",
    "            self.fix_down(i)\n",
    "            \n",
    "def heap_sort(array, key=lambda x:x):\n",
    "    h = MaxHeap(array[:], key)\n",
    "    while h.heap_size > 0:\n",
    "        h.extract_max()\n",
    "    return h.storage"
   ]
  },
  {
   "cell_type": "code",
   "execution_count": 7,
   "metadata": {
    "collapsed": false
   },
   "outputs": [
    {
     "data": {
      "text/plain": [
       "[(2, 1), (1, 1), (3, 1), (2, 2), (3, 2), (1, 2)]"
      ]
     },
     "execution_count": 7,
     "metadata": {},
     "output_type": "execute_result"
    }
   ],
   "source": [
    "sorted_idx2 = heap_sort(example, key=lambda x: x[1])\n",
    "sorted_idx2"
   ]
  },
  {
   "cell_type": "code",
   "execution_count": 8,
   "metadata": {
    "collapsed": false
   },
   "outputs": [
    {
     "name": "stdout",
     "output_type": "stream",
     "text": [
      "[(1, 2), (1, 1), (2, 1), (2, 2), (3, 1), (3, 2)]\n",
      "Notice that secondary sorting criterion is violated.\n"
     ]
    }
   ],
   "source": [
    "sorted_idx12 = heap_sort(sorted_idx2, key=lambda x: x[0])\n",
    "print(sorted_idx12)\n",
    "print(\"Notice that secondary sorting criterion is violated.\")"
   ]
  },
  {
   "cell_type": "markdown",
   "metadata": {},
   "source": [
    "## Counting Sort\n",
    "\n",
    "In order to keep complexity at $O(n)$, we will need to divise a procude that sorts without using comparisons.\n",
    "\n",
    "Assume we only have elements $0, 1, ..., (k-1)$ in the array. We know that all zeros come before all ones etc. We can therefore put all the numbers in $k$ different buckets and later read them off."
   ]
  },
  {
   "cell_type": "code",
   "execution_count": 9,
   "metadata": {
    "collapsed": false
   },
   "outputs": [],
   "source": [
    "def count_sort(array, k, key=lambda x: x):\n",
    "    \"\"\"Stable sorts array by using key to determine ordering of elements.\n",
    "    \n",
    "    Assumes all elements are in range(0, k)\"\"\"\n",
    "    # initialize array \n",
    "    buckets = [[] for _ in range(k)]\n",
    "    # for every key store all the elements\n",
    "    # with that key\n",
    "    for element in array:\n",
    "        buckets[key(element)].append(element)\n",
    "    output = []\n",
    "    # red numbers from buckets in order\n",
    "    for bucket in buckets:\n",
    "        for element in bucket:\n",
    "            output.append(element)\n",
    "    return output"
   ]
  },
  {
   "cell_type": "code",
   "execution_count": 10,
   "metadata": {
    "collapsed": false
   },
   "outputs": [
    {
     "data": {
      "text/plain": [
       "[1, 2, 2, 3, 4, 5, 5]"
      ]
     },
     "execution_count": 10,
     "metadata": {},
     "output_type": "execute_result"
    }
   ],
   "source": [
    "count_sort([4,3,2,5,5,1,2], 10)"
   ]
  },
  {
   "cell_type": "markdown",
   "metadata": {},
   "source": [
    "### Count sort complexity analysis\n",
    "\n",
    "We have the following steps:\n",
    "- allocate space for $b$ buckets: $O(b)$\n",
    "- loop throgh all the elements in the input array and put them in buckets $O(n)$\n",
    "- remove elements from the buckets $O(n)$\n",
    "\n",
    "Therefore the total complexity is $O(n+b)$\n"
   ]
  },
  {
   "cell_type": "markdown",
   "metadata": {},
   "source": [
    "## Radix sort idea\n",
    "\n",
    "Imagine that you want to compare two long numbers. For example 85823421348134214 and  85823421348452456. The algorithm you would use is to compare the first digit and if it is the same then compare the next digit etc. We can say that first digit is the primary comparison criterion, second digit is the secondary sorting criterion etc. This is almost correct, but we actually need to make sure that we add extra zeros at the beginning of the number that is shorter (because sorter numbers come before longer numbers). \n",
    "\n",
    "Radix sort uses this idea directly for sorting. It first sorts the numbers by last digit. The it *stable-sorts* it by the second to last digit (making second to last digit primary sorting criterion and the last digit secondary sorting criterion) and so on. At the end of that process we end up with digitst sorted in exactly the order we discussed above.\n",
    "\n",
    "To implement that idea let's first look at how we would obtain the digits. "
   ]
  },
  {
   "cell_type": "code",
   "execution_count": 11,
   "metadata": {
    "collapsed": true
   },
   "outputs": [],
   "source": [
    "def ith_digit(number, i):\n",
    "    \"\"\"Returns the i-th digit from the end. \n",
    "    \n",
    "    i=0 resuts the very last digit.\"\"\"\n",
    "    for _ in range(i):\n",
    "        number /= 10\n",
    "    return number % 10"
   ]
  },
  {
   "cell_type": "code",
   "execution_count": 12,
   "metadata": {
    "collapsed": false
   },
   "outputs": [
    {
     "name": "stdout",
     "output_type": "stream",
     "text": [
      "3\n",
      "2\n",
      "1\n",
      "0\n",
      "0\n"
     ]
    }
   ],
   "source": [
    "print(ith_digit(123, 0))\n",
    "print(ith_digit(123, 1))\n",
    "print(ith_digit(123, 2))\n",
    "print(ith_digit(123, 3))\n",
    "print(ith_digit(123, 4))"
   ]
  },
  {
   "cell_type": "markdown",
   "metadata": {},
   "source": [
    "Sweet! We have a function that returns i-th digit and it even yields additional zeros in the front - just what we needed.\n",
    "\n",
    "\n",
    "## Radix Sort using digit $i$ from the end\n",
    "\n",
    "The idea is to use count sort with the digit being the key. \n",
    "\n",
    "For example if we sort `[123, 42, 73]` by the last digit, bucket nr 2 will have one number `[42]`, while bucket number three would have two numbers `[123, 73]`, while the remaining eight buckets would be empty. It is imporant that bucket nr two has `[123, 73]` not `[73, 123]` - this way if we read out the numbers in order they appear in the buckets we will get a stable sort."
   ]
  },
  {
   "cell_type": "code",
   "execution_count": 13,
   "metadata": {
    "collapsed": true
   },
   "outputs": [],
   "source": [
    "def radix_sort_by_ith_digit(array, i):\n",
    "    return count_sort(array, \n",
    "                      10,     # we have 10 different digits.\n",
    "                      key=lambda number: ith_digit(number, i)) # use i-th digit as a key."
   ]
  },
  {
   "cell_type": "code",
   "execution_count": 14,
   "metadata": {
    "collapsed": false
   },
   "outputs": [
    {
     "data": {
      "text/plain": [
       "[42, 123, 73]"
      ]
     },
     "execution_count": 14,
     "metadata": {},
     "output_type": "execute_result"
    }
   ],
   "source": [
    "# sort by the last digit\n",
    "pass1 = radix_sort_by_ith_digit([123,42,73], 0)\n",
    "pass1"
   ]
  },
  {
   "cell_type": "code",
   "execution_count": 15,
   "metadata": {
    "collapsed": false
   },
   "outputs": [
    {
     "data": {
      "text/plain": [
       "[123, 42, 73]"
      ]
     },
     "execution_count": 15,
     "metadata": {},
     "output_type": "execute_result"
    }
   ],
   "source": [
    "# sort result of previous pass by the second to last digit\n",
    "pass2 = radix_sort_by_ith_digit(pass1, 1)\n",
    "pass2"
   ]
  },
  {
   "cell_type": "code",
   "execution_count": 16,
   "metadata": {
    "collapsed": false
   },
   "outputs": [
    {
     "data": {
      "text/plain": [
       "[42, 73, 123]"
      ]
     },
     "execution_count": 16,
     "metadata": {},
     "output_type": "execute_result"
    }
   ],
   "source": [
    "# sort result of previous pass by the third to last digit\n",
    "# none of the numbers are longer than third digit, so we are done.\n",
    "pass3 = radix_sort_by_ith_digit(pass2, 2)\n",
    "pass3"
   ]
  },
  {
   "cell_type": "markdown",
   "metadata": {},
   "source": [
    "What happened above is exactly radix sort! Sort iteratively by digits further and further from the end until the sequence ends up sorted."
   ]
  },
  {
   "cell_type": "code",
   "execution_count": 17,
   "metadata": {
    "collapsed": true
   },
   "outputs": [],
   "source": [
    "def radix_sort(array):\n",
    "    \"\"\"Returns array sorted by i-th digit from the end.\n",
    "    \n",
    "    The sorting procedure is stable.\"\"\"\n",
    "    i = 0\n",
    "    while True:\n",
    "        if is_sorted(array):\n",
    "            # we stop once the array is sorted\n",
    "            # the latest this can happen is when \n",
    "            # we run the number of passes eqaul to\n",
    "            # the length of the longest number\n",
    "            break\n",
    "        # stable sort by i-th digit.\n",
    "        array = radix_sort_by_ith_digit(array, i)\n",
    "        i += 1\n",
    "    return array"
   ]
  },
  {
   "cell_type": "code",
   "execution_count": 18,
   "metadata": {
    "collapsed": false
   },
   "outputs": [
    {
     "data": {
      "text/plain": [
       "[42, 73, 123]"
      ]
     },
     "execution_count": 18,
     "metadata": {},
     "output_type": "execute_result"
    }
   ],
   "source": [
    "radix_sort([123,42,73])"
   ]
  },
  {
   "cell_type": "code",
   "execution_count": 19,
   "metadata": {
    "collapsed": false
   },
   "outputs": [
    {
     "data": {
      "text/plain": [
       "[42, 73, 123, 512, 524, 5214, 123123, 142124]"
      ]
     },
     "execution_count": 19,
     "metadata": {},
     "output_type": "execute_result"
    }
   ],
   "source": [
    "# harder example\n",
    "radix_sort([123,42,73, 123123, 142124, 524, 512, 5214])"
   ]
  },
  {
   "cell_type": "markdown",
   "metadata": {},
   "source": [
    "### Radix sort with different numeric base. \n",
    "\n",
    "Let's try to improve our algorithm slightly. Notice that the fact that we use digits in base $10$ is kind of arbitrary. How hard would it be to use any $b \\geq 2$? In theory all we should be required to do is to change the digit extraction procedure and the number of buckets. \n",
    "\n",
    "Let's start with the digits."
   ]
  },
  {
   "cell_type": "code",
   "execution_count": 20,
   "metadata": {
    "collapsed": true
   },
   "outputs": [],
   "source": [
    "def ith_digit(number, b, i):\n",
    "    \"\"\"Returns the i-th digit from the end (base b).\n",
    "    \n",
    "    i=0 resuts the very last digit.\"\"\"\n",
    "    for _ in range(i):\n",
    "        number /= b      # changed 10 to b\n",
    "    return number % b    # changed 10 to b"
   ]
  },
  {
   "cell_type": "code",
   "execution_count": 21,
   "metadata": {
    "collapsed": false
   },
   "outputs": [
    {
     "name": "stdout",
     "output_type": "stream",
     "text": [
      "7 mod 2\n",
      "1\n",
      "1\n",
      "1\n",
      "0\n",
      "0\n"
     ]
    }
   ],
   "source": [
    "print(\"7 mod 2\")\n",
    "print(ith_digit(7, 2, 0))\n",
    "print(ith_digit(7, 2, 1))\n",
    "print(ith_digit(7, 2, 2))\n",
    "print(ith_digit(7, 2, 3))\n",
    "print(ith_digit(7, 2, 4))"
   ]
  },
  {
   "cell_type": "code",
   "execution_count": 22,
   "metadata": {
    "collapsed": false
   },
   "outputs": [
    {
     "name": "stdout",
     "output_type": "stream",
     "text": [
      "7 mod 3\n",
      "1\n",
      "2\n",
      "0\n",
      "0\n",
      "0\n"
     ]
    }
   ],
   "source": [
    "print(\"7 mod 3\")\n",
    "print(ith_digit(7, 3, 0))\n",
    "print(ith_digit(7, 3, 1))\n",
    "print(ith_digit(7, 3, 2))\n",
    "print(ith_digit(7, 3, 3))\n",
    "print(ith_digit(7, 3, 4))"
   ]
  },
  {
   "cell_type": "markdown",
   "metadata": {},
   "source": [
    "Now we are ready to augment to radix_sort."
   ]
  },
  {
   "cell_type": "code",
   "execution_count": 23,
   "metadata": {
    "collapsed": true
   },
   "outputs": [],
   "source": [
    "def radix_sort_by_ith_digit(array, b, i):\n",
    "    \"\"\"Returns array sorted by i-th digit from the end (base b).\n",
    "    \n",
    "    The sorting procedure is stable.\"\"\"\n",
    "    return count_sort(array, b, key=lambda number: ith_digit(number, b, i))"
   ]
  },
  {
   "cell_type": "code",
   "execution_count": 24,
   "metadata": {
    "collapsed": true
   },
   "outputs": [],
   "source": [
    "def radix_sort(array, b):\n",
    "    \"\"\"Returns array sorted by i-th digit from the end.\n",
    "    \n",
    "    The sorting procedure is stable.\"\"\"\n",
    "    i = 0\n",
    "    while True:\n",
    "        if is_sorted(array):\n",
    "            # we stop once the array is sorted\n",
    "            # the latest this can happen is when \n",
    "            # we run the number of passes eqaul to\n",
    "            # the length of the longest number\n",
    "            break\n",
    "        print(\"Iteration %d\" % (i,))\n",
    "        # stable sort by i-th digit.\n",
    "        array = radix_sort_by_ith_digit(array, b, i)\n",
    "        i += 1\n",
    "    return array"
   ]
  },
  {
   "cell_type": "markdown",
   "metadata": {},
   "source": [
    "Let's try sorting in base $b=2$"
   ]
  },
  {
   "cell_type": "code",
   "execution_count": 25,
   "metadata": {
    "collapsed": false
   },
   "outputs": [
    {
     "name": "stdout",
     "output_type": "stream",
     "text": [
      "Iteration 0\n",
      "Iteration 1\n",
      "Iteration 2\n",
      "Iteration 3\n",
      "Iteration 4\n",
      "Iteration 5\n",
      "Iteration 6\n"
     ]
    },
    {
     "data": {
      "text/plain": [
       "[42, 73, 123]"
      ]
     },
     "execution_count": 25,
     "metadata": {},
     "output_type": "execute_result"
    }
   ],
   "source": [
    "radix_sort([123,42,73], 2)"
   ]
  },
  {
   "cell_type": "markdown",
   "metadata": {},
   "source": [
    "Whoah! 7 iterations? That is a lot to sort just 3 numbers. How about if we increase the base? Maybe $b=1000$ ?"
   ]
  },
  {
   "cell_type": "code",
   "execution_count": 26,
   "metadata": {
    "collapsed": false
   },
   "outputs": [
    {
     "name": "stdout",
     "output_type": "stream",
     "text": [
      "Iteration 0\n"
     ]
    },
    {
     "data": {
      "text/plain": [
       "[42, 73, 123]"
      ]
     },
     "execution_count": 26,
     "metadata": {},
     "output_type": "execute_result"
    }
   ],
   "source": [
    "radix_sort([123,42,73], 1000)"
   ]
  },
  {
   "cell_type": "markdown",
   "metadata": {},
   "source": [
    "Much better - we only have one iteration. Notice however that we have many more buckets than numbers - even though in theory we decrease number of iterations, now every iteration is dominated by looping through every bucket. In this example $1000$ buckets visited in one iteration are much worst than two buckets visited in $7$ iterations (total of $14$ acceses). Actually array acceses contribute another 3 operations per iteraions ($7 * 3 = 21$) adding up to total of $35$ operations, but this is still much less than $1000$."
   ]
  },
  {
   "cell_type": "code",
   "execution_count": 27,
   "metadata": {
    "collapsed": false
   },
   "outputs": [
    {
     "name": "stdout",
     "output_type": "stream",
     "text": [
      "Iteration 0\n",
      "Iteration 1\n",
      "Iteration 2\n"
     ]
    },
    {
     "data": {
      "text/plain": [
       "[42, 73, 123]"
      ]
     },
     "execution_count": 27,
     "metadata": {},
     "output_type": "execute_result"
    }
   ],
   "source": [
    "# much healthier choice\n",
    "radix_sort([123,42,73], 5)"
   ]
  },
  {
   "cell_type": "markdown",
   "metadata": {},
   "source": [
    "## Radix sort complexity analysis\n",
    "\n",
    "Let $b$ be the base and $n$ size of the array. Moreover let's assume that all the numbers in the array are less than or equal $a$.\n",
    "\n",
    "\n",
    "Single iteration of count sort is $O(n + b)$.\n",
    "\n",
    "How many iterations are there? At most as many as the number of digits in the longest number: O($log_b\\ a$)\n",
    "\n",
    "Therefore the total complexity of the algorithm is O($(n+b) log_b\\ a)$.\n",
    "\n",
    "In theory we often assume that both $b$ and $a$ are constants - they are after all independent of $n$ - they won't influence the run time as $n$ grows. That's why some theorists say that Radix Sort is $O(n)$."
   ]
  },
  {
   "cell_type": "markdown",
   "metadata": {},
   "source": [
    "## Exercises\n",
    "\n",
    "1. We said that the best possible algorithm that does sorting has complexity $O(n\\ lg\\ n)$. How is it possible that radix sort takes only $O(n)$ time? \n",
    "\n",
    "2. Can you come up with a sorting problem where it would be hard to use Radix Sort?"
   ]
  },
  {
   "cell_type": "markdown",
   "metadata": {},
   "source": [
    "# Be sure to checkout the Performance of Radix Sort notebook!"
   ]
  },
  {
   "cell_type": "markdown",
   "metadata": {},
   "source": [
    "# Aside: implementation of count sort from the lectures\n",
    "\n",
    "This implementation has the samee time and space complexity, but is faster in practice."
   ]
  },
  {
   "cell_type": "code",
   "execution_count": 28,
   "metadata": {
    "collapsed": true
   },
   "outputs": [],
   "source": [
    "def count_sort_from_the_lecture(array, k, key=lambda x: x):\n",
    "    # initialize array \n",
    "    count = [0 for _ in range(k)]\n",
    "    # for every key count the number of times\n",
    "    # it occurs\n",
    "    for element in array:\n",
    "        count[key(element)] += 1\n",
    "    # compute cumulative count of occurences\n",
    "    for i in range(1, k):\n",
    "        count[i] += count[i-1]\n",
    "    # create output array\n",
    "    output = [None for _ in range(len(array))]\n",
    "    # fill in output array computing slots using\n",
    "    # counts array\n",
    "    for i in range(len(array) - 1, -1, -1):\n",
    "        output[count[key(array[i])] - 1] = array[i]\n",
    "        count[key(array[i])] -= 1\n",
    "    return output"
   ]
  },
  {
   "cell_type": "code",
   "execution_count": 29,
   "metadata": {
    "collapsed": false
   },
   "outputs": [
    {
     "data": {
      "text/plain": [
       "[1, 2, 2, 3, 4, 5, 5]"
      ]
     },
     "execution_count": 29,
     "metadata": {},
     "output_type": "execute_result"
    }
   ],
   "source": [
    "count_sort_from_the_lecture([4,3,2,5,5,1,2], 10)"
   ]
  }
 ],
 "metadata": {
  "kernelspec": {
   "display_name": "Python 2",
   "language": "python",
   "name": "python2"
  },
  "language_info": {
   "codemirror_mode": {
    "name": "ipython",
    "version": 2
   },
   "file_extension": ".py",
   "mimetype": "text/x-python",
   "name": "python",
   "nbconvert_exporter": "python",
   "pygments_lexer": "ipython2",
   "version": "2.7.8"
  }
 },
 "nbformat": 4,
 "nbformat_minor": 0
}
