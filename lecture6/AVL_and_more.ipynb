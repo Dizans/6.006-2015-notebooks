{
 "cells": [
  {
   "cell_type": "code",
   "execution_count": 1,
   "metadata": {
    "collapsed": true
   },
   "outputs": [],
   "source": [
    "from collections import namedtuple\n",
    "from igraph import Graph, plot, layout, Plot\n",
    "%config InlineBackend.figure_format = 'png'"
   ]
  },
  {
   "cell_type": "markdown",
   "metadata": {},
   "source": [
    "# BST implementation\n",
    "\n",
    "Here's a simplified implementation of a Binary Search Tree. \n",
    "We will use it as a starting point for our AVL implementation."
   ]
  },
  {
   "cell_type": "code",
   "execution_count": 27,
   "metadata": {
    "collapsed": false
   },
   "outputs": [],
   "source": [
    "class Node(object):\n",
    "    def __init__(self, key):\n",
    "        # node key - this is the value we compare to determine where \n",
    "        # the node should be inserted.\n",
    "        self.key     = key\n",
    "        # left child (can be none if no child)\n",
    "        self.left    = None\n",
    "        # right child (can be none if no child)\n",
    "        self.right   = None\n",
    "        \n",
    "def BST_insert(where, key):\n",
    "    \"\"\"Inserts a node in a binary tree\"\"\"\n",
    "    if where is None:\n",
    "        # if we found a branch pointing to none, it means we\n",
    "        # can insert the node here\n",
    "        return Node(key)\n",
    "    elif key <= where.key:\n",
    "        # try inserting the node somewhere in the left subtree\n",
    "        where.left = BST_insert(where.left, key)\n",
    "    elif key > where.key:\n",
    "        # try inserting the node in the right subtree\n",
    "        where.right = BST_insert(where.right, key)\n",
    "    return where\n",
    "\n",
    "def BST_draw(node, g, display_height=False):\n",
    "    \"\"\"This method allows us to draw a binary tree.\n",
    "    \n",
    "    Don't worry about the implementation.\"\"\"\n",
    "    if node is None:\n",
    "        return\n",
    "    \n",
    "    if node.left is not None:\n",
    "        BST_draw(node.left,  g, display_height)\n",
    "        left_id = str(id(node.left))\n",
    "        left_color = \"black\"\n",
    "    else:\n",
    "        g.add_vertex(shape=0,)\n",
    "        left_id = len(g.vs) - 1\n",
    "        left_color = \"#00000000\"\n",
    "    \n",
    "    if node.right is not None:\n",
    "        BST_draw(node.right, g, display_height)\n",
    "        right_id = str(id(node.right))\n",
    "        right_color = \"black\"\n",
    "    else:\n",
    "        g.add_vertex(shape=0,)\n",
    "        right_id = len(g.vs) - 1\n",
    "        right_color = \"#00000000\"\n",
    "\n",
    "    label = str(node.key)\n",
    "    if display_height:\n",
    "        label = label + ' (height: %d)' % (node.height,)\n",
    "        \n",
    "    g.add_vertex(name=str(id(node)), label=label, \n",
    "                 shape=\"rectangle\", color=\"lightblue\")\n",
    "    if node.left is not None or node.right is not None:\n",
    "        g.add_edge(str(id(node)), left_id, color=left_color)\n",
    "        g.add_edge(str(id(node)), right_id, color=right_color)\n",
    "        \n",
    "        \n",
    "def BST_root_draw(root, display_height=False, width=500, height=300, margin=50):\n",
    "        figure = Plot(bbox=(width, height))\n",
    "        \n",
    "        g = Graph()\n",
    "        if root is not None:\n",
    "            BST_draw(root, g, display_height)\n",
    "            root_id = [i for i, node in enumerate(g.vs) if g.vs[i]['name'] == str(id(root))]\n",
    "            assert len(root_id) == 1\n",
    "            figure.add(g, layout = Graph.layout_reingold_tilford(g, mode=\"in\", root=root_id), \n",
    "                        bbox=(margin, margin, width-margin, height - margin), vertex_size=30)\n",
    "            return figure\n",
    "            \n",
    "class BST(object):\n",
    "    def __init__(self):\n",
    "        \"\"\"This is a BST wrapper class.\n",
    "        \n",
    "        Its main function is keeping track of the root and \n",
    "        initiating recursive calls.\"\"\"\n",
    "        self.root = None\n",
    "    \n",
    "    def insert(self, key):        \n",
    "        self.root = BST_insert(self.root, key)\n",
    "    \n",
    "    def draw(self, display_height=False, width=500, height=300, margin=50):\n",
    "        return BST_root_draw(self.root, display_height=display_height, width=width, height=height, margin=margin)\n"
   ]
  },
  {
   "cell_type": "markdown",
   "metadata": {},
   "source": [
    "# What's wrong with Binary Search Trees?\n",
    "\n",
    "AVL trees extend the Binary Search Trees, to provide better complexity guarantes. Both datastructures can implement any of insertion, deletion, successor etc. in $O(h)$. The difference is the fact that in case of BST height can be $O(n)$, while AVL guarantees height $O(lg \\ n)$. Let's try to understand this with an example:\n",
    "\n",
    "Inserting sorted sequence into BST makes it unbalanced."
   ]
  },
  {
   "cell_type": "code",
   "execution_count": 29,
   "metadata": {
    "collapsed": false
   },
   "outputs": [
    {
     "data": {
      "image/png": "[encoded data removed]",
      "text/plain": [
       "<igraph.drawing.Plot at 0x7f23d805f910>"
      ]
     },
     "execution_count": 29,
     "metadata": {},
     "output_type": "execute_result"
    }
   ],
   "source": [
    "tree = BST()\n",
    "for el in [1,2,3,4,5,6]:\n",
    "    tree.insert(el)\n",
    "tree.draw()"
   ]
  },
  {
   "cell_type": "markdown",
   "metadata": {},
   "source": [
    "What we would like to see is a tree that looks more like this:"
   ]
  },
  {
   "cell_type": "code",
   "execution_count": 5,
   "metadata": {
    "collapsed": false
   },
   "outputs": [
    {
     "data": {
      "image/png": "[encoded data removed]",
      "text/plain": [
       "<igraph.drawing.Plot at 0x7f23e845cc10>"
      ]
     },
     "execution_count": 5,
     "metadata": {},
     "output_type": "execute_result"
    }
   ],
   "source": [
    "tree = BST()\n",
    "for el in [4,2,1,3,6,5]:\n",
    "    tree.insert(el)\n",
    "tree.draw()"
   ]
  },
  {
   "cell_type": "markdown",
   "metadata": {},
   "source": [
    "# AVL trees\n",
    "\n",
    "We can see from above example that changing the order of insertions can result in balanced tree. However the point of BST (and most other datastructures) is to be able to update it online, as the updates arrive, without necessarily knowing the elements we are going to insert in the future. AVLs provide best of both worlds - they support online updates, and the updates always result in balanced trees. \n",
    "\n",
    "### AVL invariant\n",
    "\n",
    "Let $X$ be arbitrary node in AVL tree. Let $X_L$, $X_R$ be left and right children of $X$ respectively. Furthermore let $H_X$ be height of subtree rooted in $X$. AVL trees satisfy the following invariant:\n",
    "\n",
    "$$ \\left| H_{X_L} - H_{X_R} \\right| \\leq 1 $$\n",
    "\n",
    "It is satisfied before and after all the operations that we perform on an AVL tree. In this recitation we will implement AVL insertion that is capable of maintaining that invariant. Notice that BST by default does not satisfy this invariant (make sure you understand why).\n",
    "\n",
    "### AVL height\n",
    "\n",
    "First step on our journey to implement AVL trees is to keep track of tree height. To implement it we first need to make sure that we understand what $H_X$ actually means. Let's look at a definition:\n",
    "\n",
    "$$\n",
    "H_X=\n",
    "\\begin{cases}\n",
    "-1                &\\text{ if } X = NIL \\\\\n",
    "max(H_L, H_R) + 1 &\\text{otherwise}\n",
    "\\end{cases}\n",
    "$$\n",
    "\n",
    "Notice that this definition implies that heigh of a leaf is $0$. Alternative way to view this definition of height is the maximum number of edges we need to traverse to get from a node its some leaf (and $-1$ is a special case for convenience).\n",
    "\n",
    "One way to keep track of height is to calculate it every time in $O(h)$ complexity. This is a correct solution, but as we will soon find out, we will use the information about height too often to pay the extra $O(h)$ cost. Alternative solution is for every tree to store its height. Then all we need to do is to correct it every time the tree changes."
   ]
  },
  {
   "cell_type": "code",
   "execution_count": 30,
   "metadata": {
    "collapsed": true
   },
   "outputs": [],
   "source": [
    "class Node(object):\n",
    "    def __init__(self, key):\n",
    "        self.key     = key\n",
    "        self.left    = None\n",
    "        self.right   = None\n",
    "        # here it is!\n",
    "        self.height  = 0\n",
    "        \n",
    "    def recompute_height(self):\n",
    "        \"\"\"Updates the height variable.\n",
    "        \n",
    "        Should be run every time subtree changes.\n",
    "        Assumes children height values are correct.\"\"\"\n",
    "        # we assure left and right already has correct height computed.\n",
    "        # if they don't exists we assume height is -1\n",
    "        left_height  = self.left.height  if self.left  is not None else -1\n",
    "        right_height = self.right.height if self.right is not None else -1\n",
    "        # height computed using formula from above\n",
    "        self.height = max(left_height, right_height) + 1\n",
    "        \n",
    "    # This will be useful later!\n",
    "    def balance_factor(self):\n",
    "        \"\"\"Returns the difference in height of children subtrees:\n",
    "            H_L - H_R\n",
    "        \n",
    "        Absolute value of balance factor should be less than 1 after\n",
    "        each AVL operation.\"\"\"\n",
    "        left_height  = self.left.height  if self.left  is not None else -1\n",
    "        right_height = self.right.height if self.right is not None else -1\n",
    "        return left_height - right_height"
   ]
  },
  {
   "cell_type": "markdown",
   "metadata": {},
   "source": [
    "### Keeping track of height in AVL insertion\n",
    "\n",
    "It's really not that hard! We just need to make sure that whenever tree height could have changed we recompute the height. "
   ]
  },
  {
   "cell_type": "code",
   "execution_count": 8,
   "metadata": {
    "collapsed": true
   },
   "outputs": [],
   "source": [
    "def BST_insert(where, key):\n",
    "    \"\"\"Inserts a node in a binary tree\"\"\"\n",
    "    if where is None:\n",
    "        # if we found a branch pointing to none, it means we\n",
    "        # can insert the node here\n",
    "        return Node(key)\n",
    "    elif key <= where.key:\n",
    "        # try inserting the node somewhere in the left subtree\n",
    "        where.left = BST_insert(where.left, key)\n",
    "    elif key > where.key:\n",
    "        # try inserting the node in the right subtree\n",
    "        where.right = BST_insert(where.right, key)\n",
    "    \n",
    "    where.recompute_height() # <---- THIS IS THE ONLY CHANGE\n",
    "    \n",
    "    return where"
   ]
  },
  {
   "cell_type": "markdown",
   "metadata": {},
   "source": [
    "## Always good to run some examples to verify our implementation"
   ]
  },
  {
   "cell_type": "code",
   "execution_count": 9,
   "metadata": {
    "collapsed": false
   },
   "outputs": [
    {
     "data": {
      "image/png": "[encoded data removed]",
      "text/plain": [
       "<igraph.drawing.Plot at 0x7f23d807e910>"
      ]
     },
     "execution_count": 9,
     "metadata": {},
     "output_type": "execute_result"
    }
   ],
   "source": [
    "tree = BST()\n",
    "for el in [7,5,4,6,3,10,11]:\n",
    "    tree.insert(el)\n",
    "tree.draw(display_height=True)"
   ]
  },
  {
   "cell_type": "markdown",
   "metadata": {},
   "source": [
    "# AVL rotations\n",
    "\n",
    "The only weapon at disposal of the lone worrior of the AVL clan is rotation or to be more specific two rotations (the left rotation and the right rotation). \n",
    "\n",
    "Before we dive in the technical details of how to implement the AVL rotations let's first try to gain some intuition. In AVL we strive to keep the difference between heights of right and left subtrees of all nodes at most $1$. Insertion can increase this difference to $2$ in the worst case.\n",
    "\n",
    "For example imagine that we inserted an element into right subtree and now right subtree is 2 higher than left subtree. "
   ]
  },
  {
   "cell_type": "code",
   "execution_count": 11,
   "metadata": {
    "collapsed": false
   },
   "outputs": [
    {
     "data": {
      "image/png": "[encoded data removed]",
      "text/plain": [
       "<igraph.drawing.Plot at 0x7f23d807e710>"
      ]
     },
     "execution_count": 11,
     "metadata": {},
     "output_type": "execute_result"
    }
   ],
   "source": [
    "tree = BST()\n",
    "for el in [3,1,6,5,7,8]:\n",
    "    tree.insert(el)\n",
    "tree.draw(display_height=True)"
   ]
  },
  {
   "cell_type": "markdown",
   "metadata": {},
   "source": [
    "Intuitively what we want to do is to *rotate the tree left* - steal one node from right (and replace root by it) and add one node to the left subtree (the former root). This will result in one decrase in right subtree height and one increase in left subtree height therefore balancing the tree (in reality it is not that simple, but it is good enough for now)."
   ]
  },
  {
   "cell_type": "code",
   "execution_count": 12,
   "metadata": {
    "collapsed": true
   },
   "outputs": [],
   "source": [
    "# HINT: when trying to understand this function read it from the bottom!\n",
    "\n",
    "def AVL_rotate_left(node):\n",
    "    \"\"\"Rotates the tree left and returns a new root.\"\"\"\n",
    "    assert node.right is not None, \\\n",
    "            \"Tree can only be rotated left if the right subtree is nonempty\"\n",
    "    old_right       = node.right\n",
    "    old_right_left  = node.right.left\n",
    "    \n",
    "    # instead of old right node, old root takes old rights left subtree\n",
    "    node.right     = old_right_left\n",
    "    # node's children changed - we need to recompute the height\n",
    "    node.recompute_height()\n",
    "    \n",
    "    # old root becomes left node of old right (which becomes new root) \n",
    "    old_right.left = node\n",
    "    # old_right's children changed - we need to recompute the height\n",
    "    old_right.recompute_height()\n",
    "    \n",
    "    return old_right"
   ]
  },
  {
   "cell_type": "code",
   "execution_count": 13,
   "metadata": {
    "collapsed": false
   },
   "outputs": [
    {
     "data": {
      "image/png": "[encoded data removed]",
      "text/plain": [
       "<igraph.drawing.Plot at 0x7f23d807ea90>"
      ]
     },
     "execution_count": 13,
     "metadata": {},
     "output_type": "execute_result"
    }
   ],
   "source": [
    "tree.root = AVL_rotate_left(tree.root)\n",
    "tree.draw(display_height=True)"
   ]
  },
  {
   "cell_type": "markdown",
   "metadata": {},
   "source": [
    "## Exercise: prove that AVL rotation preserves BST invariant"
   ]
  },
  {
   "cell_type": "markdown",
   "metadata": {},
   "source": [
    "### AVL right rotation\n",
    "\n",
    "It is analogous to left rotations (in fact it inverts the left rotation)..."
   ]
  },
  {
   "cell_type": "code",
   "execution_count": 14,
   "metadata": {
    "collapsed": true
   },
   "outputs": [],
   "source": [
    "# HINT: when trying to understand this function read it from the bottom!\n",
    "\n",
    "def AVL_rotate_right(node):\n",
    "    \"\"\"Rotates the tree right and returns a new root.\"\"\"\n",
    "    assert node.left is not None, \\\n",
    "            \"Tree can only be rotated right if the left subtree is nonempty\"\n",
    "    old_left       = node.left\n",
    "    old_left_right  = node.left.right\n",
    "    \n",
    "    node.left     = old_left_right\n",
    "    node.recompute_height()\n",
    "    \n",
    "    old_left.right = node\n",
    "    old_left.recompute_height()\n",
    "    \n",
    "    return old_left"
   ]
  },
  {
   "cell_type": "code",
   "execution_count": 15,
   "metadata": {
    "collapsed": false
   },
   "outputs": [
    {
     "data": {
      "image/png": "[encoded data removed]",
      "text/plain": [
       "<igraph.drawing.Plot at 0x7f23d807e690>"
      ]
     },
     "execution_count": 15,
     "metadata": {},
     "output_type": "execute_result"
    }
   ],
   "source": [
    "tree.root = AVL_rotate_right(tree.root)\n",
    "tree.draw(display_height=True)"
   ]
  },
  {
   "cell_type": "markdown",
   "metadata": {},
   "source": [
    "## AVL insertion prelude.\n",
    "\n",
    "Assume we just performed insertion which threw our tree off balance. We will operate under recursive assumption, that child trees are balanced and that only current node maybe be unbalanced (height of one child is height of second child + 2).\n",
    "\n",
    "Intuition dictates that there are two cases to consider (left child higher or right child higher), but actually as we will soon find out there are four cases. Let's see why. "
   ]
  },
  {
   "cell_type": "markdown",
   "metadata": {},
   "source": [
    "### Case 1: Right-Right case \n",
    "\n",
    "First let's look at a simple tree where right subtree is higher."
   ]
  },
  {
   "cell_type": "code",
   "execution_count": 17,
   "metadata": {
    "collapsed": false
   },
   "outputs": [
    {
     "data": {
      "image/png": "[encoded data removed]",
      "text/plain": [
       "<igraph.drawing.Plot at 0x7f23d807e9d0>"
      ]
     },
     "execution_count": 17,
     "metadata": {},
     "output_type": "execute_result"
    }
   ],
   "source": [
    "tree = BST()\n",
    "for el in [3,1,6,5,7,8]:\n",
    "    tree.insert(el)\n",
    "tree.draw(display_height=True)"
   ]
  },
  {
   "cell_type": "markdown",
   "metadata": {},
   "source": [
    "As we have already seen this can be fixed with a single left rotation."
   ]
  },
  {
   "cell_type": "code",
   "execution_count": 18,
   "metadata": {
    "collapsed": false
   },
   "outputs": [
    {
     "data": {
      "image/png": "[encoded data removed]",
      "text/plain": [
       "<igraph.drawing.Plot at 0x7f23d807ec10>"
      ]
     },
     "execution_count": 18,
     "metadata": {},
     "output_type": "execute_result"
    }
   ],
   "source": [
    "tree.root = AVL_rotate_left(tree.root)\n",
    "tree.draw(display_height=True)"
   ]
  },
  {
   "cell_type": "markdown",
   "metadata": {},
   "source": [
    "### Case 2: Right-Left case \n",
    "Let's look at the following bizzare example:"
   ]
  },
  {
   "cell_type": "code",
   "execution_count": 19,
   "metadata": {
    "collapsed": false
   },
   "outputs": [
    {
     "data": {
      "image/png": "[encoded data removed]",
      "text/plain": [
       "<igraph.drawing.Plot at 0x7f23d807ea50>"
      ]
     },
     "execution_count": 19,
     "metadata": {},
     "output_type": "execute_result"
    }
   ],
   "source": [
    "tree = BST()\n",
    "for el in [3,1,7,6,5,8]:\n",
    "    tree.insert(el)\n",
    "tree.draw(display_height=True)"
   ]
  },
  {
   "cell_type": "markdown",
   "metadata": {},
   "source": [
    "OBVIOUSLY* (as 6.006 progresses you will get more and more scared of this word) you can fix this with a left rotation.\n",
    "\n",
    "*Not"
   ]
  },
  {
   "cell_type": "code",
   "execution_count": 20,
   "metadata": {
    "collapsed": false
   },
   "outputs": [
    {
     "data": {
      "image/png": "[encoded data removed]",
      "text/plain": [
       "<igraph.drawing.Plot at 0x7f23d805fed0>"
      ]
     },
     "execution_count": 20,
     "metadata": {},
     "output_type": "execute_result"
    }
   ],
   "source": [
    "tree.root = AVL_rotate_left(tree.root)\n",
    "tree.draw(display_height=True)"
   ]
  },
  {
   "cell_type": "markdown",
   "metadata": {},
   "source": [
    "The tree is still unbalanced. What happened? \n",
    "\n",
    "Normally, for the *perfectly* blanced subtrees (balance factor of 0) left-rotation decreases hieght of right subtree by 1 and increases the height of the right subtree by 1.\n",
    "\n",
    "As an additional side-effect the right-left subtree (the one rooted in 6 in the example) moves from right to left subtree. If that subtree is deepest (as in our example) it results in additional decrease by 1 for the right subtree and 1 increase in the left subtree. In which case the total balance is $-2$ for right subtree and $+2$ for left subtree, which means our tree is unblanced again.\n",
    "\n",
    "Notice that this situation only happens if right-left (root 6 in example) subtree is higher than right-right subtree (root 8 in our example). Is there a way to cope with such a situation? \n",
    "You guessed it - we need to right-rotate the right subtree (then right-left subtree is not longer higher than right-right subtree and we land at the familiar Case 1: right right).\n",
    "\n",
    "Let's see this in action!"
   ]
  },
  {
   "cell_type": "code",
   "execution_count": 21,
   "metadata": {
    "collapsed": false
   },
   "outputs": [
    {
     "data": {
      "image/png": "[encoded data removed]",
      "text/plain": [
       "<igraph.drawing.Plot at 0x7f23d807e8d0>"
      ]
     },
     "execution_count": 21,
     "metadata": {},
     "output_type": "execute_result"
    }
   ],
   "source": [
    "tree = BST()\n",
    "for el in [3,1,7,6,5,8]:\n",
    "    tree.insert(el)\n",
    "tree.draw(display_height=True)"
   ]
  },
  {
   "cell_type": "code",
   "execution_count": 22,
   "metadata": {
    "collapsed": false
   },
   "outputs": [
    {
     "data": {
      "image/png": "[encoded data removed]",
      "text/plain": [
       "<igraph.drawing.Plot at 0x7f23d807e610>"
      ]
     },
     "execution_count": 22,
     "metadata": {},
     "output_type": "execute_result"
    }
   ],
   "source": [
    "# Step 1:\n",
    "tree.root.right = AVL_rotate_right(tree.root.right)\n",
    "tree.root.recompute_height()\n",
    "tree.draw(display_height=True)"
   ]
  },
  {
   "cell_type": "code",
   "execution_count": 24,
   "metadata": {
    "collapsed": false
   },
   "outputs": [
    {
     "data": {
      "image/png": "[encoded data removed]",
      "text/plain": [
       "<igraph.drawing.Plot at 0x7f23d807edd0>"
      ]
     },
     "execution_count": 24,
     "metadata": {},
     "output_type": "execute_result"
    }
   ],
   "source": [
    "# Step 2:\n",
    "tree.root = AVL_rotate_left(tree.root)\n",
    "tree.draw(display_height=True)"
   ]
  },
  {
   "cell_type": "markdown",
   "metadata": {},
   "source": [
    "### Cases 3 & 4: left-left and right-left\n",
    "\n",
    "Those two cases are analogous to the cases 1 and 2, but used when the left tree is higher."
   ]
  },
  {
   "cell_type": "markdown",
   "metadata": {},
   "source": [
    "## AVL insertion \n",
    "\n",
    "Now we are going to put all of this ideas together and implement AVL insertion!"
   ]
  },
  {
   "cell_type": "code",
   "execution_count": 35,
   "metadata": {
    "collapsed": false
   },
   "outputs": [],
   "source": [
    "def AVL_insert(where, key):\n",
    "    \"\"\"Inserts a node in an AVL tree\"\"\"\n",
    "    if where is None:\n",
    "        # if we found a branch pointing to none, it means we\n",
    "        # can insert the node here.\n",
    "        return Node(key)\n",
    "    elif key <= where.key:\n",
    "        # try inserting the node somewhere in the left subtree\n",
    "        where.left = AVL_insert(where.left, key)\n",
    "    elif key > where.key:\n",
    "        # try inserting the node in the right subtree\n",
    "        where.right = AVL_insert(where.right, key)\n",
    "    \n",
    "    # where's height might have changed.\n",
    "    where.recompute_height()\n",
    "    \n",
    "    #################################################################\n",
    "    ###### UP TO THIS POINT IMPLEMENTATION IS IDENTICAL TO BST ######\n",
    "    #################################################################\n",
    "    \n",
    "    # insertion never changes balance factor to be bigger than 2.\n",
    "    assert abs(where.balance_factor()) <= 2\n",
    "    # we recursively assume that children are balanced\n",
    "    assert where.left  is None or abs(where.left.balance_factor())  <= 1\n",
    "    assert where.right is None or abs(where.right.balance_factor()) <= 1\n",
    "    \n",
    "    if where.balance_factor() == 2:\n",
    "        # left subtree is higher.\n",
    "        if where.left is not None and where.left.balance_factor() < 0:\n",
    "            print(\"Case 4\")\n",
    "            # Case 4: left-right\n",
    "            # left-right subtree is taller\n",
    "            where.left = AVL_rotate_left(where.left)\n",
    "            where.recompute_height()\n",
    "        # Case 3: left-left\n",
    "        print(\"Case 3\")\n",
    "        where = AVL_rotate_right(where)\n",
    "    elif where.balance_factor() == -2:\n",
    "        # right subtree is higher.\n",
    "        if where.right is not None and where.right.balance_factor() > 0:\n",
    "            print(\"Case 2\")\n",
    "            # Case 2: right-left\n",
    "            # right-left subtree is taller\n",
    "            where.right = AVL_rotate_right(where.right)\n",
    "            where.recompute_height()\n",
    "        print(\"Case 1\")\n",
    "        # Case 1: right-right\n",
    "        where = AVL_rotate_left(where)\n",
    "\n",
    "    # assert that we indeed balanced the tree.\n",
    "    assert abs(where.balance_factor()) <= 1\n",
    "\n",
    "    return where"
   ]
  },
  {
   "cell_type": "code",
   "execution_count": 36,
   "metadata": {
    "collapsed": true
   },
   "outputs": [],
   "source": [
    "class AVL(BST):  # <------ WARNING: inheritance\n",
    "    def insert(self, key):        \n",
    "        self.root = AVL_insert(self.root, key)"
   ]
  },
  {
   "cell_type": "markdown",
   "metadata": {},
   "source": [
    "### Let's verify that sorted sequence is no longer a problem\n",
    "\n",
    "In fact it is trivial - it only requires case 1!"
   ]
  },
  {
   "cell_type": "code",
   "execution_count": 38,
   "metadata": {
    "collapsed": false
   },
   "outputs": [
    {
     "name": "stdout",
     "output_type": "stream",
     "text": [
      "Case 1\n",
      "Case 1\n",
      "Case 1\n"
     ]
    },
    {
     "data": {
      "image/png": "[encoded data removed]",
      "text/plain": [
       "<igraph.drawing.Plot at 0x7f23d802cf90>"
      ]
     },
     "execution_count": 38,
     "metadata": {},
     "output_type": "execute_result"
    }
   ],
   "source": [
    "tree = AVL()\n",
    "for el in [1,2,3,4,5,6]:\n",
    "    tree.insert(el)\n",
    "tree.draw(display_height=True)"
   ]
  },
  {
   "cell_type": "markdown",
   "metadata": {},
   "source": [
    "### Make sure cases 1 and 2 work correctly"
   ]
  },
  {
   "cell_type": "code",
   "execution_count": 39,
   "metadata": {
    "collapsed": false
   },
   "outputs": [
    {
     "name": "stdout",
     "output_type": "stream",
     "text": [
      "Case 2\n",
      "Case 1\n"
     ]
    },
    {
     "data": {
      "image/png": "[encoded data removed]",
      "text/plain": [
       "<igraph.drawing.Plot at 0x7f23d802ca10>"
      ]
     },
     "execution_count": 39,
     "metadata": {},
     "output_type": "execute_result"
    }
   ],
   "source": [
    "tree = AVL()\n",
    "for el in [2,5,4,3,1]:\n",
    "    tree.insert(el)\n",
    "tree.draw(display_height=True)"
   ]
  },
  {
   "cell_type": "markdown",
   "metadata": {},
   "source": [
    "### Make sure cases 3 and 4 work correctly"
   ]
  },
  {
   "cell_type": "code",
   "execution_count": 41,
   "metadata": {
    "collapsed": false
   },
   "outputs": [
    {
     "name": "stdout",
     "output_type": "stream",
     "text": [
      "Case 4\n",
      "Case 3\n"
     ]
    },
    {
     "data": {
      "image/png": "[encoded data removed]",
      "text/plain": [
       "<igraph.drawing.Plot at 0x7f23d802c9d0>"
      ]
     },
     "execution_count": 41,
     "metadata": {},
     "output_type": "execute_result"
    }
   ],
   "source": [
    "tree = AVL()\n",
    "for el in [4,1,2,3,5]:\n",
    "    tree.insert(el)\n",
    "tree.draw(display_height=True)"
   ]
  },
  {
   "cell_type": "markdown",
   "metadata": {},
   "source": [
    "# Pushing the limit of AVL\n",
    "\n",
    "During  the lecture we argued that \n",
    "\n",
    "$$\n",
    "n_h \\leq n_{h-1} + n_{h-2}\n",
    "$$\n",
    "\n",
    "Where $n_h$ is the number of nodes in the tree of height $h$. It is an interesting exercise to try to come up with a tree that is the worst-possible (has maximum possible number of nodes), given the height $h$. In particular we will know that our tree is one of the worst ones if it strictly satisfies above inequality. \n",
    "\n",
    "How can we construct such a tree? Is it at all possible?\n",
    "\n",
    "In this case the answer is yes. Such tree can be constructed recursively:"
   ]
  },
  {
   "cell_type": "code",
   "execution_count": 42,
   "metadata": {
    "collapsed": true
   },
   "outputs": [],
   "source": [
    "def nightmare_tree(h):\n",
    "    assert h >= -1\n",
    "    \n",
    "    if h == -1:\n",
    "        return None\n",
    "    elif h == 0:\n",
    "        return Node(0)\n",
    "    else:\n",
    "        result = Node(0)\n",
    "        result.left = nightmare_tree(h-1)\n",
    "        result.right = nightmare_tree(h-2)\n",
    "        result.recompute_height()\n",
    "        return result"
   ]
  },
  {
   "cell_type": "code",
   "execution_count": 43,
   "metadata": {
    "collapsed": false
   },
   "outputs": [
    {
     "data": {
      "image/png": "[encoded data removed]",
      "text/plain": [
       "<igraph.drawing.Plot at 0x7f23d802c910>"
      ]
     },
     "execution_count": 43,
     "metadata": {},
     "output_type": "execute_result"
    }
   ],
   "source": [
    "x = AVL()\n",
    "x.root = nightmare_tree(5)\n",
    "x.draw(display_height=True, width=1000, height=500)"
   ]
  },
  {
   "cell_type": "markdown",
   "metadata": {},
   "source": [
    "## Exercise: prove that the `nightmare_tree` is worst possible tree. Verify that is satisfies BST and AVL invariants. \n",
    "\n",
    "Notice that this recursive definition of nightmare_tree size is almost fibonacci (except extra one) and has a very similar solution that is related to golden ratio. If you are curious check out the wikipedia article on AVL."
   ]
  },
  {
   "cell_type": "code",
   "execution_count": null,
   "metadata": {
    "collapsed": true
   },
   "outputs": [],
   "source": []
  }
 ],
 "metadata": {
  "kernelspec": {
   "display_name": "Python 2",
   "language": "python",
   "name": "python2"
  },
  "language_info": {
   "codemirror_mode": {
    "name": "ipython",
    "version": 2
   },
   "file_extension": ".py",
   "mimetype": "text/x-python",
   "name": "python",
   "nbconvert_exporter": "python",
   "pygments_lexer": "ipython2",
   "version": "2.7.8"
  }
 },
 "nbformat": 4,
 "nbformat_minor": 0
}
