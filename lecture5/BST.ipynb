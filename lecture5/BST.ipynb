{
 "cells": [
  {
   "cell_type": "code",
   "execution_count": 38,
   "metadata": {
    "collapsed": false
   },
   "outputs": [],
   "source": [
    "from collections import namedtuple\n",
    "from igraph import Graph, plot, layout\n",
    "%config InlineBackend.figure_format = 'png'"
   ]
  },
  {
   "cell_type": "code",
   "execution_count": 383,
   "metadata": {
    "collapsed": false
   },
   "outputs": [],
   "source": [
    "class Node(object):\n",
    "    def __init__(self, key, payload=None):\n",
    "        # key of the three\n",
    "        self.key     = key\n",
    "        self.payload = payload\n",
    "        self.left    = None\n",
    "        self.right   = None\n",
    "        self.parent  = None\n",
    "        \n",
    "    def is_left_child(self):\n",
    "        return self.parent is not None and self.parent.left is self\n",
    "    \n",
    "    def is_right_child(self):\n",
    "        return self.parent is not None and self.parent.right is self\n",
    "\n",
    "    def __repr__(self):\n",
    "        return '<Node key=%d left=%s right=%s>' % (self.key, self.left, self.right)\n",
    "        \n",
    "def BST_find(where, key):\n",
    "    if where is None:\n",
    "        return None\n",
    "    elif where.key == key:\n",
    "        return where\n",
    "    elif key < where.key:\n",
    "        return BST_find(where.left, key)\n",
    "    elif key > where.key:\n",
    "        return BST_find(where.right, key)\n",
    "        \n",
    "def BST_insert(where, key, payload=None):\n",
    "    if where is None:\n",
    "        return Node(key, payload)\n",
    "    elif key <= where.key:\n",
    "        where.left = BST_insert(where.left, key, payload)\n",
    "        where.left.parent = where\n",
    "    elif key > where.key:\n",
    "        where.right = BST_insert(where.right, key, payload)\n",
    "        where.right.parent = where\n",
    "    return where\n",
    "\n",
    "def BST_minimum(root):\n",
    "    current_node = root\n",
    "    while current_node.left is not None:\n",
    "        current_node = current_node.left\n",
    "    return current_node\n",
    "\n",
    "def BST_draw(node, g):\n",
    "    if node is None:\n",
    "        return\n",
    "    \n",
    "    if node.left is not None:\n",
    "        BST_draw(node.left,  g)\n",
    "        left_id = str(id(node.left))\n",
    "        left_color = \"black\"\n",
    "    else:\n",
    "        g.add_vertex(shape=0,)\n",
    "        left_id = len(g.vs) - 1\n",
    "        left_color = \"#00000000\"\n",
    "    \n",
    "    if node.right is not None:\n",
    "        BST_draw(node.right, g)\n",
    "        right_id = str(id(node.right))\n",
    "        right_color = \"black\"\n",
    "    else:\n",
    "        g.add_vertex(shape=0,)\n",
    "        right_id = len(g.vs) - 1\n",
    "        right_color = \"#00000000\"\n",
    "\n",
    "    g.add_vertex(name=str(id(node)), label=str(node.key), shape=\"rectangle\", color=\"lightblue\")\n",
    "    if node.left is not None or node.right is not None:\n",
    "        g.add_edge(str(id(node)), left_id, color=left_color)\n",
    "        g.add_edge(str(id(node)), right_id, color=right_color)\n",
    "        \n",
    "def BST_succesor(node):\n",
    "    if node is None:\n",
    "        return None\n",
    "    elif node.right is not None:\n",
    "        return BST_minimum(node.right)\n",
    "    else:\n",
    "        current_node = node\n",
    "        while True:\n",
    "            if current_node.parent is None:\n",
    "                return None\n",
    "            if current_node.is_right_child():\n",
    "                current_node = current_node.parent\n",
    "            elif current_node.is_left_child():\n",
    "                return current_node.parent\n",
    "            \n",
    "class BST(object):\n",
    "    def __init__(self):\n",
    "        self.root = None\n",
    "    \n",
    "    def insert(self, key, payload=None):        \n",
    "        self.root = BST_insert(self.root, key, payload)\n",
    "    \n",
    "    def find(self, key):\n",
    "        return BST_find(self.root, key)\n",
    "    \n",
    "    def minimum(self):\n",
    "        return BST_minimum(self.root)\n",
    "    \n",
    "    def succesor(self, node):\n",
    "        return BST_succesor(node)\n",
    "    \n",
    "    def delete(self, delete_me):\n",
    "        replacement = None\n",
    "        if delete_me.right is not None:\n",
    "            replacement = delete_me.right\n",
    "            if delete_me.left is not None:\n",
    "                min_right = BST_minimum(replacement)\n",
    "                min_right.left = delete_me.left\n",
    "                delete_me.left.parent = min_right\n",
    "        elif delete_me.left is not None:\n",
    "            replacement = delete_me.left\n",
    "        \n",
    "        if delete_me.parent is None:\n",
    "            assert delete_me is root\n",
    "            root = replacement\n",
    "            if replacement is not None:\n",
    "                replacement.parent = None\n",
    "        else:\n",
    "            if replacement is not None:\n",
    "                replacement.parent = delete_me.parent\n",
    "            if delete_me.is_left_child():\n",
    "                delete_me.parent.left = replacement\n",
    "            elif delete_me.is_right_child():\n",
    "                delete_me.parent.right = replacement\n",
    "    \n",
    "    def draw(self):\n",
    "        g = Graph()\n",
    "        if self.root is not None:\n",
    "            BST_draw(self.root, g)\n",
    "            root_id = [i for i, node in enumerate(g.vs) if g.vs[i]['name'] == str(id(self.root))]\n",
    "            assert len(root_id) == 1\n",
    "            return plot(g, layout = Graph.layout_reingold_tilford(g, mode=\"in\", root=root_id), \n",
    "                        bbox=(300,300), vertex_size=30)"
   ]
  },
  {
   "cell_type": "code",
   "execution_count": 384,
   "metadata": {
    "collapsed": true
   },
   "outputs": [],
   "source": [
    "x = BST()"
   ]
  },
  {
   "cell_type": "code",
   "execution_count": 385,
   "metadata": {
    "collapsed": false
   },
   "outputs": [
    {
     "data": {
      "image/png": "[encoded data removed]",
      "text/plain": [
       "<igraph.drawing.Plot at 0x7fd60ec27050>"
      ]
     },
     "execution_count": 385,
     "metadata": {},
     "output_type": "execute_result"
    }
   ],
   "source": [
    "x.insert(3)\n",
    "x.insert(4)\n",
    "x.insert(1)\n",
    "x.draw()"
   ]
  },
  {
   "cell_type": "code",
   "execution_count": 387,
   "metadata": {
    "collapsed": false
   },
   "outputs": [
    {
     "data": {
      "image/png": "[encoded data removed]",
      "text/plain": [
       "<igraph.drawing.Plot at 0x7fd60ec27890>"
      ]
     },
     "execution_count": 387,
     "metadata": {},
     "output_type": "execute_result"
    }
   ],
   "source": [
    "x.insert(2)\n",
    "x.draw()\n",
    "x.draw()"
   ]
  },
  {
   "cell_type": "code",
   "execution_count": 388,
   "metadata": {
    "collapsed": false
   },
   "outputs": [
    {
     "data": {
      "text/plain": [
       "<Node key=3 left=<Node key=1 left=None right=<Node key=2 left=None right=None>> right=<Node key=4 left=None right=None>>"
      ]
     },
     "execution_count": 388,
     "metadata": {},
     "output_type": "execute_result"
    }
   ],
   "source": [
    "x.succesor(x.find(2))"
   ]
  },
  {
   "cell_type": "code",
   "execution_count": 380,
   "metadata": {
    "collapsed": false
   },
   "outputs": [
    {
     "data": {
      "text/plain": [
       "<Node key=2 left=None right=None>"
      ]
     },
     "execution_count": 380,
     "metadata": {},
     "output_type": "execute_result"
    }
   ],
   "source": [
    "x.succesor(x.find(1))"
   ]
  },
  {
   "cell_type": "code",
   "execution_count": 358,
   "metadata": {
    "collapsed": false
   },
   "outputs": [
    {
     "data": {
      "image/png": "[encoded data removed]",
      "text/plain": [
       "<igraph.drawing.Plot at 0x7fd60ee02510>"
      ]
     },
     "execution_count": 358,
     "metadata": {},
     "output_type": "execute_result"
    }
   ],
   "source": [
    "x.insert(0)\n",
    "x.draw()\n",
    "x.draw()"
   ]
  },
  {
   "cell_type": "code",
   "execution_count": 359,
   "metadata": {
    "collapsed": false
   },
   "outputs": [
    {
     "data": {
      "image/png": "[encoded data removed]",
      "text/plain": [
       "<igraph.drawing.Plot at 0x7fd60ee02c90>"
      ]
     },
     "execution_count": 359,
     "metadata": {},
     "output_type": "execute_result"
    }
   ],
   "source": [
    "x.insert(2)\n",
    "x.insert(2)\n",
    "x.insert(2)\n",
    "x.draw()\n",
    "x.draw()"
   ]
  },
  {
   "cell_type": "code",
   "execution_count": 361,
   "metadata": {
    "collapsed": false
   },
   "outputs": [
    {
     "data": {
      "image/png": "[encoded data removed]",
      "text/plain": [
       "<igraph.drawing.Plot at 0x7fd60ec5da10>"
      ]
     },
     "execution_count": 361,
     "metadata": {},
     "output_type": "execute_result"
    }
   ],
   "source": [
    "x.delete(x.find(1))\n",
    "x.draw()\n",
    "x.draw()"
   ]
  },
  {
   "cell_type": "code",
   "execution_count": 362,
   "metadata": {
    "collapsed": false
   },
   "outputs": [
    {
     "data": {
      "image/png": "[encoded data removed]",
      "text/plain": [
       "<igraph.drawing.Plot at 0x7fd60ee02ed0>"
      ]
     },
     "execution_count": 362,
     "metadata": {},
     "output_type": "execute_result"
    }
   ],
   "source": [
    "x.delete(x.find(4))\n",
    "x.draw()"
   ]
  },
  {
   "cell_type": "code",
   "execution_count": 382,
   "metadata": {
    "collapsed": false
   },
   "outputs": [],
   "source": [
    "def BST_check_parents(node):\n",
    "    if node.left is not None:\n",
    "        assert node.left.parent is node\n",
    "        BST_check_parents(node.left)\n",
    "    if node.right is not None:\n",
    "        assert node.right.parent is node\n",
    "        BST_check_parents(node.right)\n",
    "BST_check_parents(x.root)"
   ]
  },
  {
   "cell_type": "code",
   "execution_count": null,
   "metadata": {
    "collapsed": true
   },
   "outputs": [],
   "source": []
  }
 ],
 "metadata": {
  "kernelspec": {
   "display_name": "Python 2",
   "language": "python",
   "name": "python2"
  },
  "language_info": {
   "codemirror_mode": {
    "name": "ipython",
    "version": 2
   },
   "file_extension": ".py",
   "mimetype": "text/x-python",
   "name": "python",
   "nbconvert_exporter": "python",
   "pygments_lexer": "ipython2",
   "version": "2.7.8"
  }
 },
 "nbformat": 4,
 "nbformat_minor": 0
}
