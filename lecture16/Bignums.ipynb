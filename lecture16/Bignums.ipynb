{
 "cells": [
  {
   "cell_type": "code",
   "execution_count": 1,
   "metadata": {
    "collapsed": false
   },
   "outputs": [],
   "source": [
    "class Number(list):\n",
    "    @staticmethod\n",
    "    def wrap(n):\n",
    "        return Number(reversed([ord(c) - ord('0') for c in str(n)]))\n",
    "    \n",
    "    def __repr__(self):\n",
    "        return ''.join([str(d) for d in reversed(self)])"
   ]
  },
  {
   "cell_type": "code",
   "execution_count": 2,
   "metadata": {
    "collapsed": false
   },
   "outputs": [
    {
     "data": {
      "text/plain": [
       "([1, 1], [2, 1])"
      ]
     },
     "execution_count": 2,
     "metadata": {},
     "output_type": "execute_result"
    }
   ],
   "source": [
    "a = Number.wrap(11)\n",
    "b = Number.wrap(12)\n",
    "a, b\n",
    "list(a), list(b)"
   ]
  },
  {
   "cell_type": "markdown",
   "metadata": {},
   "source": [
    "## Addition"
   ]
  },
  {
   "cell_type": "code",
   "execution_count": 3,
   "metadata": {
    "collapsed": false
   },
   "outputs": [],
   "source": [
    "def add(a, b):\n",
    "    c = Number()\n",
    "    carry = 0\n",
    "    for i in range(max(len(a), len(b))):\n",
    "        r = carry + (a[i] if i < len(a) else 0) + (b[i] if i < len(b) else 0)\n",
    "        c.append(r % 10)\n",
    "        carry = r / 10\n",
    "    if carry > 0:\n",
    "        c.append(carry)\n",
    "    return c\n",
    "\n",
    "Number.__add__ = add\n"
   ]
  },
  {
   "cell_type": "code",
   "execution_count": 4,
   "metadata": {
    "collapsed": false
   },
   "outputs": [
    {
     "data": {
      "text/plain": [
       "13"
      ]
     },
     "execution_count": 4,
     "metadata": {},
     "output_type": "execute_result"
    }
   ],
   "source": [
    "Number.wrap(6) + Number.wrap(7)"
   ]
  },
  {
   "cell_type": "code",
   "execution_count": 5,
   "metadata": {
    "collapsed": false
   },
   "outputs": [
    {
     "data": {
      "text/plain": [
       "76"
      ]
     },
     "execution_count": 5,
     "metadata": {},
     "output_type": "execute_result"
    }
   ],
   "source": [
    "Number.wrap(6) + Number.wrap(70)"
   ]
  },
  {
   "cell_type": "markdown",
   "metadata": {},
   "source": [
    "# Substraction"
   ]
  },
  {
   "cell_type": "code",
   "execution_count": 80,
   "metadata": {
    "collapsed": false
   },
   "outputs": [],
   "source": [
    "def sub(a, b):\n",
    "    c = Number()\n",
    "    carry = 0\n",
    "    for i in range(max(len(a), len(b))):\n",
    "        r = carry + (a[i] if i < len(a) else 0) - (b[i] if i < len(b) else 0)\n",
    "        carry = 0 \n",
    "        while r < 0:\n",
    "            r += 10\n",
    "            carry -= 1\n",
    "        c.append(r % 10)\n",
    "    assert carry == 0, \"negative result\"\n",
    "    while len(c) > 1 and c[-1] == 0:\n",
    "        c.pop()\n",
    "    return c\n",
    "Number.__sub__ = sub"
   ]
  },
  {
   "cell_type": "code",
   "execution_count": 81,
   "metadata": {
    "collapsed": false
   },
   "outputs": [
    {
     "data": {
      "text/plain": [
       "1"
      ]
     },
     "execution_count": 81,
     "metadata": {},
     "output_type": "execute_result"
    }
   ],
   "source": [
    "a, b = Number.wrap(7), Number.wrap(6)\n",
    "sub(a,b)"
   ]
  },
  {
   "cell_type": "code",
   "execution_count": 82,
   "metadata": {
    "collapsed": false
   },
   "outputs": [
    {
     "data": {
      "text/plain": [
       "64"
      ]
     },
     "execution_count": 82,
     "metadata": {},
     "output_type": "execute_result"
    }
   ],
   "source": [
    "Number.wrap(70) - Number.wrap(6)"
   ]
  },
  {
   "cell_type": "code",
   "execution_count": 83,
   "metadata": {
    "collapsed": false
   },
   "outputs": [
    {
     "data": {
      "text/plain": [
       "0"
      ]
     },
     "execution_count": 83,
     "metadata": {},
     "output_type": "execute_result"
    }
   ],
   "source": [
    "Number.wrap(70) - Number.wrap(70)"
   ]
  },
  {
   "cell_type": "markdown",
   "metadata": {},
   "source": [
    "# Multiplication by digit"
   ]
  },
  {
   "cell_type": "code",
   "execution_count": 126,
   "metadata": {
    "collapsed": false
   },
   "outputs": [],
   "source": [
    "def mul_by_digit(number, digit):\n",
    "    res = Number()\n",
    "    carry = 0\n",
    "    for i in range(len(number)):\n",
    "        r = carry + number[i] * digit\n",
    "        res.append(r % 10)\n",
    "        carry = r / 10\n",
    "    if carry > 0:\n",
    "        res.append(carry)\n",
    "    return res"
   ]
  },
  {
   "cell_type": "code",
   "execution_count": 127,
   "metadata": {
    "collapsed": false
   },
   "outputs": [
    {
     "data": {
      "text/plain": [
       "1107"
      ]
     },
     "execution_count": 127,
     "metadata": {},
     "output_type": "execute_result"
    }
   ],
   "source": [
    "mul_by_digit(Number.wrap(123), 9)"
   ]
  },
  {
   "cell_type": "markdown",
   "metadata": {},
   "source": [
    "# Karatsuba Multiplication"
   ]
  },
  {
   "cell_type": "code",
   "execution_count": 116,
   "metadata": {
    "collapsed": false
   },
   "outputs": [],
   "source": [
    "def mul(a, b):\n",
    "    if len(a) < len(b):\n",
    "        a, b = b, a\n",
    "    # now a is longer of the two\n",
    "    assert len(a) >= len(b)\n",
    "    if len(b) == 0:\n",
    "        return Number.wrap(0)\n",
    "    elif len(b) == 1:\n",
    "        return mul_by_digit(a, b[0])\n",
    "    \n",
    "    mid = len(a) / 2\n",
    "    y1, x1 = a[:mid], a[mid:]\n",
    "    y2, x2 = b[:mid], b[mid:]\n",
    "    H = mul(x1, x2)\n",
    "    L = mul(y1, y2)\n",
    "    M = mul(add(x1,y1), add(x2,y2))\n",
    "    M = sub(M,H)\n",
    "    M = sub(M,L)\n",
    "    \n",
    "    res = Number([0] * (2 * mid) + list(H)) + Number([0] * (mid) + list(M))   + L\n",
    "    return res"
   ]
  },
  {
   "cell_type": "code",
   "execution_count": 124,
   "metadata": {
    "collapsed": false
   },
   "outputs": [
    {
     "data": {
      "text/plain": [
       "1353"
      ]
     },
     "execution_count": 124,
     "metadata": {},
     "output_type": "execute_result"
    }
   ],
   "source": [
    "mul(Number.wrap(123), Number.wrap(11))"
   ]
  },
  {
   "cell_type": "code",
   "execution_count": 123,
   "metadata": {
    "collapsed": false
   },
   "outputs": [],
   "source": [
    "for a in range(1112):\n",
    "    for b in range(123):\n",
    "        A,B = Number.wrap(a), Number.wrap(b)\n",
    "        assert int(str(mul(A, B))) == a*b"
   ]
  },
  {
   "cell_type": "markdown",
   "metadata": {},
   "source": [
    "# Multiplication"
   ]
  },
  {
   "cell_type": "code",
   "execution_count": 12,
   "metadata": {
    "collapsed": false
   },
   "outputs": [],
   "source": [
    "def sqrt(a):\n",
    "    nextx, x = None, a\n",
    "    while True:\n",
    "        print(bin(x), x)\n",
    "        nextx = (x + (a/x)) / 2\n",
    "        if x == nextx:\n",
    "            break\n",
    "        x = nextx\n",
    "    return x"
   ]
  },
  {
   "cell_type": "code",
   "execution_count": 13,
   "metadata": {
    "collapsed": false
   },
   "outputs": [
    {
     "name": "stdout",
     "output_type": "stream",
     "text": [
      "('0b10000011100010000100', 538756)\n",
      "('0b1000001110001000010', 269378)\n",
      "('0b100000111000100010', 134690)\n",
      "('0b10000011100010010', 67346)\n",
      "('0b1000001110001100', 33676)\n",
      "('0b100000111001101', 16845)\n",
      "('0b10000011110110', 8438)\n",
      "('0b1000010011010', 4250)\n",
      "('0b100010001100', 2188)\n",
      "('0b10011000001', 1217)\n",
      "('0b1100111101', 829)\n",
      "('0b1011100011', 739)\n",
      "('0b1011011110', 734)\n"
     ]
    },
    {
     "data": {
      "text/plain": [
       "734"
      ]
     },
     "execution_count": 13,
     "metadata": {},
     "output_type": "execute_result"
    }
   ],
   "source": [
    "sqrt(734 * 734)"
   ]
  },
  {
   "cell_type": "code",
   "execution_count": 14,
   "metadata": {
    "collapsed": false
   },
   "outputs": [
    {
     "name": "stdout",
     "output_type": "stream",
     "text": [
      "('0b10000011111001001011', 540235)\n",
      "('0b1000001111100100110', 270118)\n",
      "('0b100000111110010011', 135059)\n",
      "('0b10000011111001011', 67531)\n",
      "('0b1000001111101001', 33769)\n",
      "('0b100000111111100', 16892)\n",
      "('0b10000100001101', 8461)\n",
      "('0b1000010100110', 4262)\n",
      "('0b100010010010', 2194)\n",
      "('0b10011000100', 1220)\n",
      "('0b1100111111', 831)\n",
      "('0b1011100100', 740)\n",
      "('0b1011011111', 735)\n"
     ]
    },
    {
     "data": {
      "text/plain": [
       "735"
      ]
     },
     "execution_count": 14,
     "metadata": {},
     "output_type": "execute_result"
    }
   ],
   "source": [
    "sqrt(735 * 735 + 10)"
   ]
  },
  {
   "cell_type": "code",
   "execution_count": 15,
   "metadata": {
    "collapsed": false
   },
   "outputs": [
    {
     "name": "stdout",
     "output_type": "stream",
     "text": [
      "('0b10000011111000110111', 540215)\n",
      "('0b1000001111100011100', 270108)\n",
      "('0b100000111110001110', 135054)\n",
      "('0b10000011111001000', 67528)\n",
      "('0b1000001111100111', 33767)\n",
      "('0b100000111111011', 16891)\n",
      "('0b10000100001101', 8461)\n",
      "('0b1000010100110', 4262)\n",
      "('0b100010010010', 2194)\n",
      "('0b10011000100', 1220)\n",
      "('0b1100111111', 831)\n",
      "('0b1011100100', 740)\n",
      "('0b1011011111', 735)\n",
      "('0b1011011110', 734)\n"
     ]
    },
    {
     "data": {
      "text/plain": [
       "734"
      ]
     },
     "execution_count": 15,
     "metadata": {},
     "output_type": "execute_result"
    }
   ],
   "source": [
    "sqrt(735 * 735 - 10)"
   ]
  },
  {
   "cell_type": "code",
   "execution_count": 11,
   "metadata": {
    "collapsed": false
   },
   "outputs": [
    {
     "name": "stdout",
     "output_type": "stream",
     "text": [
      "200000000000000000000\n",
      "100000000000000000000\n",
      "50000000000000000001\n",
      "25000000000000000002\n",
      "12500000000000000004\n",
      "6250000000000000009\n",
      "3125000000000000020\n",
      "1562500000000000041\n",
      "781250000000000084\n",
      "390625000000000169\n",
      "195312500000000340\n",
      "97656250000000681\n",
      "48828125000001364\n",
      "24414062500002729\n",
      "12207031250005460\n",
      "6103515625010921\n",
      "3051757812521844\n",
      "1525878906293689\n",
      "762939453212380\n",
      "381469726737261\n",
      "190734863630774\n",
      "95367432339674\n",
      "47683717218412\n",
      "23841860706357\n",
      "11920934547482\n",
      "5960475662345\n",
      "2980254608357\n",
      "1490160858358\n",
      "745147536028\n",
      "372707969625\n",
      "186622291390\n",
      "93846987363\n",
      "47989057987\n",
      "26078337348\n",
      "16873768965\n",
      "14363242737\n",
      "14143837480\n",
      "14142135726\n",
      "14142135623\n"
     ]
    },
    {
     "data": {
      "text/plain": [
       "1.4142135623"
      ]
     },
     "execution_count": 11,
     "metadata": {},
     "output_type": "execute_result"
    }
   ],
   "source": [
    "sqrt(2 * 10**20) / float(10**10)"
   ]
  },
  {
   "cell_type": "code",
   "execution_count": null,
   "metadata": {
    "collapsed": true
   },
   "outputs": [],
   "source": []
  }
 ],
 "metadata": {
  "kernelspec": {
   "display_name": "Python 2",
   "language": "python",
   "name": "python2"
  },
  "language_info": {
   "codemirror_mode": {
    "name": "ipython",
    "version": 2
   },
   "file_extension": ".py",
   "mimetype": "text/x-python",
   "name": "python",
   "nbconvert_exporter": "python",
   "pygments_lexer": "ipython2",
   "version": "2.7.8"
  }
 },
 "nbformat": 4,
 "nbformat_minor": 0
}
