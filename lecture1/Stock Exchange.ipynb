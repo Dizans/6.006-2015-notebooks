{
 "cells": [
  {
   "cell_type": "code",
   "execution_count": 5,
   "metadata": {
    "collapsed": true
   },
   "outputs": [],
   "source": [
    "import cProfile\n",
    "import random\n",
    "import time"
   ]
  },
  {
   "cell_type": "markdown",
   "metadata": {},
   "source": [
    "# Stock Exachange Problem"
   ]
  },
  {
   "cell_type": "markdown",
   "metadata": {},
   "source": [
    "Consider the following problem. We have a non-empty array representing evolution of price of a particular stock over time.\n",
    "```python\n",
    "A = [20, 3, 19, 1, 15, 6]\n",
    "```\n",
    "Given this information we want to find what is the optimal profit we can make using single buy and single sell operation (here we have perfect knowledge of the prices - you can imagine that this quantity is something that quantitative traders would like to know, to compare their decision to the best possible decision given perfect knowledge of the future).\n",
    "\n",
    "More formally we want to find two numbers $b$, $s$, such that $$0 \\leq b \\leq s \\leq |A|$$ and $$A_s - A_b$$ is maximum possible. Of course we cannot sell before buying.\n",
    "\n",
    "For example for the array given above, the biggest profit we can make is $16$ (make sure you can see that). Below we present three different solutions to this problem."
   ]
  },
  {
   "cell_type": "code",
   "execution_count": 1,
   "metadata": {
    "collapsed": true
   },
   "outputs": [],
   "source": [
    "# here we seed the random number generator, to ensure, that we generate \n",
    "# the same random instance every time we pass seed equal to a particular \n",
    "# value. This way the speed comparison is fair.\n",
    "def make_prices(n, seed):\n",
    "    \"\"\" Return array of n random prices. \"\"\"\n",
    "    random.seed(seed)\n",
    "    return [ random.random() for _ in range(n) ]"
   ]
  },
  {
   "cell_type": "markdown",
   "metadata": {},
   "source": [
    "### Naive solution\n",
    "This solution is a direct search of values of $b$ and $s$. The complexity is $O(n^2)$ (intiutively we have two nested for loops, each of which does $O(n)$ iterations, when $n$ = len(A)."
   ]
  },
  {
   "cell_type": "code",
   "execution_count": 2,
   "metadata": {
    "collapsed": true
   },
   "outputs": [],
   "source": [
    "def naive(A):\n",
    "    \"\"\" return best gain on A, using naive method \n",
    "        running time, due to doubly-nest loop, is O(n^2)\n",
    "    \"\"\"\n",
    "    n = len(A)\n",
    "    ans = 0\n",
    "    for i0 in range(n):\n",
    "        for j0 in range(i0,n):\n",
    "            ans = max(ans, A[j0]-A[i0])\n",
    "    return ans"
   ]
  },
  {
   "cell_type": "code",
   "execution_count": 3,
   "metadata": {
    "collapsed": false
   },
   "outputs": [
    {
     "data": {
      "text/plain": [
       "16"
      ]
     },
     "execution_count": 3,
     "metadata": {},
     "output_type": "execute_result"
    }
   ],
   "source": [
    "naive([20, 3, 19, 1, 15, 6])"
   ]
  },
  {
   "cell_type": "code",
   "execution_count": 7,
   "metadata": {
    "collapsed": false
   },
   "outputs": [
    {
     "name": "stdout",
     "output_type": "stream",
     "text": [
      "         50025009 function calls in 14.463 seconds\n",
      "\n",
      "   Ordered by: standard name\n",
      "\n",
      "   ncalls  tottime  percall  cumtime  percall filename:lineno(function)\n",
      "        1    0.004    0.004    0.005    0.005 <ipython-input-1-a3d706331740>:1(make_prices)\n",
      "        1    9.050    9.050   14.458   14.458 <ipython-input-2-1b173f4b093c>:1(naive)\n",
      "        1    0.000    0.000   14.463   14.463 <string>:1(<module>)\n",
      "        1    0.000    0.000    0.000    0.000 random.py:100(seed)\n",
      "        1    0.000    0.000    0.000    0.000 {function seed at 0x7f90fbfeb578}\n",
      "        1    0.000    0.000    0.000    0.000 {len}\n",
      " 50005000    5.213    0.000    5.213    0.000 {max}\n",
      "        1    0.000    0.000    0.000    0.000 {method 'disable' of '_lsprof.Profiler' objects}\n",
      "    10000    0.001    0.000    0.001    0.000 {method 'random' of '_random.Random' objects}\n",
      "    10002    0.195    0.000    0.195    0.000 {range}\n",
      "\n",
      "\n"
     ]
    }
   ],
   "source": [
    "# slowness alert!\n",
    "cProfile.run(\"naive(make_prices(10000, 1))\")"
   ]
  },
  {
   "cell_type": "markdown",
   "metadata": {},
   "source": [
    "### Divide and conquer approach\n",
    "Here we split our array into two simpler problems corresponding to left half of the array $L$ and right half $R$. \n",
    "For example if \n",
    "```python\n",
    "A = [20, 3, 19, 1, 15, 6]\n",
    "```\n",
    "we can imagine that\n",
    "```python\n",
    "L = [20, 3, 19]\n",
    "R = [1,  15, 6]\n",
    "```\n",
    "In order to reduce our problem to those simpler problems we need to consider three cases:\n",
    "1. $ b,s \\in L$ - we can solve it by solving original problem for $L$\n",
    "2. $ b,s \\in R$ - we can solve it by solving original problem for $R$\n",
    "3. $ b \\in L$ and $ s \\in R$ - we can solve it by finding minimum in $L$ and maximum in $R$ and returning the difference\n",
    "\n",
    "We need not consider the case $s \\in L$ and $b \\in R$ (why?).\n",
    "\n",
    "This way we reduced our problem to two smaller problems. This is good - we will keep changing bigger problems into smaller problems until we get problem so small that it is trivial to solve - in this case if our array is of size 1, then the maximum profit we can make is $0$.\n",
    "\n",
    "The complexity of this solution is can be calculated by solving the following equation:\n",
    "\n",
    "$$\n",
    "T(n) = T(n / 2) + T(n / 2) + O(n)\n",
    "$$\n",
    "The three summands in the equation above come for cases 1,2,3 listed above. In particular notice that case 3 requires single read through data and therefor has complexity $O(n)$. The solution to this "
   ]
  },
  {
   "cell_type": "code",
   "execution_count": 9,
   "metadata": {
    "collapsed": true
   },
   "outputs": [],
   "source": [
    "def dc(A, lo=None, hi=None):\n",
    "    \"\"\" return best gain on A[lo:hi], using divide & conquer \n",
    "        running time is solution to T(n) = 2*T(n/2) + Theta(n) = Theta(n log n)\n",
    "    \"\"\"\n",
    "    if lo is None:\n",
    "        lo = 0\n",
    "    if hi is None:\n",
    "        hi = len(A)\n",
    "    n = hi-lo\n",
    "    # base case\n",
    "    if n == 1:\n",
    "        return 0\n",
    "    # divide and conquer\n",
    "    # divide into lo:mid and mid:hi\n",
    "    mid = (lo+hi)//2            \n",
    "    # recurse on left half\n",
    "    gain_low = dc(A, lo, mid)\n",
    "    # recurse on right half\n",
    "    gain_high = dc(A, mid, hi)\n",
    "    # figure out best gain for buying in left half, selling in right half\n",
    "    buy_price = min([ A[i] for i in range(lo, mid) ])\n",
    "    sell_price = max([ A[i] for i in range(mid, hi)])\n",
    "    gain_cross = sell_price - buy_price\n",
    "    # optimum is max of three cases just solved\n",
    "    return max(gain_low, gain_high, gain_cross)"
   ]
  },
  {
   "cell_type": "code",
   "execution_count": 10,
   "metadata": {
    "collapsed": false
   },
   "outputs": [
    {
     "data": {
      "text/plain": [
       "16"
      ]
     },
     "execution_count": 10,
     "metadata": {},
     "output_type": "execute_result"
    }
   ],
   "source": [
    "dc([20, 3, 19, 1, 15, 6])"
   ]
  },
  {
   "cell_type": "code",
   "execution_count": 11,
   "metadata": {
    "collapsed": false
   },
   "outputs": [
    {
     "name": "stdout",
     "output_type": "stream",
     "text": [
      "         80001 function calls (60003 primitive calls) in 0.073 seconds\n",
      "\n",
      "   Ordered by: standard name\n",
      "\n",
      "   ncalls  tottime  percall  cumtime  percall filename:lineno(function)\n",
      "        1    0.004    0.004    0.005    0.005 <ipython-input-1-a3d706331740>:1(make_prices)\n",
      "  19999/1    0.047    0.000    0.068    0.068 <ipython-input-9-e8b912c3a064>:1(dc)\n",
      "        1    0.000    0.000    0.073    0.073 <string>:1(<module>)\n",
      "        1    0.000    0.000    0.000    0.000 random.py:100(seed)\n",
      "        1    0.000    0.000    0.000    0.000 {function seed at 0x7f90fbfeb578}\n",
      "        1    0.000    0.000    0.000    0.000 {len}\n",
      "    19998    0.008    0.000    0.008    0.000 {max}\n",
      "        1    0.000    0.000    0.000    0.000 {method 'disable' of '_lsprof.Profiler' objects}\n",
      "    10000    0.001    0.000    0.001    0.000 {method 'random' of '_random.Random' objects}\n",
      "     9999    0.004    0.000    0.004    0.000 {min}\n",
      "    19999    0.008    0.000    0.008    0.000 {range}\n",
      "\n",
      "\n"
     ]
    }
   ],
   "source": [
    "cProfile.run(\"dc(make_prices(10000, 1))\")"
   ]
  },
  {
   "cell_type": "markdown",
   "metadata": {},
   "source": [
    "### Solution by algorithmic thinking\n",
    "Notice that if we know a $k$ such that $b \\leq k \\leq s$ then we can find $b$ and $s$. Indeed, $b$ is minimum to the left of $k$ and $s$ is maximum to the right of $k$. Since we don't know which $k$ is correct, we need to try all values. Implementing that solution naively leads to $O(n^2)$ complexity. Not happy.\n",
    "\n",
    "To improve on it notice that we can precompute answer to all the questions of form *minimum to the left of $k$* (and store them in the array $B$) and *maximum to the right of $k$* (and store them in array $S$) in complexity $O(n)$. Once promputed - we can just look them up in complexity $O(1)$, which we will do $n$ times - once for each value of $k$. The total complexity is sequal to:\n",
    "\n",
    "$$\n",
    "\\text{work to precompute B} + \\text{work to precompute S} + \\text{work to evaluate all values of k}\n",
    "$$\n",
    "\n",
    "Notice that all the of those have complexity $O(n)$, so the total complexity is $O(n)$."
   ]
  },
  {
   "cell_type": "code",
   "execution_count": 12,
   "metadata": {
    "collapsed": true
   },
   "outputs": [],
   "source": [
    "def lin(A):\n",
    "    \"\"\" return best gain, computed by linear-time alg \n",
    "        running time is Theta(n)\n",
    "    \"\"\"\n",
    "    n = len(A)\n",
    "    # B[k] = min{ A[i0]: i0 <= k }   for k = 0, 1, ..., n-1\n",
    "    #      = price to buy at if you have to buy no later than k (and sell no earlier than k)\n",
    "    B = [A[0]] * n\n",
    "    for k in range(1, n):\n",
    "        B[k] = min(B[k-1],A[k])\n",
    "    # S[k] = max{ A[j0]: j0 >= k }   for k = 0, 1, ..., n-1\n",
    "    #      = price to sell at if you have to sell no earlier than k (but bought no later than k)\n",
    "    S = [A[n-1]] * n\n",
    "    for k in range(n-2, -1, -1):\n",
    "        S[k] = max(S[k+1], A[k])\n",
    "    # G[k] = S[k] - B[k] for k = 0, 1, ..., n-1\n",
    "    #      = best gain from buying no later than k, then selling no earlier than k\n",
    "    G = [ S[k]-B[k] for k in range(n) ]\n",
    "    # opt = max { G[k]: 0 <= k < n }\n",
    "    #     = best possible gain for given input A\n",
    "    opt = max(G)\n",
    "    return opt\n"
   ]
  },
  {
   "cell_type": "code",
   "execution_count": 13,
   "metadata": {
    "collapsed": false
   },
   "outputs": [
    {
     "data": {
      "text/plain": [
       "16"
      ]
     },
     "execution_count": 13,
     "metadata": {},
     "output_type": "execute_result"
    }
   ],
   "source": [
    "lin([20, 3, 19, 1, 15, 6])"
   ]
  },
  {
   "cell_type": "code",
   "execution_count": 14,
   "metadata": {
    "collapsed": false
   },
   "outputs": [
    {
     "name": "stdout",
     "output_type": "stream",
     "text": [
      "         30010 function calls in 0.026 seconds\n",
      "\n",
      "   Ordered by: standard name\n",
      "\n",
      "   ncalls  tottime  percall  cumtime  percall filename:lineno(function)\n",
      "        1    0.004    0.004    0.006    0.006 <ipython-input-1-a3d706331740>:1(make_prices)\n",
      "        1    0.015    0.015    0.020    0.020 <ipython-input-12-21a4740e4169>:1(lin)\n",
      "        1    0.000    0.000    0.026    0.026 <string>:1(<module>)\n",
      "        1    0.000    0.000    0.000    0.000 random.py:100(seed)\n",
      "        1    0.000    0.000    0.000    0.000 {function seed at 0x7f90fbfeb578}\n",
      "        1    0.000    0.000    0.000    0.000 {len}\n",
      "    10000    0.003    0.000    0.003    0.000 {max}\n",
      "        1    0.000    0.000    0.000    0.000 {method 'disable' of '_lsprof.Profiler' objects}\n",
      "    10000    0.001    0.000    0.001    0.000 {method 'random' of '_random.Random' objects}\n",
      "     9999    0.003    0.000    0.003    0.000 {min}\n",
      "        4    0.001    0.000    0.001    0.000 {range}\n",
      "\n",
      "\n"
     ]
    }
   ],
   "source": [
    "cProfile.run(\"lin(make_prices(10000, 1))\")"
   ]
  },
  {
   "cell_type": "markdown",
   "metadata": {
    "collapsed": true
   },
   "source": [
    "# Problems to think about (non-examinable, non-compulsory, strictly for fun...)\n",
    "1. **Maximum sum subsequence problem** - given an array A find a contiguous subsequence of maximum sum. For example for\n",
    "```python\n",
    "A = [10, -2, 10, 5, -4, 14]\n",
    "```\n",
    "the answer is 15."
   ]
  },
  {
   "cell_type": "code",
   "execution_count": null,
   "metadata": {
    "collapsed": false
   },
   "outputs": [],
   "source": [
    "# Hint to problem 1\n",
    "cyph = lambda x: chr((ord(x) + 64) % 128)\n",
    "''.join(map(cyph, '\\x08).4z`2%$5#%`4()3`02/\",%-`4/`4(%`34/#+`%8#(!.\\'%`02/\",%-'))"
   ]
  }
 ],
 "metadata": {
  "kernelspec": {
   "display_name": "Python 2",
   "language": "python",
   "name": "python2"
  },
  "language_info": {
   "codemirror_mode": {
    "name": "ipython",
    "version": 2
   },
   "file_extension": ".py",
   "mimetype": "text/x-python",
   "name": "python",
   "nbconvert_exporter": "python",
   "pygments_lexer": "ipython2",
   "version": "2.7.8"
  }
 },
 "nbformat": 4,
 "nbformat_minor": 0
}
