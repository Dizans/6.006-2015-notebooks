{
 "cells": [
  {
   "cell_type": "code",
   "execution_count": 2,
   "metadata": {
    "collapsed": true
   },
   "outputs": [],
   "source": [
    "from collections import namedtuple\n",
    "from igraph import Graph, plot, layout, Plot\n",
    "%config InlineBackend.figure_format = 'png'"
   ]
  },
  {
   "cell_type": "markdown",
   "metadata": {},
   "source": [
    "# Counting BST\n",
    "\n",
    "In this notebook we will augment BST datastructure to allow use to answer questions like \n",
    "\n",
    "What is the $k$-th smallest element in the tree in time $O(lg\\ n)$. The name of the function will be `kth_element`\n",
    "\n",
    "First let's recap BST code:"
   ]
  },
  {
   "cell_type": "code",
   "execution_count": 32,
   "metadata": {
    "collapsed": true
   },
   "outputs": [],
   "source": [
    "class Node(object):\n",
    "    def __init__(self, key):\n",
    "        # node key - this is the value we compare to determine where \n",
    "        # the node should be inserted.\n",
    "        self.key     = key\n",
    "        # left child (can be none if no child)\n",
    "        self.left    = None\n",
    "        # right child (can be none if no child)\n",
    "        self.right   = None\n",
    "        \n",
    "def BST_insert(where, key):\n",
    "    \"\"\"Inserts a node in a binary tree\"\"\"\n",
    "    if where is None:\n",
    "        # if we found a branch pointing to none, it means we\n",
    "        # can insert the node here\n",
    "        return Node(key)\n",
    "    elif key <= where.key:\n",
    "        # try inserting the node somewhere in the left subtree\n",
    "        where.left = BST_insert(where.left, key)\n",
    "    elif key > where.key:\n",
    "        # try inserting the node in the right subtree\n",
    "        where.right = BST_insert(where.right, key)\n",
    "    return where\n",
    "\n",
    "def BST_draw(node, g, display_count=False):\n",
    "    \"\"\"This method allows us to draw a binary tree.\n",
    "    \n",
    "    Don't worry about the implementation.\"\"\"\n",
    "    if node is None:\n",
    "        return\n",
    "    \n",
    "    if node.left is not None:\n",
    "        BST_draw(node.left,  g, display_count)\n",
    "        left_id = str(id(node.left))\n",
    "        left_color = \"black\"\n",
    "    else:\n",
    "        g.add_vertex(shape=0,)\n",
    "        left_id = len(g.vs) - 1\n",
    "        left_color = \"#00000000\"\n",
    "    \n",
    "    if node.right is not None:\n",
    "        BST_draw(node.right, g, display_count)\n",
    "        right_id = str(id(node.right))\n",
    "        right_color = \"black\"\n",
    "    else:\n",
    "        g.add_vertex(shape=0,)\n",
    "        right_id = len(g.vs) - 1\n",
    "        right_color = \"#00000000\"\n",
    "\n",
    "    label = str(node.key)\n",
    "    if display_count:\n",
    "        label = label + ' (count: %d)' % (node.count,)\n",
    "        \n",
    "    g.add_vertex(name=str(id(node)), label=label, \n",
    "                 shape=\"rectangle\", color=\"lightblue\")\n",
    "    if node.left is not None or node.right is not None:\n",
    "        g.add_edge(str(id(node)), left_id, color=left_color)\n",
    "        g.add_edge(str(id(node)), right_id, color=right_color)\n",
    "            \n",
    "def BST_root_draw(root, display_count=False, width=500, height=300, margin=50):\n",
    "        figure = Plot(bbox=(width, height))\n",
    "        \n",
    "        g = Graph()\n",
    "        if root is not None:\n",
    "            BST_draw(root, g, display_count)\n",
    "            root_id = [i for i, node in enumerate(g.vs) if g.vs[i]['name'] == str(id(root))]\n",
    "            assert len(root_id) == 1\n",
    "            figure.add(g, layout = Graph.layout_reingold_tilford(g, mode=\"in\", root=root_id), \n",
    "                        bbox=(margin, margin, width-margin, height - margin), vertex_size=30)\n",
    "            return figure\n",
    "            \n",
    "class BST(object):\n",
    "    def __init__(self):\n",
    "        self.root = None\n",
    "    \n",
    "    def empty(self):\n",
    "        return self.root is None\n",
    "    \n",
    "    def insert(self, key):        \n",
    "        self.root = BST_insert(self.root, key)\n",
    "    \n",
    "    def draw(self, display_count=False):\n",
    "        return BST_root_draw(self.root, display_count)"
   ]
  },
  {
   "cell_type": "markdown",
   "metadata": {},
   "source": [
    "## First step towards the `kth_element`: counting\n",
    "\n",
    "One thing that we will need for an efficient implementation of `kth_element` is the ability to quickly answer the questions of form - how many nodes are the in subtree rooted in $X$. We can compute it online in time proportional to the size of the subtree, but since we will need to compute it frequently, we will try to keep the information availble at all times.\n",
    "\n",
    "More formally let $count_X$ be a size of a subtree rooted in $X$. It is defined by the following recursive relation:\n",
    "\n",
    "$$\n",
    "count_X =\n",
    "\\begin{cases}\n",
    "0                &\\text{ if } X = NIL \\\\\n",
    "count_{X_L} + count_{X_R} + 1 &\\text{otherwise}\n",
    "\\end{cases}\n",
    "$$\n",
    "\n",
    "Let's augment the node to be able to keep track of count!"
   ]
  },
  {
   "cell_type": "code",
   "execution_count": 33,
   "metadata": {
    "collapsed": true
   },
   "outputs": [],
   "source": [
    "class Node(object):\n",
    "    def __init__(self, key):\n",
    "        self.key     = key\n",
    "        self.left    = None\n",
    "        self.right   = None\n",
    "        \n",
    "        self.count   = 1 # <---- here we store the count\n",
    "    \n",
    "    # If any of the subtrees change we need to recompute count using the recursive formula\n",
    "    def recompute_count(self):\n",
    "        left_count  = self.left.count  if self.left  is not None else 0\n",
    "        right_count = self.right.count if self.right is not None else 0\n",
    "        self.count = left_count + right_count + 1"
   ]
  },
  {
   "cell_type": "markdown",
   "metadata": {},
   "source": [
    "### Insertion keeping track of count\n",
    "\n",
    "Let's now modify the insertion code to keep track of count. This should be quite easy, all we need to do is recompute count if any of the children of particular node changed."
   ]
  },
  {
   "cell_type": "code",
   "execution_count": 34,
   "metadata": {
    "collapsed": true
   },
   "outputs": [],
   "source": [
    "def BST_insert(where, key):\n",
    "    \"\"\"Inserts a node in a binary tree\"\"\"\n",
    "    if where is None:\n",
    "        # if we found a branch pointing to none, it means we\n",
    "        # can insert the node here\n",
    "        return Node(key)\n",
    "    elif key <= where.key:\n",
    "        # try inserting the node somewhere in the left subtree\n",
    "        where.left = BST_insert(where.left, key)\n",
    "    elif key > where.key:\n",
    "        # try inserting the node in the right subtree\n",
    "        where.right = BST_insert(where.right, key)\n",
    "        \n",
    "    where.recompute_count() # <------- THIS IS THE ONLY LINE THAT CHANGED\n",
    "        \n",
    "    return where"
   ]
  },
  {
   "cell_type": "markdown",
   "metadata": {},
   "source": [
    "### Let's verify that the code works"
   ]
  },
  {
   "cell_type": "code",
   "execution_count": 39,
   "metadata": {
    "collapsed": false
   },
   "outputs": [
    {
     "data": {
      "image/png": "[encoded data removed]",
      "text/plain": [
       "<igraph.drawing.Plot at 0x7f7ab1886a10>"
      ]
     },
     "execution_count": 39,
     "metadata": {},
     "output_type": "execute_result"
    }
   ],
   "source": [
    "tree = BST()\n",
    "for el in [4,2,1,3,5,6]:\n",
    "    tree.insert(el)\n",
    "tree.draw(display_count=True)"
   ]
  },
  {
   "cell_type": "markdown",
   "metadata": {},
   "source": [
    "## `kth_element` implementation\n",
    "\n",
    "**Observation** Let $X$ be a node and $X_{key}$ its key. If $X_{key}$ is $k$-th node in the sorted order then $ k > count_{X_L}$. \n",
    "\n",
    "**Explanation** All the nodes in the left subtree are smaller than $X_{key}$ (for simplicity assume all are distinct). \n",
    "\n",
    "\n",
    "This observation is fundamental for the To implement `kth_element` function. Let's consider three cases. Let's assume `kth_element(X, k)` returns $k$ element in the tree rooted in $X$.\n",
    "\n",
    "#### Case 1: Result is in the left subtree\n",
    "\n",
    "This case occurs if $count_{X_L} \\geq k$. In that case we return kth_element($X_L$, k).\n",
    "\n",
    "#### Case 2: Result is in the root\n",
    "\n",
    "This case occurs if $count_{X_L} + 1 = k$. In that case we return $X_{key}$\n",
    "\n",
    "#### Case 3: Result is in the right subtree\n",
    "\n",
    "This case occurs if $count_{X_L} + 1 < k$. In that case we return kth_element($X_R$, $k - (count_{X_L} + 1)$). "
   ]
  },
  {
   "cell_type": "code",
   "execution_count": 54,
   "metadata": {
    "collapsed": false
   },
   "outputs": [],
   "source": [
    "def BST_kth_element(node, k):\n",
    "    if node is None or k < 1:\n",
    "        return None\n",
    "    left_count = node.left.count if node.left is not None else 0\n",
    "    if left_count >= k:\n",
    "        return BST_kth_element(node.left, k)\n",
    "    elif left_count + 1 == k:\n",
    "        return node\n",
    "    elif left_count + 1 < k:\n",
    "        return BST_kth_element(node.right, k - (1 + left_count))"
   ]
  },
  {
   "cell_type": "markdown",
   "metadata": {},
   "source": [
    "## Verify on example"
   ]
  },
  {
   "cell_type": "code",
   "execution_count": 55,
   "metadata": {
    "collapsed": false
   },
   "outputs": [
    {
     "data": {
      "image/png": "[encoded data removed]",
      "text/plain": [
       "<igraph.drawing.Plot at 0x7f7ab18ad510>"
      ]
     },
     "execution_count": 55,
     "metadata": {},
     "output_type": "execute_result"
    }
   ],
   "source": [
    "tree = BST()\n",
    "for el in [42,13,11,33,54,65]:\n",
    "    tree.insert(el)\n",
    "tree.draw(display_count=True)"
   ]
  },
  {
   "cell_type": "code",
   "execution_count": 56,
   "metadata": {
    "collapsed": false
   },
   "outputs": [
    {
     "data": {
      "text/plain": [
       "True"
      ]
     },
     "execution_count": 56,
     "metadata": {},
     "output_type": "execute_result"
    }
   ],
   "source": [
    "BST_kth_element(tree.root, 0) is None"
   ]
  },
  {
   "cell_type": "code",
   "execution_count": 57,
   "metadata": {
    "collapsed": false
   },
   "outputs": [
    {
     "name": "stdout",
     "output_type": "stream",
     "text": [
      "1-th element is 11\n",
      "2-th element is 13\n",
      "3-th element is 33\n",
      "4-th element is 42\n",
      "5-th element is 54\n",
      "6-th element is 65\n"
     ]
    }
   ],
   "source": [
    "for k in range(1, 7):\n",
    "    print('%d-th element is %d' % (k, BST_kth_element(tree.root, k).key))"
   ]
  },
  {
   "cell_type": "code",
   "execution_count": 58,
   "metadata": {
    "collapsed": false
   },
   "outputs": [
    {
     "data": {
      "text/plain": [
       "True"
      ]
     },
     "execution_count": 58,
     "metadata": {},
     "output_type": "execute_result"
    }
   ],
   "source": [
    "BST_kth_element(tree.root, 7) is None"
   ]
  },
  {
   "cell_type": "code",
   "execution_count": 59,
   "metadata": {
    "collapsed": false
   },
   "outputs": [
    {
     "name": "stdout",
     "output_type": "stream",
     "text": [
      "Median is 33\n"
     ]
    }
   ],
   "source": [
    "print('Median is %d' % (BST_kth_element(tree.root, tree.root.count / 2).key))"
   ]
  },
  {
   "cell_type": "markdown",
   "metadata": {},
   "source": [
    "## Exercise\n",
    "\n",
    "Augment BST code for deletion to keep track of the count. Deletion code is available in notebook for lecture5."
   ]
  }
 ],
 "metadata": {
  "kernelspec": {
   "display_name": "Python 2",
   "language": "python",
   "name": "python2"
  },
  "language_info": {
   "codemirror_mode": {
    "name": "ipython",
    "version": 2
   },
   "file_extension": ".py",
   "mimetype": "text/x-python",
   "name": "python",
   "nbconvert_exporter": "python",
   "pygments_lexer": "ipython2",
   "version": "2.7.8"
  }
 },
 "nbformat": 4,
 "nbformat_minor": 0
}
