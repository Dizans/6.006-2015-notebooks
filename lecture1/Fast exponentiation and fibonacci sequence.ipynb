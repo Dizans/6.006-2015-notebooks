{
 "cells": [
  {
   "cell_type": "code",
   "execution_count": 1,
   "metadata": {
    "collapsed": true
   },
   "outputs": [],
   "source": [
    "import numpy as np\n",
    "import cProfile\n",
    "from operator import mul"
   ]
  },
  {
   "cell_type": "markdown",
   "metadata": {},
   "source": [
    "# Fast Exponentiation"
   ]
  },
  {
   "cell_type": "markdown",
   "metadata": {},
   "source": [
    "We can quickly compute $a^b \\ mod\\ m$ using, the following trick best illustrated by example.\n",
    "\n",
    "$$\n",
    "5^{13} = 5 * 5^{12} = 5 * (5^6)^2 = 5 * ((5^3)^2)^2 = 5 * ((5*5^2)^2)^2 = 5 * ((5*5*5)^2)^2\n",
    "$$\n",
    "\n",
    "In that example even though we would naively need 11 multiplications to calculate results we managed to get away with 5.\n",
    "In general we can write out \n",
    "\n",
    "$$\n",
    "fexp(a,b,m) =\n",
    "\\begin{cases}\n",
    "a & \\text{if}\\ b=1\\\\\n",
    "fexp(a,b/2,m)^2 &\\text{if}\\ b\\ \\text{even}\\\\\n",
    "a \\cdot fexp(a,b-1,m) &\\text{otherwise}\n",
    "\\end{cases}\n",
    "$$\n"
   ]
  },
  {
   "cell_type": "code",
   "execution_count": 2,
   "metadata": {
    "collapsed": false
   },
   "outputs": [],
   "source": [
    "def fexp_recursive(a, b, m, mul_op=mul):\n",
    "    # We can easiely handle b = 0, here, but we choose not to\n",
    "    # this will be helpful later when we deal with matrices...\n",
    "    assert b >= 1\n",
    "    if b == 1:\n",
    "        return a\n",
    "    elif b % 2 == 0:\n",
    "        conquered = fexp_recursive(a, b / 2, m, mul_op=mul_op)\n",
    "        return  mul_op(conquered, conquered) % m\n",
    "    else:\n",
    "        b_one_less = fexp_recursive(a, b - 1, m, mul_op=mul_op)        \n",
    "        return mul_op(a, b_one_less) % m"
   ]
  },
  {
   "cell_type": "code",
   "execution_count": 3,
   "metadata": {
    "collapsed": false
   },
   "outputs": [
    {
     "data": {
      "text/plain": [
       "64"
      ]
     },
     "execution_count": 3,
     "metadata": {},
     "output_type": "execute_result"
    }
   ],
   "source": [
    "fexp_recursive(2, 6, 1000)"
   ]
  },
  {
   "cell_type": "code",
   "execution_count": 4,
   "metadata": {
    "collapsed": false
   },
   "outputs": [
    {
     "data": {
      "text/plain": [
       "4"
      ]
     },
     "execution_count": 4,
     "metadata": {},
     "output_type": "execute_result"
    }
   ],
   "source": [
    "fexp_recursive(2, 6, 10)"
   ]
  },
  {
   "cell_type": "code",
   "execution_count": 5,
   "metadata": {
    "collapsed": false
   },
   "outputs": [
    {
     "name": "stdout",
     "output_type": "stream",
     "text": [
      "         89 function calls (46 primitive calls) in 0.000 seconds\n",
      "\n",
      "   Ordered by: standard name\n",
      "\n",
      "   ncalls  tottime  percall  cumtime  percall filename:lineno(function)\n",
      "     44/1    0.000    0.000    0.000    0.000 <ipython-input-2-78a9a64277e1>:1(fexp_recursive)\n",
      "        1    0.000    0.000    0.000    0.000 <string>:1(<module>)\n",
      "        1    0.000    0.000    0.000    0.000 {method 'disable' of '_lsprof.Profiler' objects}\n",
      "       43    0.000    0.000    0.000    0.000 {operator.mul}\n",
      "\n",
      "\n"
     ]
    }
   ],
   "source": [
    "cProfile.run(\"fexp_recursive(2, 10000000000, 10)\")"
   ]
  },
  {
   "cell_type": "markdown",
   "metadata": {},
   "source": [
    "### Iterative approach\n",
    "Very similar algorithm can be written out without recursion by looking at binary representation of b and noticing that if $i-th$ bit is one, then we need to multiply the result by $$a^{2^i}$$\n",
    "Don't worry if you don't fully understand the code below. It is included here, to show you that there are multiple ways of approaching implementation of this kind of solution. Also iterative algorithms are sometimes preferred - we will get back to that point below."
   ]
  },
  {
   "cell_type": "code",
   "execution_count": 6,
   "metadata": {
    "collapsed": true
   },
   "outputs": [],
   "source": [
    "def fexp_iterative(a, b, m, mul_op=mul):\n",
    "    assert b >= 1\n",
    "    result = a\n",
    "    multiplier = a\n",
    "    b -= 1\n",
    "    while b > 0:\n",
    "        if b % 2 == 1:\n",
    "            result = mul_op(result, multiplier) % m\n",
    "        multiplier = mul_op(multiplier, multiplier) % m\n",
    "        b /= 2\n",
    "    return result"
   ]
  },
  {
   "cell_type": "code",
   "execution_count": 7,
   "metadata": {
    "collapsed": false
   },
   "outputs": [
    {
     "data": {
      "text/plain": [
       "64"
      ]
     },
     "execution_count": 7,
     "metadata": {},
     "output_type": "execute_result"
    }
   ],
   "source": [
    "fexp_iterative(2, 6, 1000)"
   ]
  },
  {
   "cell_type": "code",
   "execution_count": 8,
   "metadata": {
    "collapsed": false
   },
   "outputs": [
    {
     "data": {
      "text/plain": [
       "4"
      ]
     },
     "execution_count": 8,
     "metadata": {},
     "output_type": "execute_result"
    }
   ],
   "source": [
    "fexp_iterative(2, 6, 10)"
   ]
  },
  {
   "cell_type": "code",
   "execution_count": 9,
   "metadata": {
    "collapsed": false
   },
   "outputs": [
    {
     "name": "stdout",
     "output_type": "stream",
     "text": [
      "         57 function calls in 0.000 seconds\n",
      "\n",
      "   Ordered by: standard name\n",
      "\n",
      "   ncalls  tottime  percall  cumtime  percall filename:lineno(function)\n",
      "        1    0.000    0.000    0.000    0.000 <ipython-input-6-dc8e4fdca639>:1(fexp_iterative)\n",
      "        1    0.000    0.000    0.000    0.000 <string>:1(<module>)\n",
      "        1    0.000    0.000    0.000    0.000 {method 'disable' of '_lsprof.Profiler' objects}\n",
      "       54    0.000    0.000    0.000    0.000 {operator.mul}\n",
      "\n",
      "\n"
     ]
    }
   ],
   "source": [
    "cProfile.run(\"fexp_iterative(2, 10000000000, 10)\")"
   ]
  },
  {
   "cell_type": "markdown",
   "metadata": {},
   "source": [
    "# Fibonacci sequence"
   ]
  },
  {
   "cell_type": "markdown",
   "metadata": {},
   "source": [
    "The Fibonacci Sequence is the series of numbers: 0, 1, 1, 2, 3, 5, 8, 13, 21, 34, ... The next number is found by adding up the two numbers before it. I.e. 3 is found by adding the two numbers before it (1+2). Here we will explore 3 different algorithms for computing the $n^{th}$ Fibonacci number and analyze their time complexity. We denote the $n^{th}$ Fibonacci number as $F_{n}$. Code for the following 3 algorithms is in recitation1.py which is available on the Stellar site under recitation materials. \n"
   ]
  },
  {
   "cell_type": "markdown",
   "metadata": {},
   "source": [
    "### Naive Recursion\n",
    "\n",
    "By definition, $F_{n} = F_{n - 1} + F_{n - 2}$. As this is the ``naive'' algorithm, let's not try to be too clever and instead simply write an algorithm using only this definition!\n",
    "\n",
    "Now to analyze the runtime. Formally this algorithm can be analyzed by solving the recurrence, $T(n) = T(n - 1) + T(n - 2) + \\Theta(1)$. This is a tough recursion to solve! Let us separately find an upper and lower bound instead of a $\\Theta$ relation. \n",
    "\n",
    "It is clear that the recurrence $T(n) = 2T(n - 1) + \\Theta(1)$ is strictly greater than our original, so let us use it to find an upper bound. Each recursive call results in two child recursive calls until the base case is reached. Therefore, there will be $\\Theta(2^{i})$ recursive calls made at the $i^{th}$ level of recursion. Since, the subproblem size only decreases by one on each call, there will be $\\Theta(n)$ levels of recursion before the base case is reached. Therefore this recurrence solves to be $\\Theta(2^{n})$ and we can conclude that our algorithm is $O(2^{n})$\n",
    "\n",
    "The recurrence $T(n) = 2T(n - 2) + \\Theta(1)$ is strictly less than our original. Using similar logic as above we can see that this recurrence solves to $\\Theta(2^{\\frac{n}{2}})$ and we conclude that our algorithm is $\\Omega(2^{\\frac{n}{2}})$.\n",
    "\n",
    "Challenge Problem: Find a tight asymptotic bound to this algorithms runtime. Hint: Draw a tree diagraming recursive calls and look for the pattern!\n",
    "\n"
   ]
  },
  {
   "cell_type": "code",
   "execution_count": 10,
   "metadata": {
    "collapsed": true
   },
   "outputs": [],
   "source": [
    "def fibonacci_recursive_slow(n, m):\n",
    "    assert n >= 0\n",
    "    if n == 0:\n",
    "        return 0\n",
    "    elif n == 1:\n",
    "        return 1\n",
    "    else:\n",
    "        return (fibonacci_recursive_slow(n - 1, m) + fibonacci_recursive_slow(n - 2, m)) % m "
   ]
  },
  {
   "cell_type": "code",
   "execution_count": 11,
   "metadata": {
    "collapsed": false
   },
   "outputs": [
    {
     "data": {
      "text/plain": [
       "55"
      ]
     },
     "execution_count": 11,
     "metadata": {},
     "output_type": "execute_result"
    }
   ],
   "source": [
    "fibonacci_recursive_slow(10, 1000)"
   ]
  },
  {
   "cell_type": "code",
   "execution_count": 12,
   "metadata": {
    "collapsed": false
   },
   "outputs": [
    {
     "name": "stdout",
     "output_type": "stream",
     "text": [
      "         2692539 function calls (3 primitive calls) in 0.888 seconds\n",
      "\n",
      "   Ordered by: standard name\n",
      "\n",
      "   ncalls  tottime  percall  cumtime  percall filename:lineno(function)\n",
      "2692537/1    0.888    0.000    0.888    0.888 <ipython-input-10-c32dd02825c7>:1(fibonacci_recursive_slow)\n",
      "        1    0.000    0.000    0.888    0.888 <string>:1(<module>)\n",
      "        1    0.000    0.000    0.000    0.000 {method 'disable' of '_lsprof.Profiler' objects}\n",
      "\n",
      "\n"
     ]
    }
   ],
   "source": [
    "cProfile.run(\"fibonacci_recursive_slow(30, 1000)\")"
   ]
  },
  {
   "cell_type": "markdown",
   "metadata": {},
   "source": [
    "### Memoized Recursion\n",
    "It's often the case that we can improve the efficiency of algorithms by exploiting natural ``structures'' present in the problem. Notice in the naive algorithm that we often compute the same thing multiple times! This occurs because we have overlapping subproblems. For example, both $F_{n - 1}$ and $F_{n - 2}$ depend on the solution to $F_{n - 3}$. We can take advantage of this structure by memoizing (storing) the solutions to subproblems as we go. Therefore instead of recalculating them we can simply look them up! Look in recitation1.py for python code.\n",
    "\n",
    "This improved algorithm has a time complexity of $\\Theta(n)$. This can be seen from the fact that we in total solve for $\\Theta(n)$ $F_{i}$s, each of which take only constant time to compute. \n"
   ]
  },
  {
   "cell_type": "code",
   "execution_count": 13,
   "metadata": {
    "collapsed": true
   },
   "outputs": [],
   "source": [
    "cache = {}\n",
    "def fibonacci_recursive_fast(n, m):\n",
    "    if not (n,m) in cache:\n",
    "        assert n >= 0\n",
    "        if n == 0:\n",
    "            result = 0\n",
    "        elif n == 1:\n",
    "            result = 1\n",
    "        else:\n",
    "            result = (fibonacci_recursive_fast(n - 1, m) + fibonacci_recursive_fast(n - 2, m)) % m\n",
    "        cache[(n,m)] = result\n",
    "    return cache[(n,m)]"
   ]
  },
  {
   "cell_type": "code",
   "execution_count": 14,
   "metadata": {
    "collapsed": false
   },
   "outputs": [
    {
     "data": {
      "text/plain": [
       "55"
      ]
     },
     "execution_count": 14,
     "metadata": {},
     "output_type": "execute_result"
    }
   ],
   "source": [
    "fibonacci_recursive_fast(10, 1000)"
   ]
  },
  {
   "cell_type": "code",
   "execution_count": 15,
   "metadata": {
    "collapsed": false
   },
   "outputs": [
    {
     "name": "stdout",
     "output_type": "stream",
     "text": [
      "         1783 function calls (3 primitive calls) in 0.004 seconds\n",
      "\n",
      "   Ordered by: standard name\n",
      "\n",
      "   ncalls  tottime  percall  cumtime  percall filename:lineno(function)\n",
      "   1781/1    0.004    0.000    0.004    0.004 <ipython-input-13-45ec8644bee2>:2(fibonacci_recursive_fast)\n",
      "        1    0.000    0.000    0.004    0.004 <string>:1(<module>)\n",
      "        1    0.000    0.000    0.000    0.000 {method 'disable' of '_lsprof.Profiler' objects}\n",
      "\n",
      "\n"
     ]
    }
   ],
   "source": [
    "cProfile.run(\"fibonacci_recursive_fast(900, 1000)\")"
   ]
  },
  {
   "cell_type": "markdown",
   "metadata": {},
   "source": [
    "### Iterative versus recursive solutions\n",
    "The code below should give a runtime error on a standard Python interpreter - because its exceeding the default stack limit. This kind of limitation is why we often opt for iterative versions of the algorithm. Don't worry though, it turns out that for every recursive solution there exists an itertive equivalent. Indeed - we can emulate recursion stack with a stack datastructure. Such a solution is often tedious to implemented and constact factor of the runtime become large. There's why we often seek for *natural order of calculation*, i.e. order in which we compute the subproblems, such that by the time we need a particular result it has alredy been computed. For example in case of Fibonacci the natural order of computatation is to compute $F_1$, then $F_2$, then $F_3$ etc. Notice how resulting solution is even simpler than the recursive one!"
   ]
  },
  {
   "cell_type": "code",
   "execution_count": 16,
   "metadata": {
    "collapsed": true
   },
   "outputs": [],
   "source": [
    "# fibonacci_recursive_fast(9000, 1000)"
   ]
  },
  {
   "cell_type": "code",
   "execution_count": 17,
   "metadata": {
    "collapsed": true
   },
   "outputs": [],
   "source": [
    "def fibonnaci_iterative(n, m):\n",
    "    assert n >= 0\n",
    "    if n == 0:\n",
    "        return 0\n",
    "    f_current, f_previous = 1, 0\n",
    "    for _ in range(n - 1):\n",
    "        f_current, f_previous = f_current + f_previous % m, f_current\n",
    "    return f_current"
   ]
  },
  {
   "cell_type": "code",
   "execution_count": 18,
   "metadata": {
    "collapsed": false
   },
   "outputs": [
    {
     "data": {
      "text/plain": [
       "55"
      ]
     },
     "execution_count": 18,
     "metadata": {},
     "output_type": "execute_result"
    }
   ],
   "source": [
    "fibonnaci_iterative(10, 1000)"
   ]
  },
  {
   "cell_type": "code",
   "execution_count": 19,
   "metadata": {
    "collapsed": false
   },
   "outputs": [
    {
     "name": "stdout",
     "output_type": "stream",
     "text": [
      "         4 function calls in 1.025 seconds\n",
      "\n",
      "   Ordered by: standard name\n",
      "\n",
      "   ncalls  tottime  percall  cumtime  percall filename:lineno(function)\n",
      "        1    0.901    0.901    1.025    1.025 <ipython-input-17-732ce64d7038>:1(fibonnaci_iterative)\n",
      "        1    0.000    0.000    1.025    1.025 <string>:1(<module>)\n",
      "        1    0.000    0.000    0.000    0.000 {method 'disable' of '_lsprof.Profiler' objects}\n",
      "        1    0.124    0.124    0.124    0.124 {range}\n",
      "\n",
      "\n"
     ]
    }
   ],
   "source": [
    "cProfile.run(\"fibonnaci_iterative(10000000, 1000)\")"
   ]
  },
  {
   "cell_type": "markdown",
   "metadata": {},
   "source": [
    "### Matrix exponentiation\n",
    "\n",
    "Take a moment to think back to the recursive squaring algorithm from lecture. In a similar fashion, we can compute the $n^{th}$ Fibonacci number in logarithmic time by repeatedly squaring the matrix \n",
    "\n",
    "\n",
    "\\begin{align}\n",
    "\\begin{bmatrix}\n",
    "    1 & 1 \\\\\n",
    "    1 & 0\n",
    "\\end{bmatrix}\n",
    "\\end{align}\n",
    "\n",
    "In fact\n",
    "\n",
    "\n",
    "\\begin{align}\n",
    "\\begin{bmatrix}\n",
    "    1 & 1 \\\\\n",
    "    1 & 0\n",
    "\\end{bmatrix} ^{n} \n",
    "= \n",
    "\\begin{bmatrix}\n",
    "    F_{n + 1} & F_{n} \\\\\n",
    "    F_{n} & F_{n - 1}\n",
    "\\end{bmatrix}\n",
    "\\end{align}\n",
    "\n",
    "To give a rough proof of why this is the case, let us use induction on $n$. Our claim is trivially true in the base case $n = 1$. Now assuming that our claim holds for this matrix to the $n^{th}$ power, we must show that our claim is also true for this matrix to the $(n + 1)^{th}$ power. \n",
    "\n",
    "\n",
    "\\begin{align}\n",
    "\\begin{bmatrix}\n",
    "    1 & 1 \\\\\n",
    "    1 & 0\n",
    "\\end{bmatrix}\n",
    "*\n",
    " \\begin{bmatrix}\n",
    "    1 & 1 \\\\\n",
    "    1 & 0 \n",
    "\\end{bmatrix} ^{n} \n",
    "= \n",
    "\\begin{bmatrix}\n",
    "    1 & 1 \\\\\n",
    "    1 & 0 \\\\\n",
    "\\end{bmatrix}\n",
    "*\n",
    "\\begin{bmatrix}\n",
    "    F_{n + 1} & F_{n} \\\\\n",
    "    F_{n} & F_{n - 1}\n",
    "\\end{bmatrix}\n",
    " = \n",
    " \\begin{bmatrix}\n",
    "    F_{n + 1} + F_{n} & F_{n} + F_{n - 1} \\\\\n",
    "    F_{n + 1} & F_{n}\n",
    "\\end{bmatrix}\n",
    "=\n",
    "\\begin{bmatrix}\n",
    "    F_{n + 2} & F_{n+1} \\\\\n",
    "    F_{n + 1} & F_{n }\n",
    "\\end{bmatrix}\n",
    "\\end{align}\n",
    "\n",
    "Success! \n",
    "\n",
    "The runtime analysis for this algorithm is identical to that for modular exponentiation using repeated squaring. In particular we do not include cost of matrix multiply in our analysis, because matrix has constant size."
   ]
  },
  {
   "cell_type": "code",
   "execution_count": 23,
   "metadata": {
    "collapsed": false
   },
   "outputs": [],
   "source": [
    "F = np.array([[1, 1],\n",
    "              [1, 0]])\n",
    "\n",
    "def fibonnaci_matrix(n, m):\n",
    "    Fn = fexp_recursive(F, n, m, mul_op=np.dot)\n",
    "    return Fn[0][1]"
   ]
  },
  {
   "cell_type": "code",
   "execution_count": 24,
   "metadata": {
    "collapsed": false
   },
   "outputs": [
    {
     "data": {
      "text/plain": [
       "55"
      ]
     },
     "execution_count": 24,
     "metadata": {},
     "output_type": "execute_result"
    }
   ],
   "source": [
    "fibonnaci_matrix(10, 1000)"
   ]
  },
  {
   "cell_type": "code",
   "execution_count": 25,
   "metadata": {
    "collapsed": false
   },
   "outputs": [
    {
     "name": "stdout",
     "output_type": "stream",
     "text": [
      "         90 function calls (47 primitive calls) in 0.001 seconds\n",
      "\n",
      "   Ordered by: standard name\n",
      "\n",
      "   ncalls  tottime  percall  cumtime  percall filename:lineno(function)\n",
      "     44/1    0.000    0.000    0.001    0.001 <ipython-input-2-78a9a64277e1>:1(fexp_recursive)\n",
      "        1    0.000    0.000    0.001    0.001 <ipython-input-23-eff9346cd7e3>:4(fibonnaci_matrix)\n",
      "        1    0.000    0.000    0.001    0.001 <string>:1(<module>)\n",
      "        1    0.000    0.000    0.000    0.000 {method 'disable' of '_lsprof.Profiler' objects}\n",
      "       43    0.000    0.000    0.000    0.000 {numpy.core.multiarray.dot}\n",
      "\n",
      "\n"
     ]
    }
   ],
   "source": [
    "cProfile.run(\"fibonnaci_matrix(10000000000, 1000)\")"
   ]
  },
  {
   "cell_type": "markdown",
   "metadata": {},
   "source": [
    "# Problems to think about (non-examinable, non-compulsory, strictly for fun...)\n",
    "\n",
    "1. Give an example of another operation besides multiplication and matrix multiply that can be efficiently composed using fast exponentiation.\n",
    "\n",
    "2. Compute the n-th item of tribonacci sequence using the three methods presented above:\n",
    "\n",
    "\\begin{align}\n",
    "s_n =\n",
    "\\begin{cases}\n",
    "1 & \\text{if}\\ n \\in \\{ 1,2,3 \\} \\\\\n",
    "2s_{n-1} + 2s_{n-2} + s_{n-3} & \\text{otherwise}\n",
    "\\end{cases}\n",
    "\\end{align}\n"
   ]
  },
  {
   "cell_type": "code",
   "execution_count": null,
   "metadata": {
    "collapsed": true
   },
   "outputs": [],
   "source": []
  }
 ],
 "metadata": {
  "kernelspec": {
   "display_name": "Python 2",
   "language": "python",
   "name": "python2"
  },
  "language_info": {
   "codemirror_mode": {
    "name": "ipython",
    "version": 2
   },
   "file_extension": ".py",
   "mimetype": "text/x-python",
   "name": "python",
   "nbconvert_exporter": "python",
   "pygments_lexer": "ipython2",
   "version": "2.7.8"
  }
 },
 "nbformat": 4,
 "nbformat_minor": 0
}
