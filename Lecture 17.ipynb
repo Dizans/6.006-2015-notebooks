{
 "cells": [
  {
   "cell_type": "markdown",
   "metadata": {},
   "source": [
    "# LCS "
   ]
  },
  {
   "cell_type": "code",
   "execution_count": 9,
   "metadata": {
    "collapsed": true
   },
   "outputs": [],
   "source": [
    "import numpy as np"
   ]
  },
  {
   "cell_type": "code",
   "execution_count": 61,
   "metadata": {
    "collapsed": false
   },
   "outputs": [],
   "source": [
    "def LCS(s1, s2):\n",
    "    # initialize state\n",
    "    n, m = len(s1) + 1, len(s2) + 1\n",
    "    dp =   [\n",
    "        [ 0 for _ in range(m)] \n",
    "        for _ in range(n)\n",
    "    ]\n",
    "    pred = [\n",
    "        [ (-1,-1) for _ in range(m)]\n",
    "        for _ in range(n)\n",
    "    ]\n",
    "    \n",
    "    for i in range(1,n):\n",
    "        for j in range(1,m):\n",
    "            # CASE 1: ignore character in s1\n",
    "            dp[i][j], pred[i][j] = dp[i-1][j], (i-1,j)\n",
    "            # CASE 2: ignore character in s2\n",
    "            if dp[i][j] < dp[i][j-1]:\n",
    "                dp[i][j], pred[i][j] = dp[i][j-1], (i,j-1)\n",
    "            # CASE 3: extend\n",
    "            if s1[i-1] == s2[j-1] and dp[i][j] < dp[i-1][j-1] + 1:\n",
    "                dp[i][j], pred[i][j] = dp[i-1][j-1] + 1, (i-1,j-1)\n",
    "    \n",
    "    print (np.array(dp))\n",
    "\n",
    "    # recover the solution\n",
    "    x,y = (n-1,m-1)\n",
    "    solution = []\n",
    "    while pred[x][y] != (-1,-1):\n",
    "        if pred[x][y] == (x-1, y-1):\n",
    "            solution.append(s1[x-1])\n",
    "        (x,y) = pred[x][y]\n",
    "    solution.reverse()\n",
    "    \n",
    "    return solution"
   ]
  },
  {
   "cell_type": "code",
   "execution_count": 62,
   "metadata": {
    "collapsed": false
   },
   "outputs": [
    {
     "name": "stdout",
     "output_type": "stream",
     "text": [
      "[[0 0 0 0 0]\n",
      " [0 1 1 1 1]\n",
      " [0 1 2 2 2]\n",
      " [0 1 2 2 2]\n",
      " [0 1 2 3 3]]\n"
     ]
    },
    {
     "data": {
      "text/plain": [
       "['b', 'a', 'b']"
      ]
     },
     "execution_count": 62,
     "metadata": {},
     "output_type": "execute_result"
    }
   ],
   "source": [
    "LCS(\"bacb\", \"babd\")"
   ]
  },
  {
   "cell_type": "code",
   "execution_count": 63,
   "metadata": {
    "collapsed": false
   },
   "outputs": [
    {
     "name": "stdout",
     "output_type": "stream",
     "text": [
      "[[0 0 0 0 0 0 0 0 0 0]\n",
      " [0 0 0 1 1 1 1 1 1 1]\n",
      " [0 0 0 1 2 2 2 2 2 2]\n",
      " [0 1 1 1 2 2 2 2 2 2]\n",
      " [0 1 2 2 2 2 2 2 2 2]\n",
      " [0 1 2 3 3 3 3 3 3 3]\n",
      " [0 1 2 3 4 4 4 4 4 4]\n",
      " [0 1 2 3 4 4 4 5 5 5]\n",
      " [0 1 2 3 4 4 4 5 6 6]\n",
      " [0 1 2 3 4 4 5 5 6 7]]\n"
     ]
    },
    {
     "data": {
      "text/plain": [
       "['t', 'h', 'i', 's', 'l', 'c', 's']"
      ]
     },
     "execution_count": 63,
     "metadata": {},
     "output_type": "execute_result"
    }
   ],
   "source": [
    "LCS(\"isthislcs\", \"thisislcs\")"
   ]
  },
  {
   "cell_type": "markdown",
   "metadata": {},
   "source": [
    "# Viterbi algorithm"
   ]
  },
  {
   "cell_type": "code",
   "execution_count": 1,
   "metadata": {
    "collapsed": true
   },
   "outputs": [],
   "source": [
    "states = ('Healthy', 'Fever')\n",
    " \n",
    "observations = ('normal', 'cold', 'dizzy')\n",
    " \n",
    "start_probability = {'Healthy': 0.6, 'Fever': 0.4}\n",
    " \n",
    "transition_probability = {\n",
    "   'Healthy' : {'Healthy': 0.7, 'Fever': 0.3},\n",
    "   'Fever' : {'Healthy': 0.4, 'Fever': 0.6}\n",
    "   }\n",
    " \n",
    "emission_probability = {\n",
    "   'Healthy' : {'normal': 0.5, 'cold': 0.4, 'dizzy': 0.1},\n",
    "   'Fever' : {'normal': 0.1, 'cold': 0.3, 'dizzy': 0.6}\n",
    "}"
   ]
  },
  {
   "cell_type": "code",
   "execution_count": 7,
   "metadata": {
    "collapsed": false
   },
   "outputs": [],
   "source": [
    "def viterbi(obs, states, start_p, trans_p, emit_p):\n",
    "    V = [{}]\n",
    "    predecessor = [{}]\n",
    "    \n",
    "    # Initialize base cases (t == 0)\n",
    "    for y in states:\n",
    "        V[0][y] = start_p[y] * emit_p[y][obs[0]]\n",
    "        predecessor[0][y] = None\n",
    "    \n",
    "    # Run Viterbi for t > 0\n",
    "    for t in range(1, len(obs)):\n",
    "        V.append({})\n",
    "        predecessor.append({})\n",
    "\n",
    "        for y in states:\n",
    "            highest_probability, best_y_prev = 0.0, None\n",
    "            for y_prev in states:\n",
    "                probability_from_y_prev = V[t-1][y_prev] * trans_p[y_prev][y] * emit_p[y][obs[t]]\n",
    "                if probability_from_y_prev > highest_probability:\n",
    "                    highest_probability, best_y_prev = probability_from_y_prev, y_prev\n",
    "            V[t][y] = highest_probability\n",
    "            predecessor[t][y] = best_y_prev\n",
    "    \n",
    "    print(*dptable(V), sep='')\n",
    "    \n",
    "    # Return the most likely sequence over the given time frame\n",
    "    n = len(obs) - 1\n",
    "    (prob, state) = max((V[n][y], y) for y in states)\n",
    "    \n",
    "    # Recover the path\n",
    "    path = []\n",
    "    for t in range(n,-1,-1):\n",
    "        path.append(state)\n",
    "        state = predecessor[t][state]\n",
    "    path.reverse()\n",
    "    \n",
    "    return (prob, path)\n",
    "\n",
    "# Don't study this; it just prints a table of the steps.\n",
    "def dptable(V):\n",
    "    yield \"    \"\n",
    "    yield \" \".join((\"%7d\" % i) for i in range(len(V)))\n",
    "    yield \"\\n\"\n",
    "    for y in V[0]:\n",
    "        yield \"%.5s: \" % y\n",
    "        yield \" \".join(\"%.7s\" % (\"%f\" % v[y]) for v in V)\n",
    "        yield \"\\n\""
   ]
  },
  {
   "cell_type": "code",
   "execution_count": 8,
   "metadata": {
    "collapsed": false
   },
   "outputs": [
    {
     "name": "stdout",
     "output_type": "stream",
     "text": [
      "          0       1       2\n",
      "Fever: 0.04000 0.02700 0.01512\n",
      "Healt: 0.30000 0.08400 0.00588\n",
      "\n"
     ]
    },
    {
     "data": {
      "text/plain": [
       "(0.01512, ['Healthy', 'Healthy', 'Fever'])"
      ]
     },
     "execution_count": 8,
     "metadata": {},
     "output_type": "execute_result"
    }
   ],
   "source": [
    "viterbi(observations, states, start_probability, transition_probability, emission_probability)"
   ]
  },
  {
   "cell_type": "code",
   "execution_count": null,
   "metadata": {
    "collapsed": true
   },
   "outputs": [],
   "source": []
  }
 ],
 "metadata": {
  "kernelspec": {
   "display_name": "Python 3",
   "language": "python",
   "name": "python3"
  },
  "language_info": {
   "codemirror_mode": {
    "name": "ipython",
    "version": 3
   },
   "file_extension": ".py",
   "mimetype": "text/x-python",
   "name": "python",
   "nbconvert_exporter": "python",
   "pygments_lexer": "ipython3",
   "version": "3.4.1"
  }
 },
 "nbformat": 4,
 "nbformat_minor": 0
}
