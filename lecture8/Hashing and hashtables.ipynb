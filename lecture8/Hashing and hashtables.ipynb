{
 "cells": [
  {
   "cell_type": "code",
   "execution_count": 51,
   "metadata": {
    "collapsed": true
   },
   "outputs": [],
   "source": [
    "import cProfile\n",
    "import math\n",
    "\n",
    "from collections import namedtuple"
   ]
  },
  {
   "cell_type": "markdown",
   "metadata": {},
   "source": [
    "# Hash tables and hashing functions\n",
    "\n",
    "## Hashing functions\n",
    "\n",
    "Want a function $h(k)$ which maps every key $k$ in the universe $U$ to some index $i, 0 \\le i < m$. We call this function a \\textbf{hash function}. Given a $k$, we compute $i = h(k)$ and then use this $i$ as a basis for insertion, searching or deletion. Some functions are better than others. A good hash function has these properties:\n",
    "- item want $i$ to be uniformly distributed over all $m$\n",
    "- item should not hash similar/related keys to the same slot.\n",
    "- item fast to compute. $O(1)$ time.\n",
    "- item should not change with time. We want some key $k$ to always hash to the same $h(k)$.\n",
    "\n",
    "\n",
    "### Simple Uniform Hashing Assumption\n",
    "We want our hash functions to distribute the hashes uniformly across all $m$. We usually assume something called simple uniform hashing. It means that given any two randomly chosen keys $k_1$ and $k_2$, the probability that they have equal hashes $= \\frac{1}{m}$.\n",
    "\n",
    "$$ \n",
    "P[h(k_1) = h(k_2)] = \\frac{1}{m}\n",
    "$$\n",
    "\n",
    "Let's see some examples of hash functions and analyze them."
   ]
  },
  {
   "cell_type": "markdown",
   "metadata": {},
   "source": [
    "### Examples of hash functions\n",
    "\n",
    "#### Divition method\n",
    "\n",
    "The division method is one way to create hash functions. The functions take the form\n",
    "\n",
    "$$\n",
    "h(k) = k \\mod m\n",
    "$$\n",
    "\n",
    "Since we’re taking a value $\\mod m$, $h(k)$ does indeed map the universe of keys to a slot in the hash table. \n",
    "\n",
    "It’s important to note that if we’re using this method to create hash functions, $m$ should not be a power of 2. If $m = 2 p$ , then the $h(k)$ only looks at the $p$ lower bits of $k$, completely ignoring the rest of the bits in $k$. "
   ]
  },
  {
   "cell_type": "code",
   "execution_count": 9,
   "metadata": {
    "collapsed": false
   },
   "outputs": [],
   "source": [
    "def hashtest(b, mod):\n",
    "    for i in range(2*mod):\n",
    "        print(\" %d * %d (mod %d) = %d\" % (b, i, mod, (b*i) % mod))"
   ]
  },
  {
   "cell_type": "code",
   "execution_count": 10,
   "metadata": {
    "collapsed": false
   },
   "outputs": [
    {
     "name": "stdout",
     "output_type": "stream",
     "text": [
      " 4 * 0 (mod 8) = 0\n",
      " 4 * 1 (mod 8) = 4\n",
      " 4 * 2 (mod 8) = 0\n",
      " 4 * 3 (mod 8) = 4\n",
      " 4 * 4 (mod 8) = 0\n",
      " 4 * 5 (mod 8) = 4\n",
      " 4 * 6 (mod 8) = 0\n",
      " 4 * 7 (mod 8) = 4\n",
      " 4 * 8 (mod 8) = 0\n",
      " 4 * 9 (mod 8) = 4\n",
      " 4 * 10 (mod 8) = 0\n",
      " 4 * 11 (mod 8) = 4\n",
      " 4 * 12 (mod 8) = 0\n",
      " 4 * 13 (mod 8) = 4\n",
      " 4 * 14 (mod 8) = 0\n",
      " 4 * 15 (mod 8) = 4\n"
     ]
    }
   ],
   "source": [
    "hashtest(4, 8)"
   ]
  },
  {
   "cell_type": "markdown",
   "metadata": {},
   "source": [
    "Is it enough to take odd numbers then? \n",
    "\n",
    "With a composite number you have the additional issue where you get poor performance if a disproportionate number of keys share factors with $m$."
   ]
  },
  {
   "cell_type": "code",
   "execution_count": 12,
   "metadata": {
    "collapsed": false
   },
   "outputs": [
    {
     "name": "stdout",
     "output_type": "stream",
     "text": [
      " 15 * 0 (mod 12) = 0\n",
      " 15 * 1 (mod 12) = 3\n",
      " 15 * 2 (mod 12) = 6\n",
      " 15 * 3 (mod 12) = 9\n",
      " 15 * 4 (mod 12) = 0\n",
      " 15 * 5 (mod 12) = 3\n",
      " 15 * 6 (mod 12) = 6\n",
      " 15 * 7 (mod 12) = 9\n",
      " 15 * 8 (mod 12) = 0\n",
      " 15 * 9 (mod 12) = 3\n",
      " 15 * 10 (mod 12) = 6\n",
      " 15 * 11 (mod 12) = 9\n",
      " 15 * 12 (mod 12) = 0\n",
      " 15 * 13 (mod 12) = 3\n",
      " 15 * 14 (mod 12) = 6\n",
      " 15 * 15 (mod 12) = 9\n",
      " 15 * 16 (mod 12) = 0\n",
      " 15 * 17 (mod 12) = 3\n",
      " 15 * 18 (mod 12) = 6\n",
      " 15 * 19 (mod 12) = 9\n",
      " 15 * 20 (mod 12) = 0\n",
      " 15 * 21 (mod 12) = 3\n",
      " 15 * 22 (mod 12) = 6\n",
      " 15 * 23 (mod 12) = 9\n"
     ]
    }
   ],
   "source": [
    "hashtest(15, 12)"
   ]
  },
  {
   "cell_type": "markdown",
   "metadata": {},
   "source": [
    "A good choice for $m$ with the division method is a prime number.\n",
    "\n",
    "With a prime number you will still find poor performance if you have a disproportionate number of keys which are congruent $\\mod m$. However"
   ]
  },
  {
   "cell_type": "markdown",
   "metadata": {},
   "source": [
    "#### Multiplication Method\n",
    "\n",
    "The multiplication method is another way to create hash functions. The functions take the form\n",
    "\n",
    "$$\n",
    "h(k) = \\lfloor m(kA \\mod 1) \\rfloor\n",
    "$$\n",
    "\n",
    "where $0 < A < 1$ and $(kA \\mod 1)$ refers to the fractional part of $kA$. Since $0 < (kA \\mod 1) <\n",
    "1$, the range of $h(k)$ is from $0$ to $m-1$. The advantage of the multiplication method is it works equally well with any size $m$. $A$ should be chosen carefully. Rational numbers should not be chosen for $A$.\n"
   ]
  },
  {
   "cell_type": "code",
   "execution_count": 43,
   "metadata": {
    "collapsed": false
   },
   "outputs": [],
   "source": [
    "def hashtest_multiplication(A, m):\n",
    "    for k in range(2 * m):\n",
    "        fraction = (k * A) % 1.0 \n",
    "        res = math.floor(m * fraction)\n",
    "        print(\"floor(%d * (%d * %f mod 1)) = %d\" % \\\n",
    "              (m, k, A, res))"
   ]
  },
  {
   "cell_type": "code",
   "execution_count": 49,
   "metadata": {
    "collapsed": false
   },
   "outputs": [
    {
     "name": "stdout",
     "output_type": "stream",
     "text": [
      "floor(10 * (0 * 0.750000 mod 1)) = 0\n",
      "floor(10 * (1 * 0.750000 mod 1)) = 7\n",
      "floor(10 * (2 * 0.750000 mod 1)) = 5\n",
      "floor(10 * (3 * 0.750000 mod 1)) = 2\n",
      "floor(10 * (4 * 0.750000 mod 1)) = 0\n",
      "floor(10 * (5 * 0.750000 mod 1)) = 7\n",
      "floor(10 * (6 * 0.750000 mod 1)) = 5\n",
      "floor(10 * (7 * 0.750000 mod 1)) = 2\n",
      "floor(10 * (8 * 0.750000 mod 1)) = 0\n",
      "floor(10 * (9 * 0.750000 mod 1)) = 7\n",
      "floor(10 * (10 * 0.750000 mod 1)) = 5\n",
      "floor(10 * (11 * 0.750000 mod 1)) = 2\n",
      "floor(10 * (12 * 0.750000 mod 1)) = 0\n",
      "floor(10 * (13 * 0.750000 mod 1)) = 7\n",
      "floor(10 * (14 * 0.750000 mod 1)) = 5\n",
      "floor(10 * (15 * 0.750000 mod 1)) = 2\n",
      "floor(10 * (16 * 0.750000 mod 1)) = 0\n",
      "floor(10 * (17 * 0.750000 mod 1)) = 7\n",
      "floor(10 * (18 * 0.750000 mod 1)) = 5\n",
      "floor(10 * (19 * 0.750000 mod 1)) = 2\n"
     ]
    }
   ],
   "source": [
    "hashtest_multiplication(3.0 / 4.0, 10)"
   ]
  },
  {
   "cell_type": "markdown",
   "metadata": {},
   "source": [
    "\n",
    "All rational numbers can be formulated as $\\frac{a}{b}$ for some $a,b$. Note that $h(K) = m(k\\frac{a}{b} \\mod 1)$ only permits $b$ possible values for $h(k)$. For example if $b = 4$ then the only possible fractional parts are $.0, .25, .75$. In theory that's a bit of a pickle because all the IEEE floating point numbers are rational.\n",
    "\n",
    "$\\frac{\\sqrt{5} - 1}{2}$ is irrational and related to the golden ratio. Chosing this value for $A$ is a special form of hashing known as fibonacci hashing. This has the property that when hashing consecutive keys, each subsequent key falls in between the two widest spaced hash values already computed."
   ]
  },
  {
   "cell_type": "code",
   "execution_count": 50,
   "metadata": {
    "collapsed": false
   },
   "outputs": [
    {
     "name": "stdout",
     "output_type": "stream",
     "text": [
      "floor(10 * (0 * 0.618034 mod 1)) = 0\n",
      "floor(10 * (1 * 0.618034 mod 1)) = 6\n",
      "floor(10 * (2 * 0.618034 mod 1)) = 2\n",
      "floor(10 * (3 * 0.618034 mod 1)) = 8\n",
      "floor(10 * (4 * 0.618034 mod 1)) = 4\n",
      "floor(10 * (5 * 0.618034 mod 1)) = 0\n",
      "floor(10 * (6 * 0.618034 mod 1)) = 7\n",
      "floor(10 * (7 * 0.618034 mod 1)) = 3\n",
      "floor(10 * (8 * 0.618034 mod 1)) = 9\n",
      "floor(10 * (9 * 0.618034 mod 1)) = 5\n",
      "floor(10 * (10 * 0.618034 mod 1)) = 1\n",
      "floor(10 * (11 * 0.618034 mod 1)) = 7\n",
      "floor(10 * (12 * 0.618034 mod 1)) = 4\n",
      "floor(10 * (13 * 0.618034 mod 1)) = 0\n",
      "floor(10 * (14 * 0.618034 mod 1)) = 6\n",
      "floor(10 * (15 * 0.618034 mod 1)) = 2\n",
      "floor(10 * (16 * 0.618034 mod 1)) = 8\n",
      "floor(10 * (17 * 0.618034 mod 1)) = 5\n",
      "floor(10 * (18 * 0.618034 mod 1)) = 1\n",
      "floor(10 * (19 * 0.618034 mod 1)) = 7\n"
     ]
    }
   ],
   "source": [
    "golden_ratio = (math.sqrt(5) - 1.0) / 2.0\n",
    "hashtest_multiplication(golden_ratio, 10)"
   ]
  },
  {
   "cell_type": "markdown",
   "metadata": {},
   "source": [
    "## How Python implements their hashing?\n",
    "\n",
    "Which idea does Python employ? Surely not division method. Multiplication method? Well, we managed to show it's drawbacks. Some clever cryptographic algorithm?\n",
    "\n",
    "...\n",
    "\n",
    "... It uses division method. Which prime number are they using?\n",
    "\n",
    "...\n",
    "\n",
    "... They are using powers of two. Ba dum tsh."
   ]
  },
  {
   "cell_type": "code",
   "execution_count": 27,
   "metadata": {
    "collapsed": false
   },
   "outputs": [],
   "source": [
    "def test_dict(base):\n",
    "    d = {}\n",
    "    for i in range(1000000):\n",
    "        d[base*i] = True\n",
    "    print(len(d))"
   ]
  },
  {
   "cell_type": "code",
   "execution_count": 39,
   "metadata": {
    "collapsed": false
   },
   "outputs": [
    {
     "name": "stdout",
     "output_type": "stream",
     "text": [
      "1000000\n",
      "         20 function calls in 0.257 seconds\n",
      "\n",
      "   Ordered by: standard name\n",
      "\n",
      "   ncalls  tottime  percall  cumtime  percall filename:lineno(function)\n",
      "        1    0.240    0.240    0.240    0.240 <ipython-input-27-5f4d266ba1d0>:1(test_dict)\n",
      "        1    0.017    0.017    0.257    0.257 <string>:1(<module>)\n",
      "        2    0.000    0.000    0.000    0.000 iostream.py:102(_check_mp_mode)\n",
      "        2    0.000    0.000    0.000    0.000 iostream.py:207(write)\n",
      "        2    0.000    0.000    0.000    0.000 iostream.py:93(_is_master_process)\n",
      "        1    0.000    0.000    0.257    0.257 {built-in method exec}\n",
      "        2    0.000    0.000    0.000    0.000 {built-in method getpid}\n",
      "        2    0.000    0.000    0.000    0.000 {built-in method isinstance}\n",
      "        1    0.000    0.000    0.000    0.000 {built-in method len}\n",
      "        1    0.000    0.000    0.000    0.000 {built-in method print}\n",
      "        2    0.000    0.000    0.000    0.000 {built-in method time}\n",
      "        1    0.000    0.000    0.000    0.000 {method 'disable' of '_lsprof.Profiler' objects}\n",
      "        2    0.000    0.000    0.000    0.000 {method 'write' of '_io.StringIO' objects}\n",
      "\n",
      "\n"
     ]
    }
   ],
   "source": [
    "cProfile.run(\"test_dict(2*32-1)\")"
   ]
  },
  {
   "cell_type": "code",
   "execution_count": 40,
   "metadata": {
    "collapsed": false
   },
   "outputs": [
    {
     "name": "stdout",
     "output_type": "stream",
     "text": [
      "1000000\n",
      "         20 function calls in 0.930 seconds\n",
      "\n",
      "   Ordered by: standard name\n",
      "\n",
      "   ncalls  tottime  percall  cumtime  percall filename:lineno(function)\n",
      "        1    0.879    0.879    0.879    0.879 <ipython-input-27-5f4d266ba1d0>:1(test_dict)\n",
      "        1    0.051    0.051    0.930    0.930 <string>:1(<module>)\n",
      "        2    0.000    0.000    0.000    0.000 iostream.py:102(_check_mp_mode)\n",
      "        2    0.000    0.000    0.000    0.000 iostream.py:207(write)\n",
      "        2    0.000    0.000    0.000    0.000 iostream.py:93(_is_master_process)\n",
      "        1    0.000    0.000    0.930    0.930 {built-in method exec}\n",
      "        2    0.000    0.000    0.000    0.000 {built-in method getpid}\n",
      "        2    0.000    0.000    0.000    0.000 {built-in method isinstance}\n",
      "        1    0.000    0.000    0.000    0.000 {built-in method len}\n",
      "        1    0.000    0.000    0.000    0.000 {built-in method print}\n",
      "        2    0.000    0.000    0.000    0.000 {built-in method time}\n",
      "        1    0.000    0.000    0.000    0.000 {method 'disable' of '_lsprof.Profiler' objects}\n",
      "        2    0.000    0.000    0.000    0.000 {method 'write' of '_io.StringIO' objects}\n",
      "\n",
      "\n"
     ]
    }
   ],
   "source": [
    "cProfile.run(\"test_dict(2**32)\")"
   ]
  },
  {
   "cell_type": "markdown",
   "metadata": {},
   "source": [
    "Yeah, again we managed to exploit the knowledge of Python, to achieve sigificant runtime discrepancy. It is not exactly the differenc between $O(n)$ and $O(n^2)$ as one might expect, because Python hash quite clever mechanisms in place to recover from this siliness. More details during next lecture and here:\n",
    "http://stackoverflow.com/questions/9010222/how-can-python-dict-have-multiple-keys-with-same-hash"
   ]
  },
  {
   "cell_type": "markdown",
   "metadata": {},
   "source": [
    "## Collisions\n",
    "As we mentioned, we do not want our hash functions to have a lot collisions. But collisions are unavoidable. Think of the \\textbf{Pigeon-hole principle}. Usually the size of universe $U$ is much larger than our table size $m$. What do we do if we find that two keys hash to the same value? Two ways which we learn in this class are \\textbf{chaining} and \\textbf{open addressing}.\n",
    "\n",
    "### Chaining\n",
    "Instead of just storing the elements in the slots in the table, let every slot be a linked list which contains all the elements which are in the table and map to that slot. Our operations now become:\n",
    "\n",
    "- `Insert` $(k,v)$: hash $k$ to an index $i$ in the table; add $k$ along with $v$ to the linked list at that location.\n",
    "- `Search` $(k)$: search for $k$ in the linked list by iterating through all the list.\n",
    "- `Delete` $(k)$: search for $k$ and then remove it from the list.\n",
    "\n",
    "These operations no longer take $O(1)$ time. Lookup on the linked lists takes $O(l)$ time where $l$ is the size of the linked list. We define $\\alpha = \\frac{n}{m}$ as the **load factor**. If we assume simple uniform hashing, then each element has equal probability to go into any slot. So after $n$ independent elements have been inserted we have and expected length of $\\frac{n}{m} = \\alpha$ for each chain by linearity of expectation. So the run time of all the above operations is time to hash + time to do these operations which is $O(1 + \\alpha)$."
   ]
  },
  {
   "cell_type": "markdown",
   "metadata": {},
   "source": [
    "**Note:** It is possible to have expected $O(1 + \\alpha)$ runtime for these operations on any given input (i.e. input chosen to make our algorithm perform poorly). This requires more sophisticated hash functions (See \"Universal Hashing\" in CLRS 11.3.3)\n",
    "\n",
    "If we assume that $m = O(n)$, then $\\alpha = O(1)$ and we get constant time operations. But what if we want to insert more elements into the hash table and we don't know the number of elements to be inserted before hand? Stay tuned..."
   ]
  },
  {
   "cell_type": "code",
   "execution_count": 72,
   "metadata": {
    "collapsed": true
   },
   "outputs": [],
   "source": [
    "class LLNode(object):\n",
    "    def __init__(self, key, value, next_node):\n",
    "        self.key, self.value, self.next_node = \\\n",
    "                key, value, next_node\n",
    "            \n",
    "class LinkedList(object):\n",
    "    def __init__(self):\n",
    "        \"\"\"Key-value storage over Linked List\n",
    "        \n",
    "        unique values per key\"\"\"\n",
    "        self.root = None\n",
    "        \n",
    "    def find(self, key):\n",
    "        \"\"\"Returns node given key\"\"\"\n",
    "        # find a node with a given key,\n",
    "        # by following links: O(n)\n",
    "        node = self.root\n",
    "        while node is not None:\n",
    "            if node.key == key:\n",
    "                return node\n",
    "            node = node.next_node\n",
    "        \n",
    "    def __getitem__(self, key):\n",
    "        \"\"\"Returns value for a given key\"\"\"\n",
    "        node = self.find(key)\n",
    "        if node is not None:\n",
    "            return node.value\n",
    "        else:\n",
    "            return None\n",
    "            \n",
    "    def __setitem__(self, key, value):\n",
    "        \"\"\"Sets key given value\"\"\"\n",
    "        node = self.find(key)\n",
    "        if node is not None:\n",
    "            # modify existing node\n",
    "            node.value = value\n",
    "        else:\n",
    "            # append front\n",
    "            self.root = LLNode(key, value, self.root)"
   ]
  },
  {
   "cell_type": "code",
   "execution_count": 73,
   "metadata": {
    "collapsed": false
   },
   "outputs": [
    {
     "name": "stdout",
     "output_type": "stream",
     "text": [
      "five None\n"
     ]
    }
   ],
   "source": [
    "ll = LinkedList()\n",
    "ll[5] = \"fiveo\"\n",
    "ll[4] = \"four\"\n",
    "ll[5] = \"five\"\n",
    "print(ll[5], ll[6])"
   ]
  },
  {
   "cell_type": "code",
   "execution_count": 65,
   "metadata": {
    "collapsed": true
   },
   "outputs": [],
   "source": [
    "def test_datastructure(ds, size=3000):\n",
    "    for i in range(size):\n",
    "        ds[i] = str(i)\n",
    "    for i in range(size):\n",
    "        temp = ds[i]"
   ]
  },
  {
   "cell_type": "code",
   "execution_count": 81,
   "metadata": {
    "collapsed": false
   },
   "outputs": [
    {
     "name": "stdout",
     "output_type": "stream",
     "text": [
      "         15004 function calls in 1.328 seconds\n",
      "\n",
      "   Ordered by: standard name\n",
      "\n",
      "   ncalls  tottime  percall  cumtime  percall filename:lineno(function)\n",
      "        1    0.007    0.007    1.328    1.328 <ipython-input-65-22a1ad701f4a>:1(test_datastructure)\n",
      "     6000    1.311    0.000    1.311    0.000 <ipython-input-72-629b29942276>:12(find)\n",
      "     3000    0.003    0.000    0.003    0.000 <ipython-input-72-629b29942276>:2(__init__)\n",
      "     3000    0.001    0.000    0.633    0.000 <ipython-input-72-629b29942276>:22(__getitem__)\n",
      "     3000    0.006    0.000    0.688    0.000 <ipython-input-72-629b29942276>:30(__setitem__)\n",
      "        1    0.000    0.000    1.328    1.328 <string>:1(<module>)\n",
      "        1    0.000    0.000    1.328    1.328 {built-in method exec}\n",
      "        1    0.000    0.000    0.000    0.000 {method 'disable' of '_lsprof.Profiler' objects}\n",
      "\n",
      "\n"
     ]
    }
   ],
   "source": [
    "ll = LinkedList()\n",
    "\n",
    "cProfile.run(\"test_datastructure(ll)\")"
   ]
  },
  {
   "cell_type": "code",
   "execution_count": 77,
   "metadata": {
    "collapsed": false
   },
   "outputs": [],
   "source": [
    "class HashTable(object):\n",
    "    def __init__(self, num_slots):\n",
    "        \"\"\"Initializes chained hash table with num_slots slots\"\"\"\n",
    "        self.num_slots = num_slots\n",
    "        self.table = [ LinkedList() for _ in range(self.num_slots)]\n",
    "        self.golden = (math.sqrt(5) - 1.0) / 2.0\n",
    "        \n",
    "    def multiplication_address(self, key):\n",
    "        \"\"\"Multiplication adressing described above\"\"\"\n",
    "        # hash(k) maps any Python object that implements it\n",
    "        # to a 64-bit integer. It is not necessarily in the \n",
    "        # range of our hashtable.\n",
    "        fraction = (hash(key) * self.golden) % 1.0 \n",
    "        return math.floor(self.num_slots * fraction)\n",
    "        \n",
    "    def __getitem__(self, key):\n",
    "        relevant_list = self.table[self.multiplication_address(key)]\n",
    "        return relevant_list[key]\n",
    "\n",
    "    def __setitem__(self, key, value):\n",
    "        relevant_list = self.table[self.multiplication_address(key)]\n",
    "        relevant_list[key] = value"
   ]
  },
  {
   "cell_type": "code",
   "execution_count": 78,
   "metadata": {
    "collapsed": false
   },
   "outputs": [
    {
     "name": "stdout",
     "output_type": "stream",
     "text": [
      "five None\n"
     ]
    }
   ],
   "source": [
    "ht = HashTable(2)\n",
    "ht[5] = \"fiveo\"\n",
    "ht[4] = \"four\"\n",
    "ht[5] = \"five\"\n",
    "print(ht[5], ht[6])"
   ]
  },
  {
   "cell_type": "code",
   "execution_count": 79,
   "metadata": {
    "collapsed": false
   },
   "outputs": [
    {
     "name": "stdout",
     "output_type": "stream",
     "text": [
      "         39004 function calls in 0.066 seconds\n",
      "\n",
      "   Ordered by: standard name\n",
      "\n",
      "   ncalls  tottime  percall  cumtime  percall filename:lineno(function)\n",
      "        1    0.011    0.011    0.066    0.066 <ipython-input-65-22a1ad701f4a>:1(test_datastructure)\n",
      "     6000    0.009    0.000    0.009    0.000 <ipython-input-72-629b29942276>:12(find)\n",
      "     3000    0.004    0.000    0.004    0.000 <ipython-input-72-629b29942276>:2(__init__)\n",
      "     3000    0.003    0.000    0.007    0.000 <ipython-input-72-629b29942276>:22(__getitem__)\n",
      "     3000    0.009    0.000    0.018    0.000 <ipython-input-72-629b29942276>:30(__setitem__)\n",
      "     3000    0.005    0.000    0.019    0.000 <ipython-input-77-fd11d219214a>:16(__getitem__)\n",
      "     3000    0.008    0.000    0.037    0.000 <ipython-input-77-fd11d219214a>:20(__setitem__)\n",
      "     6000    0.012    0.000    0.017    0.000 <ipython-input-77-fd11d219214a>:8(multiplication_address)\n",
      "        1    0.000    0.000    0.066    0.066 <string>:1(<module>)\n",
      "        1    0.000    0.000    0.066    0.066 {built-in method exec}\n",
      "     6000    0.003    0.000    0.003    0.000 {built-in method floor}\n",
      "     6000    0.001    0.000    0.001    0.000 {built-in method hash}\n",
      "        1    0.000    0.000    0.000    0.000 {method 'disable' of '_lsprof.Profiler' objects}\n",
      "\n",
      "\n"
     ]
    }
   ],
   "source": [
    "ht = HashTable(500)\n",
    "\n",
    "cProfile.run(\"test_datastructure(ht)\")"
   ]
  },
  {
   "cell_type": "markdown",
   "metadata": {},
   "source": [
    "### Hash table with one slot (just like linked list + overhead)\n"
   ]
  },
  {
   "cell_type": "code",
   "execution_count": 80,
   "metadata": {
    "collapsed": false
   },
   "outputs": [
    {
     "name": "stdout",
     "output_type": "stream",
     "text": [
      "         39004 function calls in 1.426 seconds\n",
      "\n",
      "   Ordered by: standard name\n",
      "\n",
      "   ncalls  tottime  percall  cumtime  percall filename:lineno(function)\n",
      "        1    0.007    0.007    1.426    1.426 <ipython-input-65-22a1ad701f4a>:1(test_datastructure)\n",
      "     6000    1.375    0.000    1.375    0.000 <ipython-input-72-629b29942276>:12(find)\n",
      "     3000    0.015    0.000    0.015    0.000 <ipython-input-72-629b29942276>:2(__init__)\n",
      "     3000    0.002    0.000    0.710    0.000 <ipython-input-72-629b29942276>:22(__getitem__)\n",
      "     3000    0.006    0.000    0.688    0.000 <ipython-input-72-629b29942276>:30(__setitem__)\n",
      "     3000    0.004    0.000    0.719    0.000 <ipython-input-77-fd11d219214a>:16(__getitem__)\n",
      "     3000    0.005    0.000    0.699    0.000 <ipython-input-77-fd11d219214a>:20(__setitem__)\n",
      "     6000    0.008    0.000    0.012    0.000 <ipython-input-77-fd11d219214a>:8(multiplication_address)\n",
      "        1    0.000    0.000    1.426    1.426 <string>:1(<module>)\n",
      "        1    0.000    0.000    1.426    1.426 {built-in method exec}\n",
      "     6000    0.002    0.000    0.002    0.000 {built-in method floor}\n",
      "     6000    0.001    0.000    0.001    0.000 {built-in method hash}\n",
      "        1    0.000    0.000    0.000    0.000 {method 'disable' of '_lsprof.Profiler' objects}\n",
      "\n",
      "\n"
     ]
    }
   ],
   "source": [
    "ht = HashTable(1)\n",
    "\n",
    "cProfile.run(\"test_datastructure(ht)\")"
   ]
  },
  {
   "cell_type": "markdown",
   "metadata": {},
   "source": [
    "## Super efficient Python hashtable"
   ]
  },
  {
   "cell_type": "code",
   "execution_count": 83,
   "metadata": {
    "collapsed": false
   },
   "outputs": [
    {
     "name": "stdout",
     "output_type": "stream",
     "text": [
      "         4 function calls in 0.004 seconds\n",
      "\n",
      "   Ordered by: standard name\n",
      "\n",
      "   ncalls  tottime  percall  cumtime  percall filename:lineno(function)\n",
      "        1    0.003    0.003    0.003    0.003 <ipython-input-65-22a1ad701f4a>:1(test_datastructure)\n",
      "        1    0.000    0.000    0.004    0.004 <string>:1(<module>)\n",
      "        1    0.000    0.000    0.004    0.004 {built-in method exec}\n",
      "        1    0.000    0.000    0.000    0.000 {method 'disable' of '_lsprof.Profiler' objects}\n",
      "\n",
      "\n"
     ]
    }
   ],
   "source": [
    "# Implemented in C...\n",
    "cProfile.run(\"test_datastructure({})\")"
   ]
  },
  {
   "cell_type": "markdown",
   "metadata": {},
   "source": [
    "## A fun annecdote from Professor Indyk\n",
    "\n",
    "As a student in 1999, Professor Indyk was trying to large set of webpages (i.e. group pages with similar content). He hashed all the words in the sites to reduce space usage. There were two issues.\n",
    "\n",
    "- His algorithm clustered one of his advisor's home page with some rather shady websites.\n",
    "- His algorithm was provably correct, with probabily of failure less than $10^{-6}$\n",
    "\n",
    "The implementation was for a word $x$ compute $h(x) = (ax \\mod P) \\mod 2^{8}$, $P = 2^{64}-59$, randomly chosen $a$. Additionally, the only used words divisible by $8$ for speed purposes. It turns out that the language they were using computed $ax$ as $ax \\mod 2^{64}$ because of the word size. This means the $\\mod P$ operation essentially did nothing. So $x | 8 \\implies ax | 8 \\implies ax \\mod 2^8 | 8$. All $h(x)$ had the 3 lowest order bits as zero! The total range for $h(x)$ was $2^{5}$ instead of $2^{8}$ causing word colisions.\n"
   ]
  },
  {
   "cell_type": "markdown",
   "metadata": {},
   "source": [
    "# Practice\n",
    "\n"
   ]
  },
  {
   "cell_type": "markdown",
   "metadata": {},
   "source": [
    "## Duplicate Detection\n",
    "\n",
    "Given an array $A$ of $n$ integers and an integer $k$, detect if there is an entry $A[i]$ that is equal to one of the $k$ previous entries $A[i-1] \\ldots A[i-k]$.\n",
    "Your algorithm should run in time $O(n)$.\n",
    "You can assume you have access to a hash function which satisfies the simple uniform hashing assumption (SUHA).\n",
    "\n",
    "**Example:** Given an array `A=[1,3,5,7,6,5,2]` and $k=4$, the algorithm should output YES since `A[3]=A[6]=5`."
   ]
  },
  {
   "cell_type": "markdown",
   "metadata": {},
   "source": [
    "## Point Lookup\n",
    "Design a data structure to support the following operations on points in a plane.\n",
    "You can assume you have access to a hash function which satisfies the simple uniform hashing assumption (SUHA).\n",
    "Additionally, you can assume you know $n$, an upper bound on the total number of elements to ever be inserted into the structure.\n",
    "Runtimes can be worst-case or expected time.\n",
    "Your data structure should use $O(n)$ space.\n",
    "\n",
    "\n",
    "- **Query($x$)** Of all the points with $x$-coordinate equal to $x$, return the one with the lowest $y$ coordinate. This should run in $O(1)$ time.\n",
    "\n",
    "- **Insert($x, y$)** Insert the point $(x, y)$ into the structure. This should run in $O(\\log{n})$ time.\n",
    "\n",
    "- **Delete($x, y$)** Remove the point $(x, y)$ from the structure. This should run in $O(\\log{n})$ time."
   ]
  },
  {
   "cell_type": "code",
   "execution_count": null,
   "metadata": {
    "collapsed": true
   },
   "outputs": [],
   "source": []
  }
 ],
 "metadata": {
  "kernelspec": {
   "display_name": "Python 3",
   "language": "python",
   "name": "python3"
  },
  "language_info": {
   "codemirror_mode": {
    "name": "ipython",
    "version": 3
   },
   "file_extension": ".py",
   "mimetype": "text/x-python",
   "name": "python",
   "nbconvert_exporter": "python",
   "pygments_lexer": "ipython3",
   "version": "3.4.1"
  }
 },
 "nbformat": 4,
 "nbformat_minor": 0
}
