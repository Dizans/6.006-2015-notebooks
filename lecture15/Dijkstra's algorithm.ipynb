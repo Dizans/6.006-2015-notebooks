{
 "cells": [
  {
   "cell_type": "code",
   "execution_count": 58,
   "metadata": {
    "collapsed": true
   },
   "outputs": [],
   "source": [
    "from collections import defaultdict, deque\n",
    "from Queue import PriorityQueue\n",
    "from igraph import Graph as PlottableGraph, plot, layout, Plot"
   ]
  },
  {
   "cell_type": "code",
   "execution_count": 94,
   "metadata": {
    "collapsed": false
   },
   "outputs": [],
   "source": [
    "class Graph(object):\n",
    "    def __init__(self):\n",
    "        self.adj = defaultdict(lambda: [])\n",
    "        self.nodes = set()\n",
    "        \n",
    "    def add_edge(self, a, b, weight):\n",
    "        self.adj[a].append((b, weight))\n",
    "        self.nodes.add(a)\n",
    "        self.nodes.add(b)\n",
    "\n",
    "    def draw(self):\n",
    "        graph = PlottableGraph(directed=True)\n",
    "        figure = Plot(bbox=(400, 400))\n",
    "        for name in self.nodes:\n",
    "            graph.add_vertex(name=name, label=name)\n",
    "        for name, neighbors in self.adj.items():\n",
    "            for (neighbor, weight) in neighbors:\n",
    "                graph.add_edge(name, neighbor, color=\"black\", weight=weight, label=str(weight))\n",
    "                                    \n",
    "        figure.add(graph, layout=graph.layout(\"kk\"), margin = 100,\n",
    "                          vertex_label_dist=1)\n",
    "        return figure"
   ]
  },
  {
   "cell_type": "code",
   "execution_count": 95,
   "metadata": {
    "collapsed": true
   },
   "outputs": [],
   "source": [
    "g = Graph()\n",
    "g.add_edge(\"A\",\"B\", 2)\n",
    "g.add_edge(\"A\",\"C\", 3)\n",
    "g.add_edge(\"B\",\"D\", 4)\n",
    "g.add_edge(\"C\",\"D\", 1)\n",
    "g.add_edge(\"D\",\"A\", 1)"
   ]
  },
  {
   "cell_type": "code",
   "execution_count": 96,
   "metadata": {
    "collapsed": false
   },
   "outputs": [
    {
     "data": {
      "image/png": "[encoded data removed]",
      "text/plain": [
       "<igraph.drawing.Plot at 0x7ffc0c07d0d0>"
      ]
     },
     "execution_count": 96,
     "metadata": {},
     "output_type": "execute_result"
    }
   ],
   "source": [
    "g.draw()"
   ]
  },
  {
   "cell_type": "markdown",
   "metadata": {},
   "source": [
    "# Dijkstra's algorithm"
   ]
  },
  {
   "cell_type": "code",
   "execution_count": 97,
   "metadata": {
    "collapsed": true
   },
   "outputs": [],
   "source": [
    "def dijkstra(graph, source):\n",
    "    # set of already explored nodes (S from lectures)\n",
    "    visited   = set()\n",
    "    # distance from source\n",
    "    distance = defaultdict(lambda: float('inf'))\n",
    "    # predecessor on the shortest path from source\n",
    "    predecessor = defaultdict(lambda: None)\n",
    "    # queue of tuples (distance, node). \n",
    "    # returns shortest distance first\n",
    "    q = PriorityQueue()\n",
    "    \n",
    "    # add source to the state\n",
    "    distance[source] = 0\n",
    "    q.put((0,source))\n",
    "\n",
    "    # while there are still nodes in the queue\n",
    "    while not q.empty():\n",
    "        _, node = q.get()\n",
    "        # check that we did not already process this node\n",
    "        # (nodes can be inserted to the queue multiple times)\n",
    "        if node in visited:\n",
    "            continue\n",
    "        # mark as visited\n",
    "        visited.add(node)\n",
    "        \n",
    "        # for every neighbor\n",
    "        for neighbor, edge_len in graph.adj[node]:\n",
    "            # can we relax the edge?\n",
    "            if distance[neighbor] > distance[node] + edge_len:\n",
    "                # store updated distance\n",
    "                distance[neighbor] = distance[node] + edge_len\n",
    "                # add edge to the queue (maybe again...)\n",
    "                q.put((distance[neighbor], neighbor))\n",
    "                # store predecessor\n",
    "                predecessor[neighbor] = node\n",
    "\n",
    "    return distance, predecessor"
   ]
  },
  {
   "cell_type": "code",
   "execution_count": 98,
   "metadata": {
    "collapsed": false
   },
   "outputs": [
    {
     "data": {
      "image/png": "[encoded data removed]",
      "text/plain": [
       "<igraph.drawing.Plot at 0x7ffbf7d95050>"
      ]
     },
     "execution_count": 98,
     "metadata": {},
     "output_type": "execute_result"
    }
   ],
   "source": [
    "g.draw()"
   ]
  },
  {
   "cell_type": "code",
   "execution_count": 99,
   "metadata": {
    "collapsed": false
   },
   "outputs": [
    {
     "data": {
      "text/plain": [
       "(defaultdict(<function __main__.<lambda>>, {'A': 0, 'B': 2, 'C': 3, 'D': 4}),\n",
       " defaultdict(<function __main__.<lambda>>, {'B': 'A', 'C': 'A', 'D': 'C'}))"
      ]
     },
     "execution_count": 99,
     "metadata": {},
     "output_type": "execute_result"
    }
   ],
   "source": [
    "dijkstra(g, \"A\")"
   ]
  },
  {
   "cell_type": "markdown",
   "metadata": {},
   "source": [
    "# Negative edge example"
   ]
  },
  {
   "cell_type": "code",
   "execution_count": 100,
   "metadata": {
    "collapsed": true
   },
   "outputs": [],
   "source": [
    "g = Graph()\n",
    "g.add_edge(\"A\",\"B\", 2)\n",
    "g.add_edge(\"A\",\"C\", 3)\n",
    "g.add_edge(\"B\",\"D\", 3)\n",
    "g.add_edge(\"D\",\"C\", 4)\n",
    "g.add_edge(\"C\",\"B\", -2)"
   ]
  },
  {
   "cell_type": "code",
   "execution_count": 101,
   "metadata": {
    "collapsed": false
   },
   "outputs": [
    {
     "data": {
      "image/png": "[encoded data removed]",
      "text/plain": [
       "<igraph.drawing.Plot at 0x7ffc0c0bcc90>"
      ]
     },
     "execution_count": 101,
     "metadata": {},
     "output_type": "execute_result"
    }
   ],
   "source": [
    "g.draw()"
   ]
  },
  {
   "cell_type": "code",
   "execution_count": null,
   "metadata": {
    "collapsed": true
   },
   "outputs": [],
   "source": []
  }
 ],
 "metadata": {
  "kernelspec": {
   "display_name": "Python 2",
   "language": "python",
   "name": "python2"
  },
  "language_info": {
   "codemirror_mode": {
    "name": "ipython",
    "version": 2
   },
   "file_extension": ".py",
   "mimetype": "text/x-python",
   "name": "python",
   "nbconvert_exporter": "python",
   "pygments_lexer": "ipython2",
   "version": "2.7.8"
  }
 },
 "nbformat": 4,
 "nbformat_minor": 0
}
