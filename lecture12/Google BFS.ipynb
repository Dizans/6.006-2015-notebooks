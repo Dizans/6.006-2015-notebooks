{
 "cells": [
  {
   "cell_type": "markdown",
   "metadata": {},
   "source": [
    "# Google BFS question"
   ]
  },
  {
   "cell_type": "code",
   "execution_count": 1,
   "metadata": {
    "collapsed": true
   },
   "outputs": [],
   "source": [
    "from collections import deque"
   ]
  },
  {
   "cell_type": "markdown",
   "metadata": {},
   "source": [
    "Given a 2D board with emergency $E$ and some policeman $P$, what is the distance from an emergency to closest policeman. Nodes marked as $X$, are walls and cannot be traversed.\n",
    "\n",
    "\n",
    "Think a little bit about how to solve it"
   ]
  },
  {
   "cell_type": "code",
   "execution_count": 66,
   "metadata": {
    "collapsed": false
   },
   "outputs": [],
   "source": [
    "example = [\n",
    "    \"...P...\",\n",
    "    \"...XXX.\",\n",
    "    \"EX..P..\",\n",
    "    \".X.....\",\n",
    "    \".......\",\n",
    "    \".......\",\n",
    "]\n",
    "\n",
    "class MapGraph(object):\n",
    "    def __init__(self, mmap):\n",
    "        \"\"\"Graph abstraction for our map\"\"\"\n",
    "        self.dim_x, self.dim_y = len(mmap), len(mmap[0])\n",
    "        self.mmap = {(x,y):mmap[x][y] for x in range(self.dim_x) \n",
    "                                      for y in range(self.dim_y)}\n",
    "\n",
    "    def neighbours(self, node):\n",
    "        \"\"\"Returns all the direct neighbors of a given node\"\"\"\n",
    "        x,y = node\n",
    "        # There are four directions in which we can go\n",
    "        for dx, dy in [[0,1], [0,-1], [-1,0], [1,0]]:\n",
    "            nx, ny = x + dx, y + dy\n",
    "            if (0 <= nx < self.dim_x and # but we cannot got through walls\n",
    "                    0 <= ny < self.dim_y # (at least not yet!)\n",
    "                    and self.mmap[nx,ny] != 'X'):\n",
    "                yield nx, ny\n",
    "    \n",
    "    def find_all(self, letter):\n",
    "        \"\"\"Finds all the coordinates where a given letter occurs\"\"\"\n",
    "        res = []\n",
    "        for x in range(self.dim_x):\n",
    "            for y in range(self.dim_y):\n",
    "                if self.mmap[x,y] == letter:\n",
    "                    res.append((x,y))\n",
    "        return res\n",
    "    \n",
    "    def show(self, what=None):\n",
    "        \"\"\"Displays the graph\"\"\"\n",
    "        what = what or self.mmap\n",
    "        for x in range(self.dim_x):\n",
    "            for y in range(self.dim_y):\n",
    "                print(what[x,y] if (x,y) in what else '?', end='')\n",
    "                print(' ', end='')\n",
    "            print('')"
   ]
  },
  {
   "cell_type": "code",
   "execution_count": 67,
   "metadata": {
    "collapsed": false
   },
   "outputs": [
    {
     "name": "stdout",
     "output_type": "stream",
     "text": [
      ". . . P . . . \n",
      ". . . X X X . \n",
      "E X . . P . . \n",
      ". X . . . . . \n",
      ". . . . . . . \n",
      ". . . . . . . \n"
     ]
    },
    {
     "data": {
      "text/plain": [
       "[(2, 0)]"
      ]
     },
     "execution_count": 67,
     "metadata": {},
     "output_type": "execute_result"
    }
   ],
   "source": [
    "g = MapGraph(example)\n",
    "g.show()\n",
    "g.find_all('E')"
   ]
  },
  {
   "cell_type": "markdown",
   "metadata": {},
   "source": [
    "The solution is maybe somewhat counterintuitive - we start our search from emergency, not policeman"
   ]
  },
  {
   "cell_type": "code",
   "execution_count": 68,
   "metadata": {
    "collapsed": true
   },
   "outputs": [],
   "source": [
    "def bfs_from(graph, source):\n",
    "    q = deque()\n",
    "    # initially source is on the queue\n",
    "    distance = {source: 0}\n",
    "    q.appendleft(source)\n",
    "    # while queue is not empty\n",
    "    while len(q) > 0:\n",
    "        # consider the node that has been in the queue for\n",
    "        # the longest\n",
    "        node = q.popleft()\n",
    "        # for all neighbours\n",
    "        for neighbour in graph.neighbours(node):\n",
    "            # if they were NOT visted yet\n",
    "            if neighbour not in distance:\n",
    "                # mark their distance and put them on queue\n",
    "                distance[neighbour] = distance[node] + 1\n",
    "                q.append(neighbour)\n",
    "    return distance"
   ]
  },
  {
   "cell_type": "code",
   "execution_count": 69,
   "metadata": {
    "collapsed": false
   },
   "outputs": [
    {
     "name": "stdout",
     "output_type": "stream",
     "text": [
      ". . . P . . . \n",
      ". . . X X X . \n",
      "E X . . P . . \n",
      ". X . . . . . \n",
      ". . . . . . . \n",
      ". . . . . . . \n",
      "\n",
      "2 3 4 5 6 7 8 \n",
      "1 2 3 ? ? ? 9 \n",
      "0 ? 4 5 6 7 8 \n",
      "1 ? 5 6 7 8 9 \n",
      "2 3 4 5 6 7 8 \n",
      "3 4 5 6 7 8 9 \n"
     ]
    }
   ],
   "source": [
    "g = MapGraph(example2)\n",
    "distances = bfs_from(g, g.find_all('E')[0])\n",
    "g.show()\n",
    "print('')\n",
    "g.show(distances)"
   ]
  },
  {
   "cell_type": "code",
   "execution_count": 70,
   "metadata": {
    "collapsed": false
   },
   "outputs": [],
   "source": [
    "def solve_google(example):\n",
    "    g = MapGraph(example)\n",
    "    # comute distances from emergency to everywhere welse\n",
    "    distances = bfs_from(g, g.find_all('E')[0])\n",
    "    # find the minimum distance policeman\n",
    "    res = float('inf')\n",
    "    for policeman in g.find_all('P'):\n",
    "        res = min(res, distances[policeman])\n",
    "    return res"
   ]
  },
  {
   "cell_type": "code",
   "execution_count": 71,
   "metadata": {
    "collapsed": false
   },
   "outputs": [
    {
     "data": {
      "text/plain": [
       "5"
      ]
     },
     "execution_count": 71,
     "metadata": {},
     "output_type": "execute_result"
    }
   ],
   "source": [
    "solve_google(example)"
   ]
  },
  {
   "cell_type": "markdown",
   "metadata": {},
   "source": [
    "## Success! \n",
    "\n",
    "We solve the problem correctly in $O(nm)$, which is the best solution we can hoped for!\n",
    "\n",
    "## Follow up question\n",
    "\n",
    "Find the worst place for emergency (furthest from all policeman)\n",
    "\n",
    "Think about how to solve it."
   ]
  },
  {
   "cell_type": "code",
   "execution_count": 72,
   "metadata": {
    "collapsed": true
   },
   "outputs": [],
   "source": [
    "example2 = [\n",
    "    \"...P...\",\n",
    "    \"...XXX.\",\n",
    "    \"EX..P..\",\n",
    "    \".X.....\",\n",
    "    \".......\",\n",
    "    \".......\",\n",
    "]"
   ]
  },
  {
   "cell_type": "markdown",
   "metadata": {},
   "source": [
    "There are many suboptimal solutions, but it turns out we can still solve it in $O(nm)$, by starting BFS from all the policeman simultaneoursly!"
   ]
  },
  {
   "cell_type": "code",
   "execution_count": 73,
   "metadata": {
    "collapsed": true
   },
   "outputs": [],
   "source": [
    "def bfs_from_many(graph, sources):\n",
    "    q = deque()\n",
    "    distance = {s: 0 for s in sources} # <--- this line changed\n",
    "    q.extendleft(sources)              # <--- this line changed\n",
    "    while len(q) > 0:\n",
    "        node = q.popleft()\n",
    "        for neighbour in graph.neighbours(node):\n",
    "            if neighbour not in distance:\n",
    "                distance[neighbour] = distance[node] + 1\n",
    "                q.append(neighbour)\n",
    "    return distance"
   ]
  },
  {
   "cell_type": "code",
   "execution_count": 74,
   "metadata": {
    "collapsed": false
   },
   "outputs": [
    {
     "name": "stdout",
     "output_type": "stream",
     "text": [
      ". . . P . . . \n",
      ". . . X X X . \n",
      "E X . . P . . \n",
      ". X . . . . . \n",
      ". . . . . . . \n",
      ". . . . . . . \n",
      "\n",
      "3 2 1 0 1 2 3 \n",
      "4 3 2 ? ? ? 3 \n",
      "5 ? 2 1 0 1 2 \n",
      "6 ? 3 2 1 2 3 \n",
      "6 5 4 3 2 3 4 \n",
      "7 6 5 4 3 4 5 \n"
     ]
    }
   ],
   "source": [
    "g = MapGraph(example2)\n",
    "distances = bfs_from_many(g, g.find_all('P'))\n",
    "g.show()\n",
    "print('')\n",
    "g.show(distances)"
   ]
  },
  {
   "cell_type": "code",
   "execution_count": 60,
   "metadata": {
    "collapsed": true
   },
   "outputs": [],
   "source": [
    "def solve_google_hard(example):\n",
    "    g = MapGraph(example)\n",
    "    # compute distances from all the policeman\n",
    "    distances = bfs_from_many(g, g.find_all('E')[0])\n",
    "    # find the minimum distance policeman\n",
    "    return max(distances.values())"
   ]
  },
  {
   "cell_type": "code",
   "execution_count": 75,
   "metadata": {
    "collapsed": false
   },
   "outputs": [
    {
     "ename": "TypeError",
     "evalue": "'int' object is not iterable",
     "output_type": "error",
     "traceback": [
      "\u001b[1;31m---------------------------------------------------------------------------\u001b[0m",
      "\u001b[1;31mTypeError\u001b[0m                                 Traceback (most recent call last)",
      "\u001b[1;32m<ipython-input-75-b66d096e237e>\u001b[0m in \u001b[0;36m<module>\u001b[1;34m()\u001b[0m\n\u001b[1;32m----> 1\u001b[1;33m \u001b[0msolve_google_hard\u001b[0m\u001b[1;33m(\u001b[0m\u001b[0mexample2\u001b[0m\u001b[1;33m)\u001b[0m\u001b[1;33m\u001b[0m\u001b[0m\n\u001b[0m",
      "\u001b[1;32m<ipython-input-60-9cae567e8d4e>\u001b[0m in \u001b[0;36msolve_google_hard\u001b[1;34m(example)\u001b[0m\n\u001b[0;32m      2\u001b[0m     \u001b[0mg\u001b[0m \u001b[1;33m=\u001b[0m \u001b[0mMapGraph\u001b[0m\u001b[1;33m(\u001b[0m\u001b[0mexample\u001b[0m\u001b[1;33m)\u001b[0m\u001b[1;33m\u001b[0m\u001b[0m\n\u001b[0;32m      3\u001b[0m     \u001b[1;31m# compute distances from all the policeman\u001b[0m\u001b[1;33m\u001b[0m\u001b[1;33m\u001b[0m\u001b[0m\n\u001b[1;32m----> 4\u001b[1;33m     \u001b[0mdistances\u001b[0m \u001b[1;33m=\u001b[0m \u001b[0mbfs_from_many\u001b[0m\u001b[1;33m(\u001b[0m\u001b[0mg\u001b[0m\u001b[1;33m,\u001b[0m \u001b[0mg\u001b[0m\u001b[1;33m.\u001b[0m\u001b[0mfind_all\u001b[0m\u001b[1;33m(\u001b[0m\u001b[1;34m'E'\u001b[0m\u001b[1;33m)\u001b[0m\u001b[1;33m[\u001b[0m\u001b[1;36m0\u001b[0m\u001b[1;33m]\u001b[0m\u001b[1;33m)\u001b[0m\u001b[1;33m\u001b[0m\u001b[0m\n\u001b[0m\u001b[0;32m      5\u001b[0m     \u001b[1;31m# find the minimum distance policeman\u001b[0m\u001b[1;33m\u001b[0m\u001b[1;33m\u001b[0m\u001b[0m\n\u001b[0;32m      6\u001b[0m     \u001b[1;32mreturn\u001b[0m \u001b[0mmax\u001b[0m\u001b[1;33m(\u001b[0m\u001b[0mdistances\u001b[0m\u001b[1;33m.\u001b[0m\u001b[0mvalues\u001b[0m\u001b[1;33m(\u001b[0m\u001b[1;33m)\u001b[0m\u001b[1;33m)\u001b[0m\u001b[1;33m\u001b[0m\u001b[0m\n",
      "\u001b[1;32m<ipython-input-73-8d1fc0d76225>\u001b[0m in \u001b[0;36mbfs_from_many\u001b[1;34m(graph, sources)\u001b[0m\n\u001b[0;32m      5\u001b[0m     \u001b[1;32mwhile\u001b[0m \u001b[0mlen\u001b[0m\u001b[1;33m(\u001b[0m\u001b[0mq\u001b[0m\u001b[1;33m)\u001b[0m \u001b[1;33m>\u001b[0m \u001b[1;36m0\u001b[0m\u001b[1;33m:\u001b[0m\u001b[1;33m\u001b[0m\u001b[0m\n\u001b[0;32m      6\u001b[0m         \u001b[0mnode\u001b[0m \u001b[1;33m=\u001b[0m \u001b[0mq\u001b[0m\u001b[1;33m.\u001b[0m\u001b[0mpopleft\u001b[0m\u001b[1;33m(\u001b[0m\u001b[1;33m)\u001b[0m\u001b[1;33m\u001b[0m\u001b[0m\n\u001b[1;32m----> 7\u001b[1;33m         \u001b[1;32mfor\u001b[0m \u001b[0mneighbour\u001b[0m \u001b[1;32min\u001b[0m \u001b[0mgraph\u001b[0m\u001b[1;33m.\u001b[0m\u001b[0mneighbours\u001b[0m\u001b[1;33m(\u001b[0m\u001b[0mnode\u001b[0m\u001b[1;33m)\u001b[0m\u001b[1;33m:\u001b[0m\u001b[1;33m\u001b[0m\u001b[0m\n\u001b[0m\u001b[0;32m      8\u001b[0m             \u001b[1;32mif\u001b[0m \u001b[0mneighbour\u001b[0m \u001b[1;32mnot\u001b[0m \u001b[1;32min\u001b[0m \u001b[0mdistance\u001b[0m\u001b[1;33m:\u001b[0m\u001b[1;33m\u001b[0m\u001b[0m\n\u001b[0;32m      9\u001b[0m                 \u001b[0mdistance\u001b[0m\u001b[1;33m[\u001b[0m\u001b[0mneighbour\u001b[0m\u001b[1;33m]\u001b[0m \u001b[1;33m=\u001b[0m \u001b[0mdistance\u001b[0m\u001b[1;33m[\u001b[0m\u001b[0mnode\u001b[0m\u001b[1;33m]\u001b[0m \u001b[1;33m+\u001b[0m \u001b[1;36m1\u001b[0m\u001b[1;33m\u001b[0m\u001b[0m\n",
      "\u001b[1;32m<ipython-input-66-1295541b76c3>\u001b[0m in \u001b[0;36mneighbours\u001b[1;34m(self, node)\u001b[0m\n\u001b[0;32m     17\u001b[0m     \u001b[1;32mdef\u001b[0m \u001b[0mneighbours\u001b[0m\u001b[1;33m(\u001b[0m\u001b[0mself\u001b[0m\u001b[1;33m,\u001b[0m \u001b[0mnode\u001b[0m\u001b[1;33m)\u001b[0m\u001b[1;33m:\u001b[0m\u001b[1;33m\u001b[0m\u001b[0m\n\u001b[0;32m     18\u001b[0m         \u001b[1;34m\"\"\"Returns all the direct neighbors of a given node\"\"\"\u001b[0m\u001b[1;33m\u001b[0m\u001b[0m\n\u001b[1;32m---> 19\u001b[1;33m         \u001b[0mx\u001b[0m\u001b[1;33m,\u001b[0m\u001b[0my\u001b[0m \u001b[1;33m=\u001b[0m \u001b[0mnode\u001b[0m\u001b[1;33m\u001b[0m\u001b[0m\n\u001b[0m\u001b[0;32m     20\u001b[0m         \u001b[1;31m# There are four directions in which we can go\u001b[0m\u001b[1;33m\u001b[0m\u001b[1;33m\u001b[0m\u001b[0m\n\u001b[0;32m     21\u001b[0m         \u001b[1;32mfor\u001b[0m \u001b[0mdx\u001b[0m\u001b[1;33m,\u001b[0m \u001b[0mdy\u001b[0m \u001b[1;32min\u001b[0m \u001b[1;33m[\u001b[0m\u001b[1;33m[\u001b[0m\u001b[1;36m0\u001b[0m\u001b[1;33m,\u001b[0m\u001b[1;36m1\u001b[0m\u001b[1;33m]\u001b[0m\u001b[1;33m,\u001b[0m \u001b[1;33m[\u001b[0m\u001b[1;36m0\u001b[0m\u001b[1;33m,\u001b[0m\u001b[1;33m-\u001b[0m\u001b[1;36m1\u001b[0m\u001b[1;33m]\u001b[0m\u001b[1;33m,\u001b[0m \u001b[1;33m[\u001b[0m\u001b[1;33m-\u001b[0m\u001b[1;36m1\u001b[0m\u001b[1;33m,\u001b[0m\u001b[1;36m0\u001b[0m\u001b[1;33m]\u001b[0m\u001b[1;33m,\u001b[0m \u001b[1;33m[\u001b[0m\u001b[1;36m1\u001b[0m\u001b[1;33m,\u001b[0m\u001b[1;36m0\u001b[0m\u001b[1;33m]\u001b[0m\u001b[1;33m]\u001b[0m\u001b[1;33m:\u001b[0m\u001b[1;33m\u001b[0m\u001b[0m\n",
      "\u001b[1;31mTypeError\u001b[0m: 'int' object is not iterable"
     ]
    }
   ],
   "source": [
    "solve_google_hard(example2)"
   ]
  },
  {
   "cell_type": "code",
   "execution_count": null,
   "metadata": {
    "collapsed": true
   },
   "outputs": [],
   "source": []
  }
 ],
 "metadata": {
  "kernelspec": {
   "display_name": "Python 3",
   "language": "python",
   "name": "python3"
  },
  "language_info": {
   "codemirror_mode": {
    "name": "ipython",
    "version": 3
   },
   "file_extension": ".py",
   "mimetype": "text/x-python",
   "name": "python",
   "nbconvert_exporter": "python",
   "pygments_lexer": "ipython3",
   "version": "3.4.1"
  }
 },
 "nbformat": 4,
 "nbformat_minor": 0
}
