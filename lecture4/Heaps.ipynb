{
 "cells": [
  {
   "cell_type": "code",
   "execution_count": 10,
   "metadata": {
    "collapsed": false
   },
   "outputs": [],
   "source": [
    "class MaxHeap(object):\n",
    "    def __init__(self, max_size=128):\n",
    "        self.storage = [None for _ in range(max_size)]\n",
    "        self.heap_size = 0\n",
    "    \n",
    "    def display(self, width=80):\n",
    "        next_element = 0\n",
    "        for i in range(0, 1000):\n",
    "            level_elts = 2**i\n",
    "            elts = self.storage[next_element:min(next_element + level_elts, self.heap_size)]\n",
    "            next_element = min(next_element + level_elts, self.heap_size)\n",
    "            if len(elts) == 0:\n",
    "                break\n",
    "            positions = [ (i+1) * width / (level_elts + 1) for i in range(level_elts)]\n",
    "            output = \"\"\n",
    "            for j, (elt, pos) in enumerate(zip(elts, positions)):\n",
    "                idx = 2**i + j - 1\n",
    "                while len(output) <= pos:\n",
    "                    output += \" \"\n",
    "                output += \"%d[@%d]\" % (elt,idx)\n",
    "            print(output)\n",
    "            print()\n",
    "    \n",
    "    def fix_down(self, index):\n",
    "        while index < self.heap_size:\n",
    "            # pick maximum child\n",
    "            max_child_idx = None\n",
    "            if  2 * index + 1 < self.heap_size:\n",
    "                max_child_idx = 2 * index + 1\n",
    "\n",
    "            if 2 * index + 2 < self.heap_size and \\\n",
    "                    self.storage[2 * index + 1] < self.storage[2 * index + 2]:\n",
    "                max_child_idx = 2 * index + 2\n",
    "\n",
    "            if max_child_idx is None or \\\n",
    "                    self.storage[index] > self.storage[max_child_idx]:\n",
    "                # heap property satisfied\n",
    "                break\n",
    "            \n",
    "            self.storage[index], self.storage[max_child_idx] = self.storage[max_child_idx], self.storage[index]\n",
    "            index = max_child_idx\n",
    "            \n",
    "    def fix_up(self, index):\n",
    "        assert index < self.heap_size\n",
    "        while index > 0:\n",
    "            parent_idx = (index - 1) // 2\n",
    "            if self.storage[index] >= self.storage[parent_idx]:\n",
    "                self.storage[index],  self.storage[parent_idx] =  self.storage[parent_idx], self.storage[index]\n",
    "                index = parent_idx\n",
    "            else:\n",
    "                break\n",
    "    \n",
    "    def insert(self, element):\n",
    "        self.heap_size += 1\n",
    "        new_index = self.heap_size - 1\n",
    "        self.storage[new_index] = element\n",
    "        self.fix_up(new_index)\n",
    "\n",
    "    def extract_max(self):\n",
    "        self.storage[0], self.storage[self.heap_size - 1] = self.storage[self.heap_size -1], self.storage[0]\n",
    "        self.heap_size -= 1\n",
    "        self.fix_down(0)\n",
    "        return self.storage[self.heap_size]\n",
    "        \n",
    "    def heapify(self):\n",
    "        for i in range(self.heap_size - 1, -1, -1):\n",
    "            self.fix_down(i)\n",
    "    \n",
    "    @staticmethod\n",
    "    def wrap_list(lst):\n",
    "        h = MaxHeap(0)\n",
    "        h.storage = lst\n",
    "        h.heap_size = len(lst)\n",
    "        return h"
   ]
  },
  {
   "cell_type": "code",
   "execution_count": 13,
   "metadata": {
    "collapsed": false
   },
   "outputs": [
    {
     "name": "stdout",
     "output_type": "stream",
     "text": [
      "                                         3[@0]\n",
      "\n",
      "                           4[@1]                      5[@2]\n",
      "\n",
      "                 8[@3]           6[@4]           1[@5]           10[@6]\n",
      "\n",
      "         9[@7]    5[@8]\n",
      "\n"
     ]
    }
   ],
   "source": [
    "example = [3,4,5,8,6,1,10,9,5]\n",
    "h = MaxHeap.wrap_list(example)\n",
    "h.display()"
   ]
  },
  {
   "cell_type": "code",
   "execution_count": 14,
   "metadata": {
    "collapsed": false
   },
   "outputs": [
    {
     "name": "stdout",
     "output_type": "stream",
     "text": [
      "                                         3[@0]\n",
      "\n",
      "                           8[@1]                      5[@2]\n",
      "\n",
      "                 9[@3]           6[@4]           1[@5]           10[@6]\n",
      "\n",
      "         4[@7]    5[@8]\n",
      "\n"
     ]
    }
   ],
   "source": [
    "h.fix_down(1)\n",
    "h.display()"
   ]
  },
  {
   "cell_type": "code",
   "execution_count": 15,
   "metadata": {
    "collapsed": false
   },
   "outputs": [
    {
     "name": "stdout",
     "output_type": "stream",
     "text": [
      "                                         8[@0]\n",
      "\n",
      "                           3[@1]                      5[@2]\n",
      "\n",
      "                 9[@3]           6[@4]           1[@5]           10[@6]\n",
      "\n",
      "         4[@7]    5[@8]\n",
      "\n"
     ]
    }
   ],
   "source": [
    "h.fix_up(1)\n",
    "h.display()"
   ]
  },
  {
   "cell_type": "code",
   "execution_count": 16,
   "metadata": {
    "collapsed": false
   },
   "outputs": [
    {
     "name": "stdout",
     "output_type": "stream",
     "text": [
      "                                         10[@0]\n",
      "\n",
      "                           8[@1]                      2[@2]\n",
      "\n",
      "                 6[@3]           3[@4]           1[@5]           2[@6]\n",
      "\n",
      "         4[@7]    5[@8]\n",
      "\n"
     ]
    }
   ],
   "source": [
    "example = [3,10,2,6,8,1,2,4,5]\n",
    "h = MaxHeap.wrap_list(example)\n",
    "h.heapify()\n",
    "h.display()"
   ]
  },
  {
   "cell_type": "code",
   "execution_count": 17,
   "metadata": {
    "collapsed": false
   },
   "outputs": [],
   "source": [
    "h = MaxHeap(128)\n",
    "h.display()"
   ]
  },
  {
   "cell_type": "code",
   "execution_count": 18,
   "metadata": {
    "collapsed": false
   },
   "outputs": [
    {
     "name": "stdout",
     "output_type": "stream",
     "text": [
      "                                         10[@0]\n",
      "\n",
      "                           5[@1]                      4[@2]\n",
      "\n",
      "                 1[@3]\n",
      "\n"
     ]
    }
   ],
   "source": [
    "h.insert(1)\n",
    "h.insert(4)\n",
    "h.insert(5)\n",
    "h.insert(10)\n",
    "h.display()"
   ]
  },
  {
   "cell_type": "code",
   "execution_count": 19,
   "metadata": {
    "collapsed": false
   },
   "outputs": [
    {
     "name": "stdout",
     "output_type": "stream",
     "text": [
      "10\n",
      "5\n",
      "4\n",
      "1\n"
     ]
    }
   ],
   "source": [
    "while h.heap_size > 0:\n",
    "    print(h.extract_max())"
   ]
  },
  {
   "cell_type": "code",
   "execution_count": 22,
   "metadata": {
    "collapsed": true
   },
   "outputs": [],
   "source": [
    "def heap_sort(array):\n",
    "    as_heap = MaxHeap.wrap_list(array)\n",
    "    as_heap.heapify()\n",
    "    while as_heap.heap_size > 0:\n",
    "        as_heap.extract_max()"
   ]
  },
  {
   "cell_type": "code",
   "execution_count": 23,
   "metadata": {
    "collapsed": false
   },
   "outputs": [
    {
     "name": "stdout",
     "output_type": "stream",
     "text": [
      "[1, 2, 2, 3, 4, 5, 6, 8, 10]\n"
     ]
    }
   ],
   "source": [
    "example = [3,10,2,6,8,1,2,4,5]\n",
    "heap_sort(example)\n",
    "print(example)"
   ]
  },
  {
   "cell_type": "code",
   "execution_count": null,
   "metadata": {
    "collapsed": true
   },
   "outputs": [],
   "source": []
  }
 ],
 "metadata": {
  "kernelspec": {
   "display_name": "Python 3",
   "language": "python",
   "name": "python3"
  },
  "language_info": {
   "codemirror_mode": {
    "name": "ipython",
    "version": 3
   },
   "file_extension": ".py",
   "mimetype": "text/x-python",
   "name": "python",
   "nbconvert_exporter": "python",
   "pygments_lexer": "ipython3",
   "version": "3.4.1"
  }
 },
 "nbformat": 4,
 "nbformat_minor": 0
}
