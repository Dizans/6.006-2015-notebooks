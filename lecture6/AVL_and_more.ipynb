{
 "cells": [
  {
   "cell_type": "code",
   "execution_count": 103,
   "metadata": {
    "collapsed": true
   },
   "outputs": [],
   "source": [
    "from collections import namedtuple\n",
    "from igraph import Graph, plot, layout, Plot\n",
    "%config InlineBackend.figure_format = 'png'"
   ]
  },
  {
   "cell_type": "markdown",
   "metadata": {},
   "source": [
    "# BST implementation\n",
    "\n",
    "Here's a simplified implementation of a Binary Search Tree. \n",
    "We will use it as a starting point for our AVL implementation."
   ]
  },
  {
   "cell_type": "code",
   "execution_count": 136,
   "metadata": {
    "collapsed": false
   },
   "outputs": [],
   "source": [
    "class Node(object):\n",
    "    def __init__(self, key):\n",
    "        # node key - this is the value we compare to determine where \n",
    "        # the node should be inserted.\n",
    "        self.key     = key\n",
    "        # left child (can be none if no child)\n",
    "        self.left    = None\n",
    "        # right child (can be none if no child)\n",
    "        self.right   = None\n",
    "        \n",
    "def BST_insert(where, key):\n",
    "    \"\"\"Inserts a node in a binary tree\"\"\"\n",
    "    if where is None:\n",
    "        # if we found a branch pointing to none, it means we\n",
    "        # can insert the node here\n",
    "        return Node(key)\n",
    "    elif key <= where.key:\n",
    "        # try inserting the node somewhere in the left subtree\n",
    "        where.left = BST_insert(where.left, key)\n",
    "    elif key > where.key:\n",
    "        # try inserting the node in the right subtree\n",
    "        where.right = BST_insert(where.right, key)\n",
    "    return where\n",
    "\n",
    "def BST_draw(node, g, display_height=False):\n",
    "    \"\"\"This method allows us to draw a binary tree.\n",
    "    \n",
    "    Don't worry about the implementation.\"\"\"\n",
    "    if node is None:\n",
    "        return\n",
    "    \n",
    "    if node.left is not None:\n",
    "        BST_draw(node.left,  g, display_height)\n",
    "        left_id = str(id(node.left))\n",
    "        left_color = \"black\"\n",
    "    else:\n",
    "        g.add_vertex(shape=0,)\n",
    "        left_id = len(g.vs) - 1\n",
    "        left_color = \"#00000000\"\n",
    "    \n",
    "    if node.right is not None:\n",
    "        BST_draw(node.right, g, display_height)\n",
    "        right_id = str(id(node.right))\n",
    "        right_color = \"black\"\n",
    "    else:\n",
    "        g.add_vertex(shape=0,)\n",
    "        right_id = len(g.vs) - 1\n",
    "        right_color = \"#00000000\"\n",
    "\n",
    "    label = str(node.key)\n",
    "    if display_height:\n",
    "        label = label + ' (height: %d)' % (node.height,)\n",
    "        \n",
    "    g.add_vertex(name=str(id(node)), label=label, \n",
    "                 shape=\"rectangle\", color=\"lightblue\")\n",
    "    if node.left is not None or node.right is not None:\n",
    "        g.add_edge(str(id(node)), left_id, color=left_color)\n",
    "        g.add_edge(str(id(node)), right_id, color=right_color)\n",
    "        \n",
    "            \n",
    "class BST(object):\n",
    "    def __init__(self):\n",
    "        \"\"\"This is a BST wrapper class.\n",
    "        \n",
    "        Its main function is keeping track of the root and \n",
    "        initiating recursive calls.\"\"\"\n",
    "        self.root = None\n",
    "    \n",
    "    def insert(self, key):        \n",
    "        self.root = BST_insert(self.root, key)\n",
    "    \n",
    "    def draw(self, display_height=False):\n",
    "        margin, width, height = 50, 500, 300\n",
    "        figure = Plot(bbox=(width, height))\n",
    "        \n",
    "        g = Graph()\n",
    "        if self.root is not None:\n",
    "            BST_draw(self.root, g, display_height)\n",
    "            root_id = [i for i, node in enumerate(g.vs) if g.vs[i]['name'] == str(id(self.root))]\n",
    "            assert len(root_id) == 1\n",
    "            figure.add(g, layout = Graph.layout_reingold_tilford(g, mode=\"in\", root=root_id), \n",
    "                        bbox=(margin, margin, width-margin, height - margin), vertex_size=30)\n",
    "            return figure"
   ]
  },
  {
   "cell_type": "markdown",
   "metadata": {},
   "source": [
    "# What's wrong with Binary Search Trees?\n",
    "\n",
    "AVL trees extend the Binary Search Trees, to provide better complexity guarantes. Both datastructures can implement any of insertion, deletion, successor etc. in $O(h)$. The difference is the fact that in case of BST height can be $O(n)$, while AVL guarantees height $O(lg \\ n)$. Let's try to understand this on an example:\n",
    "\n",
    "Inserting sorted sequence into BST results in an unbalance datastructure."
   ]
  },
  {
   "cell_type": "code",
   "execution_count": 138,
   "metadata": {
    "collapsed": false
   },
   "outputs": [
    {
     "data": {
      "image/png": "[encoded data removed]",
      "text/plain": [
       "<igraph.drawing.Plot at 0x7f6b4b312d10>"
      ]
     },
     "execution_count": 138,
     "metadata": {},
     "output_type": "execute_result"
    }
   ],
   "source": [
    "tree = BST()\n",
    "for el in [1,2,3,4,5,6]:\n",
    "    tree.insert(el)\n",
    "tree.draw()"
   ]
  },
  {
   "cell_type": "markdown",
   "metadata": {},
   "source": [
    "What we would like to see is a tree that looks more like this:"
   ]
  },
  {
   "cell_type": "code",
   "execution_count": 139,
   "metadata": {
    "collapsed": false
   },
   "outputs": [
    {
     "data": {
      "image/png": "[encoded data removed]",
      "text/plain": [
       "<igraph.drawing.Plot at 0x7f6b4b312c50>"
      ]
     },
     "execution_count": 139,
     "metadata": {},
     "output_type": "execute_result"
    }
   ],
   "source": [
    "tree = BST()\n",
    "for el in [4,2,1,3,6,5]:\n",
    "    tree.insert(el)\n",
    "tree.draw()"
   ]
  },
  {
   "cell_type": "markdown",
   "metadata": {},
   "source": [
    "# AVL trees\n",
    "\n",
    "We can see from above example that changing the order of insertions can result in balanced three. However the point of BSTs is that we want to be able to update it online, as the updates arrive, without necessarily knowing the elements we are going to insert in the future. AVL provide best of both worlds - they support online updates, and the updates always result in balanced trees. \n",
    "\n",
    "### AVL invariant\n",
    "\n",
    "Let $X$ be arbitrary node in AVL tree. Let $X_L$, $X_R$ be left and right children of $X$ respectively. Furthermore let $H_X$ be height of subtree rooted in $X$. AVL trees satisfy the following invariant:\n",
    "\n",
    "$$ \\left| H_{X_L} - H_{X_L} \\right| \\leq 1 $$\n",
    "\n",
    "It is satisfied before and after all the operations that we perform on an AVL tree. In this recitation we will implement AVL insertion that is capable of maintaining that invariant. Notice that BST by default does not satisfy this invariant (make sure you understand why).\n",
    "\n",
    "### AVL height\n",
    "\n",
    "First step on our journey to implement AVL trees is to keep track of tree height. To implement it we first need to make sure that we understand what $H_X$ actually means. Let's look at a definition:\n",
    "\n",
    "$$\n",
    "H_X=\n",
    "\\begin{cases}\n",
    "-1                &\\text{ if } X = 0 \\\\\n",
    "max(H_L, H_R) + 1 &\\text{otherwise}\n",
    "\\end{cases}\n",
    "$$\n",
    "\n",
    "Notice that this definition in particular implies that heigh of a leaf is $0$. Alternative definition of height is the maximum number of edges we need to traverse to get from a node its some leaf (and $-1$ is a special case for convenience).\n",
    "\n",
    "One we to keep track of height is to calculate it every time in $O(h)$ complexity. This is a correct solution, but as we will soon find out, we will use the information about height too often for the extra $O(h)$ cost. Alternative solution is for every tree to store its height. Then all we need to do is to correct it, when tree changes. Let's see how to implement it:"
   ]
  },
  {
   "cell_type": "code",
   "execution_count": 151,
   "metadata": {
    "collapsed": true
   },
   "outputs": [],
   "source": [
    "class Node(object):\n",
    "    def __init__(self, key):\n",
    "        self.key     = key\n",
    "        self.left    = None\n",
    "        self.right   = None\n",
    "        # here it is!\n",
    "        self.height  = 0\n",
    "        \n",
    "    def recompute_height(self):\n",
    "        \"\"\"Updates the height variable.\n",
    "        \n",
    "        Should be run every time subtree changes.\n",
    "        Assumes children height values are correct.\"\"\"\n",
    "        # we assure left and right already has correct height computed.\n",
    "        # if they don't exists we assume height is -1\n",
    "        left_height  = self.left.height  if self.left  is not None else -1\n",
    "        right_height = self.right.height if self.right is not None else -1\n",
    "        # height computed using formula from above\n",
    "        self.height = max(left_height, right_height) + 1\n",
    "        \n",
    "    # This will be useful later!\n",
    "    def balance_factor(self):\n",
    "        \"\"\"Returns the difference in height of children subtrees:\n",
    "            H_L - H_R\n",
    "        \n",
    "        Absolute value of balance factor should be less than 1 after\n",
    "        each AVL operation.\"\"\"\n",
    "        left_height  = self.left.height  if self.left  is not None else -1\n",
    "        right_height = self.right.height if self.right is not None else -1\n",
    "        return left_height - right_height"
   ]
  },
  {
   "cell_type": "markdown",
   "metadata": {},
   "source": [
    "### Keeping track of height in AVL insertion\n",
    "\n",
    "It's really not that hard! We just need to make sure that whenever tree height could have changed we recompute the height. "
   ]
  },
  {
   "cell_type": "code",
   "execution_count": 141,
   "metadata": {
    "collapsed": true
   },
   "outputs": [],
   "source": [
    "def BST_insert(where, key):\n",
    "    \"\"\"Inserts a node in a binary tree\"\"\"\n",
    "    if where is None:\n",
    "        # if we found a branch pointing to none, it means we\n",
    "        # can insert the node here\n",
    "        return Node(key)\n",
    "    elif key <= where.key:\n",
    "        # try inserting the node somewhere in the left subtree\n",
    "        where.left = BST_insert(where.left, key)\n",
    "    elif key > where.key:\n",
    "        # try inserting the node in the right subtree\n",
    "        where.right = BST_insert(where.right, key)\n",
    "    \n",
    "    where.recompute_height() # <---- THIS IS THE ONLY CHANGE\n",
    "    \n",
    "    return where"
   ]
  },
  {
   "cell_type": "markdown",
   "metadata": {},
   "source": [
    "## Always good to run some examples to verify our implementation"
   ]
  },
  {
   "cell_type": "code",
   "execution_count": 143,
   "metadata": {
    "collapsed": false
   },
   "outputs": [
    {
     "data": {
      "image/png": "[encoded data removed]",
      "text/plain": [
       "<igraph.drawing.Plot at 0x7f6b4b312d90>"
      ]
     },
     "execution_count": 143,
     "metadata": {},
     "output_type": "execute_result"
    }
   ],
   "source": [
    "tree = BST()\n",
    "for el in [7,5,4,6,3,10,11]:\n",
    "    tree.insert(el)\n",
    "tree.draw(display_height=True)"
   ]
  },
  {
   "cell_type": "markdown",
   "metadata": {},
   "source": [
    "# AVL rotations\n",
    "\n",
    "The only weapon of the lone worrior of the AVL clan is a rotation or to be more specific two rotations (the left rotation and the right rotation). \n",
    "\n",
    "Before we dive in the technical details of how to implement the AVL rotations let's first try to get some intuition. In AVL we strive to keep the difference between heights of right and left subtrees of all nodes at most $1$. Insertion can increase this difference to $2$ in the worst case.\n",
    "\n",
    "For example imagine that we inserted an element into right subtree and now right subtree is 2 higher than left subtree. "
   ]
  },
  {
   "cell_type": "code",
   "execution_count": 146,
   "metadata": {
    "collapsed": false
   },
   "outputs": [
    {
     "data": {
      "image/png": "[encoded data removed]",
      "text/plain": [
       "<igraph.drawing.Plot at 0x7f6b4b332450>"
      ]
     },
     "execution_count": 146,
     "metadata": {},
     "output_type": "execute_result"
    }
   ],
   "source": [
    "tree = BST()\n",
    "for el in [3,1,6,5,7,8]:\n",
    "    tree.insert(el)\n",
    "tree.draw(display_height=True)"
   ]
  },
  {
   "cell_type": "markdown",
   "metadata": {},
   "source": [
    "Intuitively what we want to do is to *rotate the tree left* - steal one node from right (and replace root by it) and add one node to the left subtree (the former root). Intuitively this will result in one decrase in right subtree height and one increase in left subtree height therefore balancing the tree (in reality it is not that simple, but that's just an intuition)."
   ]
  },
  {
   "cell_type": "code",
   "execution_count": 147,
   "metadata": {
    "collapsed": true
   },
   "outputs": [],
   "source": [
    "# HINT: when trying to understand this function read it from the bottom!\n",
    "\n",
    "def AVL_rotate_left(node):\n",
    "    \"\"\"Rotates the tree left and returns a new root.\"\"\"\n",
    "    assert node.right is not None, \\\n",
    "            \"Tree can only be rotated left if the right subtree is nonempty\"\n",
    "    old_right       = node.right\n",
    "    old_right_left  = node.right.left\n",
    "    \n",
    "    # instead of old right node, old root takes old rights left subtree\n",
    "    node.right     = old_right_left\n",
    "    # node's children changed - we need to recompute the height\n",
    "    node.recompute_height()\n",
    "    \n",
    "    # old root becomes left node of old right (which becomes new root) \n",
    "    old_right.left = node\n",
    "    # old_right's children changed - we need to recompute the height\n",
    "    old_right.recompute_height()\n",
    "    \n",
    "    return old_right"
   ]
  },
  {
   "cell_type": "code",
   "execution_count": 148,
   "metadata": {
    "collapsed": false
   },
   "outputs": [
    {
     "data": {
      "image/png": "[encoded data removed]",
      "text/plain": [
       "<igraph.drawing.Plot at 0x7f6b4b312a10>"
      ]
     },
     "execution_count": 148,
     "metadata": {},
     "output_type": "execute_result"
    }
   ],
   "source": [
    "tree.root = AVL_rotate_left(tree.root)\n",
    "tree.draw(display_height=True)"
   ]
  },
  {
   "cell_type": "markdown",
   "metadata": {},
   "source": [
    "## Exercise: prove that AVL rotation preserves BST invariant"
   ]
  },
  {
   "cell_type": "markdown",
   "metadata": {},
   "source": [
    "### AVL right rotation\n",
    "\n",
    "The are analogous to left rotations (in fact they invert the left rotation)..."
   ]
  },
  {
   "cell_type": "code",
   "execution_count": 149,
   "metadata": {
    "collapsed": true
   },
   "outputs": [],
   "source": [
    "# HINT: when trying to understand this function read it from the bottom!\n",
    "\n",
    "def AVL_rotate_right(node):\n",
    "    \"\"\"Rotates the tree right and returns a new root.\"\"\"\n",
    "    assert node.left is not None, \\\n",
    "            \"Tree can only be rotated right if the left subtree is nonempty\"\n",
    "    old_left       = node.left\n",
    "    old_left_right  = node.left.right\n",
    "    \n",
    "    node.left     = old_left_right\n",
    "    node.recompute_height()\n",
    "    \n",
    "    old_left.right = node\n",
    "    old_left.recompute_height()\n",
    "    \n",
    "    return old_left"
   ]
  },
  {
   "cell_type": "code",
   "execution_count": 150,
   "metadata": {
    "collapsed": false
   },
   "outputs": [
    {
     "data": {
      "image/png": "[encoded data removed]",
      "text/plain": [
       "<igraph.drawing.Plot at 0x7f6b4b332550>"
      ]
     },
     "execution_count": 150,
     "metadata": {},
     "output_type": "execute_result"
    }
   ],
   "source": [
    "tree.root = AVL_rotate_right(tree.root)\n",
    "tree.draw(display_height=True)"
   ]
  },
  {
   "cell_type": "markdown",
   "metadata": {},
   "source": [
    "## AVL insertion prelude.\n",
    "\n",
    "Assume we just performed insertion which threw our tree off balance. We will operate under recursive assumption, that child trees are balanced and that only current node maybe be unbalance (height of one child is height of second child + 2).\n",
    "\n",
    "Intuition dictates that there are two cases to consider (left child higher or right child higher), but actually as we will soon find out there are four cases. Let's see why. \n",
    "\n"
   ]
  },
  {
   "cell_type": "markdown",
   "metadata": {},
   "source": [
    "### Case 1: Right-Right case \n",
    "\n",
    "First let's look at a simple tree where right subtree is higher."
   ]
  },
  {
   "cell_type": "code",
   "execution_count": 152,
   "metadata": {
    "collapsed": false
   },
   "outputs": [
    {
     "data": {
      "image/png": "[encoded data removed]",
      "text/plain": [
       "<igraph.drawing.Plot at 0x7f6b4b3322d0>"
      ]
     },
     "execution_count": 152,
     "metadata": {},
     "output_type": "execute_result"
    }
   ],
   "source": [
    "tree = BST()\n",
    "for el in [3,1,6,5,7,8]:\n",
    "    tree.insert(el)\n",
    "tree.draw(display_height=True)"
   ]
  },
  {
   "cell_type": "markdown",
   "metadata": {},
   "source": [
    "As we have already seen this can be fixed with a single left rotation."
   ]
  },
  {
   "cell_type": "code",
   "execution_count": 155,
   "metadata": {
    "collapsed": false
   },
   "outputs": [
    {
     "data": {
      "image/png": "[encoded data removed]",
      "text/plain": [
       "<igraph.drawing.Plot at 0x7f6b4b312dd0>"
      ]
     },
     "execution_count": 155,
     "metadata": {},
     "output_type": "execute_result"
    }
   ],
   "source": [
    "tree.root = AVL_rotate_left(tree.root)\n",
    "tree.draw(display_height=True)"
   ]
  },
  {
   "cell_type": "markdown",
   "metadata": {},
   "source": [
    "### Case 2: Right-Left case \n",
    "Let's look at the following bizzare example:"
   ]
  },
  {
   "cell_type": "code",
   "execution_count": 160,
   "metadata": {
    "collapsed": false
   },
   "outputs": [
    {
     "data": {
      "image/png": "[encoded data removed]",
      "text/plain": [
       "<igraph.drawing.Plot at 0x7f6b4b332910>"
      ]
     },
     "execution_count": 160,
     "metadata": {},
     "output_type": "execute_result"
    }
   ],
   "source": [
    "tree = BST()\n",
    "for el in [3,1,7,6,5,8]:\n",
    "    tree.insert(el)\n",
    "tree.draw(display_height=True)"
   ]
  },
  {
   "cell_type": "markdown",
   "metadata": {},
   "source": [
    "OBVIOUSLY* (as 6.006 progresses you will get more and more scared of this word) you can fix this with a left rotation.\n",
    "\n",
    "*Not"
   ]
  },
  {
   "cell_type": "code",
   "execution_count": 161,
   "metadata": {
    "collapsed": false
   },
   "outputs": [
    {
     "data": {
      "image/png": "[encoded data removed]",
      "text/plain": [
       "<igraph.drawing.Plot at 0x7f6b4b332c10>"
      ]
     },
     "execution_count": 161,
     "metadata": {},
     "output_type": "execute_result"
    }
   ],
   "source": [
    "tree.root = AVL_rotate_left(tree.root)\n",
    "tree.draw(display_height=True)"
   ]
  },
  {
   "cell_type": "markdown",
   "metadata": {},
   "source": [
    "The tree is still unbalanced. What happened? \n",
    "\n",
    "Normally, for the *perfectly* blanced subtrees (balance factor of 0) left-rotation decreases hieght or right subtree by 1 and increases the height of the right subtree by 1.\n",
    "\n",
    "Additionally the right-left subtree (the one rooted in 6 in the example) moves from right to left subtree. If that subtree is deepest (as in our example) it results in additional decrease by 1 for the right subtree and 1 increase in the left subtree. In which case the total balance is $-2$ for right subtree and $+2$ for left subtree, which means our tree is unblance again.\n",
    "\n",
    "Notice that this situation only happens if right-left (root 6 in example) subtree is higher than right-right subtree (root 8 in our exmaple). Is there a way to cope with such a situation? You guessed it - we need to right-rotate the right subtree (then right-left subtree is not longer higher than right-right subtree and we land at the familiar Case 1: right right).\n",
    "\n",
    "Let's see this in action!"
   ]
  },
  {
   "cell_type": "code",
   "execution_count": 166,
   "metadata": {
    "collapsed": false
   },
   "outputs": [
    {
     "data": {
      "image/png": "[encoded data removed]",
      "text/plain": [
       "<igraph.drawing.Plot at 0x7f6b4b332f10>"
      ]
     },
     "execution_count": 166,
     "metadata": {},
     "output_type": "execute_result"
    }
   ],
   "source": [
    "tree = BST()\n",
    "for el in [3,1,7,6,5,8]:\n",
    "    tree.insert(el)\n",
    "tree.draw(display_height=True)"
   ]
  },
  {
   "cell_type": "code",
   "execution_count": 168,
   "metadata": {
    "collapsed": false
   },
   "outputs": [
    {
     "data": {
      "image/png": "[encoded data removed]",
      "text/plain": [
       "<igraph.drawing.Plot at 0x7f6b4b31bd10>"
      ]
     },
     "execution_count": 168,
     "metadata": {},
     "output_type": "execute_result"
    }
   ],
   "source": [
    "# Step 1:\n",
    "tree.root.right = AVL_rotate_right(tree.root.right)\n",
    "tree.root.recompute_height()\n",
    "tree.draw(display_height=True)"
   ]
  },
  {
   "cell_type": "code",
   "execution_count": 172,
   "metadata": {
    "collapsed": false
   },
   "outputs": [
    {
     "data": {
      "image/png": "[encoded data removed]",
      "text/plain": [
       "<igraph.drawing.Plot at 0x7f6b4b312e50>"
      ]
     },
     "execution_count": 172,
     "metadata": {},
     "output_type": "execute_result"
    }
   ],
   "source": [
    "# Step 2:\n",
    "tree.root = AVL_rotate_left(tree.root)\n",
    "tree.draw(display_height=True)"
   ]
  },
  {
   "cell_type": "markdown",
   "metadata": {},
   "source": [
    "### Cases 3 & 4: left-left and right-left\n",
    "\n",
    "Those two cases are analogous to the cases 1 and 2, when the left tree is higher."
   ]
  },
  {
   "cell_type": "code",
   "execution_count": null,
   "metadata": {
    "collapsed": true
   },
   "outputs": [],
   "source": []
  }
 ],
 "metadata": {
  "kernelspec": {
   "display_name": "Python 2",
   "language": "python",
   "name": "python2"
  },
  "language_info": {
   "codemirror_mode": {
    "name": "ipython",
    "version": 2
   },
   "file_extension": ".py",
   "mimetype": "text/x-python",
   "name": "python",
   "nbconvert_exporter": "python",
   "pygments_lexer": "ipython2",
   "version": "2.7.8"
  }
 },
 "nbformat": 4,
 "nbformat_minor": 0
}
