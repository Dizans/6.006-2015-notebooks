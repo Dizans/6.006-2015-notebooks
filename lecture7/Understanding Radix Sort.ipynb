{
 "cells": [
  {
   "cell_type": "markdown",
   "metadata": {},
   "source": [
    "## Understanding radix sort\n",
    "\n",
    "First building block we will need is the `is_sorted` function. "
   ]
  },
  {
   "cell_type": "code",
   "execution_count": 5,
   "metadata": {
    "collapsed": true
   },
   "outputs": [],
   "source": [
    "def is_sorted(array):\n",
    "    \"\"\"Takes a sequence and returns true if an only if sequence is sorted.\"\"\"\n",
    "    # check all the n-1 pairs of adjacent elements for \n",
    "    # order violation\n",
    "    for i in xrange(1, len(array)):\n",
    "        if array[i-1] > array[i]:\n",
    "            return False\n",
    "    # if no violations, then by transitivity of < the sequence is sorted.\n",
    "    return True"
   ]
  },
  {
   "cell_type": "code",
   "execution_count": 7,
   "metadata": {
    "collapsed": false
   },
   "outputs": [
    {
     "name": "stdout",
     "output_type": "stream",
     "text": [
      "([1, 4, 6, 7, 8], True)\n",
      "([1, 4, 7, 6, 8], False)\n"
     ]
    }
   ],
   "source": [
    "# Verify implementation on few test cases\n",
    "example1 = [1,4,6,7,8]\n",
    "example2 = [1,4,7,6,8]\n",
    "print(example1, is_sorted(example1))\n",
    "print(example2, is_sorted(example2))"
   ]
  },
  {
   "cell_type": "markdown",
   "metadata": {},
   "source": [
    "## Stable sorting\n",
    "\n",
    "Python sort is stable. It means that if we have two elements that have the same value of *sorting key* they will appear in the output in the same order that they appeared in the input.\n",
    "\n",
    "Let's see an example: we have a list of pairs $(a,b)$ and we want to sort them in the nondecreasing order by $a$ and by nondecreasing $b$ if $a$'s are the same"
   ]
  },
  {
   "cell_type": "code",
   "execution_count": 49,
   "metadata": {
    "collapsed": false
   },
   "outputs": [
    {
     "data": {
      "text/plain": [
       "[(3, 1), (3, 2), (1, 1), (1, 2), (2, 2), (2, 1)]"
      ]
     },
     "execution_count": 49,
     "metadata": {},
     "output_type": "execute_result"
    }
   ],
   "source": [
    "example = [ (3,1),(3,2),(1,1),(1,2), (2,2),(2,1)]\n",
    "example"
   ]
  },
  {
   "cell_type": "markdown",
   "metadata": {},
   "source": [
    "We can achieve that by sorting first by $b$ and then **stable-sorting** by $a$."
   ]
  },
  {
   "cell_type": "code",
   "execution_count": 50,
   "metadata": {
    "collapsed": false
   },
   "outputs": [
    {
     "data": {
      "text/plain": [
       "[(3, 1), (1, 1), (2, 1), (3, 2), (1, 2), (2, 2)]"
      ]
     },
     "execution_count": 50,
     "metadata": {},
     "output_type": "execute_result"
    }
   ],
   "source": [
    "sorted_idx2 = sorted(example, key=lambda x: x[1])\n",
    "sorted_idx2"
   ]
  },
  {
   "cell_type": "code",
   "execution_count": 51,
   "metadata": {
    "collapsed": false
   },
   "outputs": [
    {
     "data": {
      "text/plain": [
       "[(1, 1), (1, 2), (2, 1), (2, 2), (3, 1), (3, 2)]"
      ]
     },
     "execution_count": 51,
     "metadata": {},
     "output_type": "execute_result"
    }
   ],
   "source": [
    "sorted_idx12 = sorted(sorted_idx2, key=lambda x: x[0])\n",
    "sorted_idx12"
   ]
  },
  {
   "cell_type": "markdown",
   "metadata": {},
   "source": [
    "### Unstable sort example\n",
    "\n",
    "Sort does no have to be stable. For example merge sort isn't."
   ]
  },
  {
   "cell_type": "code",
   "execution_count": 58,
   "metadata": {
    "collapsed": false
   },
   "outputs": [],
   "source": [
    "def merge(list1, list2, key=lambda x:x):\n",
    "    res = []\n",
    "    ptr1, ptr2 = 0, 0\n",
    "    while len(res) < len(list1) + len(list2):\n",
    "        if ptr2 == len(list2) or (ptr1 < len(list1) and key(list1[ptr1]) < key(list2[ptr2])):\n",
    "            res.append(list1[ptr1])\n",
    "            ptr1 += 1\n",
    "        else:\n",
    "            res.append(list2[ptr2])\n",
    "            ptr2 += 1\n",
    "    return res\n",
    "\n",
    "def merge_sort(array, key=lambda x: x):\n",
    "    if len(array) in [0,1]:\n",
    "        return array\n",
    "    else:\n",
    "        sorted_left  = merge_sort(array[:len(array) / 2], key)\n",
    "        sorted_right = merge_sort(array[len(array) / 2:], key)\n",
    "    return merge(sorted_left, sorted_right, key)"
   ]
  },
  {
   "cell_type": "code",
   "execution_count": 59,
   "metadata": {
    "collapsed": false
   },
   "outputs": [
    {
     "data": {
      "text/plain": [
       "[(2, 1), (1, 1), (3, 1), (2, 2), (1, 2), (3, 2)]"
      ]
     },
     "execution_count": 59,
     "metadata": {},
     "output_type": "execute_result"
    }
   ],
   "source": [
    "sorted_idx2 = merge_sort(example, key=lambda x: x[1])\n",
    "sorted_idx2"
   ]
  },
  {
   "cell_type": "code",
   "execution_count": 114,
   "metadata": {
    "collapsed": false
   },
   "outputs": [
    {
     "name": "stdout",
     "output_type": "stream",
     "text": [
      "[(1, 2), (1, 1), (2, 2), (2, 1), (3, 2), (3, 1)]\n",
      "Notice that secondary sorting criterion is violated.\n"
     ]
    }
   ],
   "source": [
    "sorted_idx12 = merge_sort(sorted_idx2, key=lambda x: x[0])\n",
    "print(sorted_idx12)\n",
    "print(\"Notice that secondary sorting criterion is violated.\")"
   ]
  },
  {
   "cell_type": "markdown",
   "metadata": {},
   "source": [
    "## Radix sort idea\n",
    "\n",
    "Imagine that you want to compare two long numbers. For example 85823421348134214 and  85823421348452456. The algorithm you would use is to compare the first digit and if it is the same then compare the next digit etc. We can say that first digit is the primary comparison criterion, second digit is the secondary sorting criterion etc. This is almost correct, but we actually need to make sure that we add extra zeros at the beginning of the number that is shorter (because sorter numbers come before longer numbers). \n",
    "\n",
    "Radix sort uses this idea directly for sorting. It first sorts the numbers by last digit. The it *stable-sorts* it by the second to last digit (making second to last digit primary sorting criterion and the last digit secondary sorting criterion) and so on. At the end of that process we end up with digitst sorted in exactly the order we discussed above.\n",
    "\n",
    "To implement that idea let's first look at how we would obtain the digits. "
   ]
  },
  {
   "cell_type": "code",
   "execution_count": 118,
   "metadata": {
    "collapsed": true
   },
   "outputs": [],
   "source": [
    "def ith_digit(number, i):\n",
    "    \"\"\"Returns the i-th digit from the end. \n",
    "    \n",
    "    i=0 resuts the very last digit.\"\"\"\n",
    "    for _ in range(i):\n",
    "        number /= 10\n",
    "    return number % 10"
   ]
  },
  {
   "cell_type": "code",
   "execution_count": 119,
   "metadata": {
    "collapsed": false
   },
   "outputs": [
    {
     "name": "stdout",
     "output_type": "stream",
     "text": [
      "3\n",
      "2\n",
      "1\n",
      "0\n",
      "0\n"
     ]
    }
   ],
   "source": [
    "print(ith_digit(123, 0))\n",
    "print(ith_digit(123, 1))\n",
    "print(ith_digit(123, 2))\n",
    "print(ith_digit(123, 3))\n",
    "print(ith_digit(123, 4))"
   ]
  },
  {
   "cell_type": "markdown",
   "metadata": {},
   "source": [
    "Sweet! We have a function that returns i-th digit and it even yields additional zeros in the front - just what we needed.\n",
    "\n",
    "\n",
    "## Radix Sort using digit $i$ from the end\n",
    "\n",
    "In order to keep complexity at $O(n)$, we will need to a customized sorting procedure. \n",
    "\n",
    "In particular notice that we can only have ten different digits - we know that all zeros come before all ones etc. We can therefore put all the numbers in different buckets.\n",
    "\n",
    "For example if we sort `[123, 42, 73]` by the last digit, bucket nr 2 will have one number `[42]`, while bucket number three would have two numbers `[123, 73]`, while the remaining eight buckets would be empty. It is imporant that bucket nr two has `[123, 73]` not `[73, 123]` - this way if we read out the numbers in order they appear in the buckets we will get a stable sort."
   ]
  },
  {
   "cell_type": "code",
   "execution_count": 120,
   "metadata": {
    "collapsed": true
   },
   "outputs": [],
   "source": [
    "def radix_sort_by_ith_digit(array, i):\n",
    "    # buckets for all the digits\n",
    "    buckets = [[] for _ in xrange(10)]\n",
    "    for num in array:\n",
    "        # put a number in appropriate bucket \n",
    "        # (determined by i-th digit from the end)\n",
    "        buckets[ith_digit(num, i)].append(num)\n",
    "        \n",
    "    result = []\n",
    "    # read out the numbers from all the buckets\n",
    "    # in order they were inserted.\n",
    "    for bucket in buckets:\n",
    "        for num in bucket:\n",
    "            result.append(num)\n",
    "    return result"
   ]
  },
  {
   "cell_type": "code",
   "execution_count": 121,
   "metadata": {
    "collapsed": false
   },
   "outputs": [
    {
     "data": {
      "text/plain": [
       "[42, 123, 73]"
      ]
     },
     "execution_count": 121,
     "metadata": {},
     "output_type": "execute_result"
    }
   ],
   "source": [
    "# sort by the last digit\n",
    "pass1 = radix_sort_by_ith_digit([123,42,73], 0)\n",
    "pass1"
   ]
  },
  {
   "cell_type": "code",
   "execution_count": 122,
   "metadata": {
    "collapsed": false
   },
   "outputs": [
    {
     "data": {
      "text/plain": [
       "[123, 42, 73]"
      ]
     },
     "execution_count": 122,
     "metadata": {},
     "output_type": "execute_result"
    }
   ],
   "source": [
    "# sort result of previous pass by the second to last digit\n",
    "pass2 = radix_sort_by_ith_digit(pass1, 1)\n",
    "pass2"
   ]
  },
  {
   "cell_type": "code",
   "execution_count": 123,
   "metadata": {
    "collapsed": false
   },
   "outputs": [
    {
     "data": {
      "text/plain": [
       "[42, 73, 123]"
      ]
     },
     "execution_count": 123,
     "metadata": {},
     "output_type": "execute_result"
    }
   ],
   "source": [
    "# sort result of previous pass by the third to last digit\n",
    "# none of the numbers are longer than third digit, so we are done.\n",
    "pass3 = radix_sort_by_ith_digit(pass2, 2)\n",
    "pass3"
   ]
  },
  {
   "cell_type": "markdown",
   "metadata": {},
   "source": [
    "What happened above is exactly radix sort! Sort iteratively by digits further and further from the end until the sequence ends up sorted."
   ]
  },
  {
   "cell_type": "code",
   "execution_count": 124,
   "metadata": {
    "collapsed": true
   },
   "outputs": [],
   "source": [
    "def radix_sort(array):\n",
    "    \"\"\"Returns array sorted by i-th digit from the end.\n",
    "    \n",
    "    The sorting procedure is stable.\"\"\"\n",
    "    i = 0\n",
    "    while True:\n",
    "        if is_sorted(array):\n",
    "            # we stop once the array is sorted\n",
    "            # the latest this can happen is when \n",
    "            # we run the number of passes eqaul to\n",
    "            # the length of the longest number\n",
    "            break\n",
    "        # stable sort by i-th digit.\n",
    "        array = radix_sort_by_ith_digit(array, i)\n",
    "        i += 1\n",
    "    return array"
   ]
  },
  {
   "cell_type": "code",
   "execution_count": 125,
   "metadata": {
    "collapsed": false
   },
   "outputs": [
    {
     "data": {
      "text/plain": [
       "[42, 73, 123]"
      ]
     },
     "execution_count": 125,
     "metadata": {},
     "output_type": "execute_result"
    }
   ],
   "source": [
    "radix_sort([123,42,73])"
   ]
  },
  {
   "cell_type": "code",
   "execution_count": 126,
   "metadata": {
    "collapsed": false
   },
   "outputs": [
    {
     "data": {
      "text/plain": [
       "[42, 73, 123, 512, 524, 5214, 123123, 142124]"
      ]
     },
     "execution_count": 126,
     "metadata": {},
     "output_type": "execute_result"
    }
   ],
   "source": [
    "# harder example\n",
    "radix_sort([123,42,73, 123123, 142124, 524, 512, 5214])"
   ]
  },
  {
   "cell_type": "markdown",
   "metadata": {},
   "source": [
    "### Radix sort with different numeric base. \n",
    "\n",
    "Let's try to improve our algorithm slightly. Notice that the fact that we use digits in base $10$ is kind of arbitrary. How hard would it be to use any $b \\geq 2$? In theory all we should be required to do is to change the digit extraction procedure and the number of buckets. \n",
    "\n",
    "Let's start with the digits."
   ]
  },
  {
   "cell_type": "code",
   "execution_count": 127,
   "metadata": {
    "collapsed": true
   },
   "outputs": [],
   "source": [
    "def ith_digit(number, b, i):\n",
    "    \"\"\"Returns the i-th digit from the end (base b).\n",
    "    \n",
    "    i=0 resuts the very last digit.\"\"\"\n",
    "    for _ in range(i):\n",
    "        number /= b      # changed 10 to b\n",
    "    return number % b    # changed 10 to b"
   ]
  },
  {
   "cell_type": "code",
   "execution_count": 128,
   "metadata": {
    "collapsed": false
   },
   "outputs": [
    {
     "name": "stdout",
     "output_type": "stream",
     "text": [
      "7 mod 2\n",
      "1\n",
      "1\n",
      "1\n",
      "0\n",
      "0\n"
     ]
    }
   ],
   "source": [
    "print(\"7 mod 2\")\n",
    "print(ith_digit(7, 2, 0))\n",
    "print(ith_digit(7, 2, 1))\n",
    "print(ith_digit(7, 2, 2))\n",
    "print(ith_digit(7, 2, 3))\n",
    "print(ith_digit(7, 2, 4))"
   ]
  },
  {
   "cell_type": "code",
   "execution_count": 129,
   "metadata": {
    "collapsed": false
   },
   "outputs": [
    {
     "name": "stdout",
     "output_type": "stream",
     "text": [
      "7 mod 3\n",
      "1\n",
      "2\n",
      "0\n",
      "0\n",
      "0\n"
     ]
    }
   ],
   "source": [
    "print(\"7 mod 3\")\n",
    "print(ith_digit(7, 3, 0))\n",
    "print(ith_digit(7, 3, 1))\n",
    "print(ith_digit(7, 3, 2))\n",
    "print(ith_digit(7, 3, 3))\n",
    "print(ith_digit(7, 3, 4))"
   ]
  },
  {
   "cell_type": "markdown",
   "metadata": {},
   "source": [
    "Now we are ready to augment to radix_sort."
   ]
  },
  {
   "cell_type": "code",
   "execution_count": 130,
   "metadata": {
    "collapsed": true
   },
   "outputs": [],
   "source": [
    "def radix_sort_by_ith_digit(array, b, i):\n",
    "    \"\"\"Returns array sorted by i-th digit from the end (base b).\n",
    "    \n",
    "    The sorting procedure is stable.\"\"\"\n",
    "    buckets = [[] for _ in xrange(b)]              # We need b buckets...\n",
    "    for num in array:\n",
    "        buckets[ith_digit(num, b, i)].append(num)  # we use digit base b to select bucket\n",
    "        \n",
    "    result = []\n",
    "    for bucket in buckets:\n",
    "        for num in bucket:\n",
    "            result.append(num)\n",
    "    return result"
   ]
  },
  {
   "cell_type": "code",
   "execution_count": 131,
   "metadata": {
    "collapsed": true
   },
   "outputs": [],
   "source": [
    "def radix_sort(array, b):\n",
    "    \"\"\"Returns array sorted by i-th digit from the end.\n",
    "    \n",
    "    The sorting procedure is stable.\"\"\"\n",
    "    i = 0\n",
    "    while True:\n",
    "        if is_sorted(array):\n",
    "            # we stop once the array is sorted\n",
    "            # the latest this can happen is when \n",
    "            # we run the number of passes eqaul to\n",
    "            # the length of the longest number\n",
    "            break\n",
    "        print(\"Iteration %d\" % (i,))\n",
    "        # stable sort by i-th digit.\n",
    "        array = radix_sort_by_ith_digit(array, b, i)\n",
    "        i += 1\n",
    "    return array"
   ]
  },
  {
   "cell_type": "markdown",
   "metadata": {},
   "source": [
    "Let's try sorting in base $b=2$"
   ]
  },
  {
   "cell_type": "code",
   "execution_count": 132,
   "metadata": {
    "collapsed": false
   },
   "outputs": [
    {
     "name": "stdout",
     "output_type": "stream",
     "text": [
      "Iteration 0\n",
      "Iteration 1\n",
      "Iteration 2\n",
      "Iteration 3\n",
      "Iteration 4\n",
      "Iteration 5\n",
      "Iteration 6\n"
     ]
    },
    {
     "data": {
      "text/plain": [
       "[42, 73, 123]"
      ]
     },
     "execution_count": 132,
     "metadata": {},
     "output_type": "execute_result"
    }
   ],
   "source": [
    "radix_sort([123,42,73], 2)"
   ]
  },
  {
   "cell_type": "markdown",
   "metadata": {},
   "source": [
    "Whoah! 7 iterations? That is a lot to sort just 3 numbers. How about if we increase the base? Maybe $b=1000$ ?"
   ]
  },
  {
   "cell_type": "code",
   "execution_count": 133,
   "metadata": {
    "collapsed": false
   },
   "outputs": [
    {
     "name": "stdout",
     "output_type": "stream",
     "text": [
      "Iteration 0\n"
     ]
    },
    {
     "data": {
      "text/plain": [
       "[42, 73, 123]"
      ]
     },
     "execution_count": 133,
     "metadata": {},
     "output_type": "execute_result"
    }
   ],
   "source": [
    "radix_sort([123,42,73], 1000)"
   ]
  },
  {
   "cell_type": "markdown",
   "metadata": {},
   "source": [
    "Much better - we only have one iteration. Notice however that we have many more buckets than numbers - even though in theory we decrease number of iterations, now every iteration is dominated by looping through every bucket. In this example $1000$ buckets visited in one iteration are much worst than two buckets visited in $7$ iterations (total of $14$ acceses). Actually array acceses contribute another 3 operations per iteraions ($7 * 3 = 21$) adding up to total of $35$ operations, but this is still much less than $1000$."
   ]
  },
  {
   "cell_type": "code",
   "execution_count": 134,
   "metadata": {
    "collapsed": false
   },
   "outputs": [
    {
     "name": "stdout",
     "output_type": "stream",
     "text": [
      "Iteration 0\n",
      "Iteration 1\n",
      "Iteration 2\n"
     ]
    },
    {
     "data": {
      "text/plain": [
       "[42, 73, 123]"
      ]
     },
     "execution_count": 134,
     "metadata": {},
     "output_type": "execute_result"
    }
   ],
   "source": [
    "# much healthier choice\n",
    "radix_sort([123,42,73], 5)"
   ]
  },
  {
   "cell_type": "markdown",
   "metadata": {},
   "source": [
    "## Radix sort complexity analysis\n",
    "\n",
    "Let $b$ be the base and $n$ size of the array. Moreover let's assume that all the numbers in the array are less than or equal $a$.\n",
    "\n",
    "At every iteration we\n",
    "- allocate space for $b$ buckets: $O(b)$\n",
    "- loop throgh all the elements in the input array and put them in buckets $O(n)$\n",
    "- remove elements from the buckets $O(n)$\n",
    "\n",
    "Therefore complexity of a single iteration is $O(n + b)$.\n",
    "\n",
    "How many iterations are there? At most as many as the number of digits in the longest number: O($log_b\\ a$)\n",
    "\n",
    "Therefore the total complexity of the algorithm is O($(n+b) log_b\\ a)$.\n",
    "\n",
    "In theory we often assume that both $b$ and $a$ are constants - they are after all independent of $n$ - they won't influence the run time as $n$ grows. That's why some theorists say that Radix Sort is $O(n)$."
   ]
  },
  {
   "cell_type": "markdown",
   "metadata": {},
   "source": [
    "## Exercises\n",
    "\n",
    "1. We said that the best possible algorithm that does sorting has complexity $O(n\\ lg\\ n)$. How is it possible that radix sort takes only $O(n)$ time? \n",
    "\n",
    "2. Can you come up with a sorting problem where it would be hard to use Radix Sort?"
   ]
  },
  {
   "cell_type": "markdown",
   "metadata": {},
   "source": [
    "# Be sure to checkout the Performance of Radix Sort notebook!"
   ]
  }
 ],
 "metadata": {
  "kernelspec": {
   "display_name": "Python 2",
   "language": "python",
   "name": "python2"
  },
  "language_info": {
   "codemirror_mode": {
    "name": "ipython",
    "version": 2
   },
   "file_extension": ".py",
   "mimetype": "text/x-python",
   "name": "python",
   "nbconvert_exporter": "python",
   "pygments_lexer": "ipython2",
   "version": "2.7.8"
  }
 },
 "nbformat": 4,
 "nbformat_minor": 0
}
