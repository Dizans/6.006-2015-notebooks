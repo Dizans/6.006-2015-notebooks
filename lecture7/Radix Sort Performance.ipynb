{
 "cells": [
  {
   "cell_type": "code",
   "execution_count": 26,
   "metadata": {
    "collapsed": true
   },
   "outputs": [],
   "source": [
    "import random\n",
    "import cProfile"
   ]
  },
  {
   "cell_type": "markdown",
   "metadata": {},
   "source": [
    "# Radix sort"
   ]
  },
  {
   "cell_type": "code",
   "execution_count": 37,
   "metadata": {
    "collapsed": false
   },
   "outputs": [],
   "source": [
    "def is_sorted(array):\n",
    "    for i in xrange(1, len(array)):\n",
    "        if array[i-1] > array[i]:\n",
    "            return False\n",
    "    return True\n",
    "\n",
    "def radix_sort(array, b):\n",
    "    assert b > 1\n",
    "    i = 0\n",
    "    while True:\n",
    "        if is_sorted(array):\n",
    "            break\n",
    "        \n",
    "        buckets = [ [] for _ in xrange(b)]\n",
    "        for num in array:\n",
    "            bucket_idx = (num / b**i) % b\n",
    "            buckets[bucket_idx].append(num)\n",
    "        next_index = 0\n",
    "        for bucket in buckets:\n",
    "            for num in bucket:\n",
    "                array[next_index] = num\n",
    "                next_index += 1\n",
    "        \n",
    "        i += 1\n"
   ]
  },
  {
   "cell_type": "markdown",
   "metadata": {},
   "source": [
    "### Verify that it works on a simple example"
   ]
  },
  {
   "cell_type": "code",
   "execution_count": 2,
   "metadata": {
    "collapsed": false
   },
   "outputs": [
    {
     "data": {
      "text/plain": [
       "[1, 2, 2, 3, 4, 5, 5, 6]"
      ]
     },
     "execution_count": 2,
     "metadata": {},
     "output_type": "execute_result"
    }
   ],
   "source": [
    "example = [5,3,2,5,6,1,2,4]\n",
    "radix_sort(example, 2)\n",
    "example"
   ]
  },
  {
   "cell_type": "markdown",
   "metadata": {},
   "source": [
    "### We are now moving on to bigger examples\n",
    "The line\n",
    "```python\n",
    "random.seed(1)\n",
    "```\n",
    "ensures that we always generate the same example given test size (for fairness"
   ]
  },
  {
   "cell_type": "code",
   "execution_count": 27,
   "metadata": {
    "collapsed": false
   },
   "outputs": [],
   "source": [
    "def generate_test(test_size):\n",
    "    random.seed(1)\n",
    "    example = [ random.randint(0,2**30) for _ in range(test_size)]\n",
    "    return example"
   ]
  },
  {
   "cell_type": "markdown",
   "metadata": {},
   "source": [
    "Let's try it for radix sort on different bases."
   ]
  },
  {
   "cell_type": "code",
   "execution_count": 68,
   "metadata": {
    "collapsed": false
   },
   "outputs": [
    {
     "name": "stdout",
     "output_type": "stream",
     "text": [
      "         32000102 function calls in 23.508 seconds\n",
      "\n",
      "   Ordered by: standard name\n",
      "\n",
      "   ncalls  tottime  percall  cumtime  percall filename:lineno(function)\n",
      "       33    0.848    0.026    3.536    0.107 <ipython-input-49-aec844174429>:1(is_sorted)\n",
      "        1   18.637   18.637   23.496   23.496 <ipython-input-49-aec844174429>:7(radix_sort)\n",
      "        1    0.012    0.012   23.508   23.508 <string>:1(<module>)\n",
      "       33    0.000    0.000    0.000    0.000 {len}\n",
      " 32000000    1.322    0.000    1.322    0.000 {method 'append' of 'list' objects}\n",
      "        1    0.000    0.000    0.000    0.000 {method 'disable' of '_lsprof.Profiler' objects}\n",
      "       33    2.688    0.081    2.688    0.081 {range}\n",
      "\n",
      "\n"
     ]
    }
   ],
   "source": [
    "# BASE 2\n",
    "example = generate_test(1000000)\n",
    "cProfile.run(\"radix_sort(example, 2)\")\n",
    "assert is_sorted(example)"
   ]
  },
  {
   "cell_type": "code",
   "execution_count": 41,
   "metadata": {
    "collapsed": false
   },
   "outputs": [
    {
     "name": "stdout",
     "output_type": "stream",
     "text": [
      "         2000009 function calls in 1.655 seconds\n",
      "\n",
      "   Ordered by: standard name\n",
      "\n",
      "   ncalls  tottime  percall  cumtime  percall filename:lineno(function)\n",
      "        3    0.170    0.057    0.170    0.057 <ipython-input-37-6c262b17e721>:1(is_sorted)\n",
      "        1    1.309    1.309    1.631    1.631 <ipython-input-37-6c262b17e721>:7(radix_sort)\n",
      "        1    0.024    0.024    1.655    1.655 <string>:1(<module>)\n",
      "        3    0.000    0.000    0.000    0.000 {len}\n",
      "  2000000    0.152    0.000    0.152    0.000 {method 'append' of 'list' objects}\n",
      "        1    0.000    0.000    0.000    0.000 {method 'disable' of '_lsprof.Profiler' objects}\n",
      "\n",
      "\n"
     ]
    }
   ],
   "source": [
    "# BASE 16\n",
    "example = generate_test(1000000)\n",
    "cProfile.run(\"radix_sort(example, 2**16)\")\n",
    "assert is_sorted(example)"
   ]
  },
  {
   "cell_type": "markdown",
   "metadata": {},
   "source": [
    "Intuitively it makes sense. We only need two iterators for $b=16$, while we need 16 for $b=2$. We cannot really go to single iterators, as $b=32$ requires tons of space. \n",
    "\n",
    "Now let's try to run the standard sorting algorithm that implemented by Python (hybrid of insertion sort and quicksort). It is a comparison based sorting and is therefore $O(n\\ lg\\ n)$. Radix sort is $O(n)$. We therefore expect our code to be faster."
   ]
  },
  {
   "cell_type": "code",
   "execution_count": 19,
   "metadata": {
    "collapsed": false
   },
   "outputs": [
    {
     "name": "stdout",
     "output_type": "stream",
     "text": [
      "         3 function calls in 0.592 seconds\n",
      "\n",
      "   Ordered by: standard name\n",
      "\n",
      "   ncalls  tottime  percall  cumtime  percall filename:lineno(function)\n",
      "        1    0.000    0.000    0.592    0.592 <string>:1(<module>)\n",
      "        1    0.000    0.000    0.000    0.000 {method 'disable' of '_lsprof.Profiler' objects}\n",
      "        1    0.592    0.592    0.592    0.592 {method 'sort' of 'list' objects}\n",
      "\n",
      "\n"
     ]
    }
   ],
   "source": [
    "example = generate_test(1000000)\n",
    "cProfile.run(\"example.sort()\")\n",
    "assert is_sorted(example)"
   ]
  },
  {
   "cell_type": "markdown",
   "metadata": {},
   "source": [
    "In reality our code is 3 times slower. What a shame! Let's not give up yet..."
   ]
  },
  {
   "cell_type": "markdown",
   "metadata": {},
   "source": [
    "### A bit of bit magic.\n",
    "\n",
    "One of basic operations for radix sort is divide and modulo. In particular if our base is $b$.\n",
    "\n",
    "Then in every i-th iteration of radix sort algorithm we use as one of the most common operations.\n",
    "\n",
    "```python\n",
    "# determine appropriate bucket.\n",
    "(num / b**i) % b\n",
    "```\n",
    "\n",
    "This is great, but it consists of of expensive modulo and division operations (the can take up multiple processor cycles). \n",
    "\n",
    "Let's assume that b is a power of 2, i.e. $b=2^k$. Notice that `num / b**i` is equivalent to `num >> (k * i)`. In order to understand why this is the case first convince yourself that division by 2 is equivalent to shaving off rightmost bit."
   ]
  },
  {
   "cell_type": "code",
   "execution_count": 31,
   "metadata": {
    "collapsed": false
   },
   "outputs": [
    {
     "name": "stdout",
     "output_type": "stream",
     "text": [
      "(6, 6)\n",
      "(8, 8)\n"
     ]
    }
   ],
   "source": [
    "print(100 / 16, 100 >> 4)\n",
    "print(128 / 16, 128 >> 4)"
   ]
  },
  {
   "cell_type": "markdown",
   "metadata": {},
   "source": [
    "Similarly notice that for $b=2^k$ we have `num % b` equivalent to `num & (b-1)`. To understand that notice that k lowest bits of `num` correspond to the reminder mod $b$."
   ]
  },
  {
   "cell_type": "code",
   "execution_count": 33,
   "metadata": {
    "collapsed": false
   },
   "outputs": [
    {
     "name": "stdout",
     "output_type": "stream",
     "text": [
      "(4, 4)\n",
      "(0, 0)\n",
      "(11, 11)\n"
     ]
    }
   ],
   "source": [
    "print(100 % 16, 100 & 15)\n",
    "print(128 % 16, 128 & 15)\n",
    "print(11 % 16, 11 & 15)"
   ]
  },
  {
   "cell_type": "markdown",
   "metadata": {},
   "source": [
    "Both `&` and `>>` are very efficient and only take on processor cycle. We can augment implementation of radix sort from above to use them instead of `%` and `/`."
   ]
  },
  {
   "cell_type": "code",
   "execution_count": 34,
   "metadata": {
    "collapsed": true
   },
   "outputs": [],
   "source": [
    "def fast_radix_sort(array, k):\n",
    "    \"\"\"Fast radix sort with base 2**k.\n",
    "    \n",
    "    This implementation uses bitwise operations\"\"\"\n",
    "    assert k > 0\n",
    "    i = 0\n",
    "    \n",
    "    b=2**k\n",
    "    b_m1 = b - 1\n",
    "    \n",
    "    while True:\n",
    "        if is_sorted(array):\n",
    "            break\n",
    "        shift = k * i\n",
    "        buckets = [ [] for _ in xrange(b)]\n",
    "        for num in array:\n",
    "            bucket_idx = (num >> shift) & b_m1\n",
    "            buckets[bucket_idx].append(num)\n",
    "                        \n",
    "        next_index = 0\n",
    "        for bucket in buckets:\n",
    "            for num in bucket:\n",
    "                array[next_index] = num\n",
    "                next_index += 1\n",
    "        \n",
    "        i += 1"
   ]
  },
  {
   "cell_type": "code",
   "execution_count": 38,
   "metadata": {
    "collapsed": false
   },
   "outputs": [
    {
     "data": {
      "text/plain": [
       "[1, 2, 2, 3, 4, 5, 5, 6]"
      ]
     },
     "execution_count": 38,
     "metadata": {},
     "output_type": "execute_result"
    }
   ],
   "source": [
    "example = [5,3,2,5,6,1,2,4]\n",
    "fast_radix_sort(example, 16)\n",
    "example"
   ]
  },
  {
   "cell_type": "code",
   "execution_count": 40,
   "metadata": {
    "collapsed": false
   },
   "outputs": [
    {
     "name": "stdout",
     "output_type": "stream",
     "text": [
      "         2000009 function calls in 1.463 seconds\n",
      "\n",
      "   Ordered by: standard name\n",
      "\n",
      "   ncalls  tottime  percall  cumtime  percall filename:lineno(function)\n",
      "        1    1.137    1.137    1.443    1.443 <ipython-input-34-2dc028b9f7cf>:1(fast_radix_sort)\n",
      "        3    0.156    0.052    0.156    0.052 <ipython-input-37-6c262b17e721>:1(is_sorted)\n",
      "        1    0.020    0.020    1.463    1.463 <string>:1(<module>)\n",
      "        3    0.000    0.000    0.000    0.000 {len}\n",
      "  2000000    0.151    0.000    0.151    0.000 {method 'append' of 'list' objects}\n",
      "        1    0.000    0.000    0.000    0.000 {method 'disable' of '_lsprof.Profiler' objects}\n",
      "\n",
      "\n"
     ]
    }
   ],
   "source": [
    "example = generate_test(1000000)\n",
    "cProfile.run(\"fast_radix_sort(example, 16)\")\n",
    "assert is_sorted(example)"
   ]
  },
  {
   "cell_type": "markdown",
   "metadata": {},
   "source": [
    "*Good news* We got 0.2s speed up Yay!\n",
    "\n",
    "*Bad news* We are still nowhere near the performance of `.sort`. Why is that?\n",
    "\n",
    "The answer is in our choice of programming language. Python is interpreted and is known to have slowdowns up to 100x compared to low level langauges like C/C++. That's why many of Python routines are secretly implemented in C, `.sort` being one of them. In order to make the comparison fair we should also be allowed to write our implementation in C. Thankfully there's a Cython python extension, which makes it easy to interface with Python and compalies python-like code to C++. It should be pretty straightforward, but don't worry if you don't understand the details of the implementation below."
   ]
  },
  {
   "cell_type": "code",
   "execution_count": 1,
   "metadata": {
    "collapsed": false
   },
   "outputs": [],
   "source": [
    "%load_ext Cython"
   ]
  },
  {
   "cell_type": "code",
   "execution_count": 53,
   "metadata": {
    "collapsed": false
   },
   "outputs": [],
   "source": [
    "%%cython --cplus\n",
    "\n",
    "from libcpp.vector cimport vector\n",
    "cimport cython\n",
    "\n",
    "\n",
    "cdef c_is_sorted(list array):\n",
    "    \"\"\"Equivalent to implementation of is_sorted from above.\n",
    "    \n",
    "    However this one is compiled to pure C++ (thanks to cdef).\n",
    "    We cannot call it directly.\n",
    "    \n",
    "    The reasons it is slightly different from above is the fast that\n",
    "    \n",
    "        for current_num in array\n",
    "        \n",
    "    Is super-efficient in Cython.\"\"\"\n",
    "    cdef unsigned int lastnum = 0\n",
    "    cdef bint         first_iter = True\n",
    "    \n",
    "    for current_num in array:\n",
    "        if not first_iter:\n",
    "            if lastnum > current_num:\n",
    "                return False\n",
    "        else:\n",
    "            first_iter = False\n",
    "        lastnum = current_num\n",
    "    return True\n",
    "\n",
    "def c_radix_sort(list array, int k):\n",
    "    assert k > 0\n",
    "    # Just like in C Cython requires us \n",
    "    # to forward declare the variables\n",
    "    cdef int i          = 0\n",
    "    cdef int b          = 2 ** k\n",
    "    cdef int b_m1       = b - 1\n",
    "    cdef int shift      = 0\n",
    "    cdef int next_index = 0\n",
    "    cdef int num        = 0\n",
    "    # vector[vector[int]] is a list of lists of integers.\n",
    "    # (actually it is very efficient dynamically resizeable\n",
    "    # array)\n",
    "    cdef vector[vector[int]] buckets\n",
    "    \n",
    "    # initialize list with b empty arrays\n",
    "    for _ in xrange(b):\n",
    "        buckets.push_back(vector[int]())\n",
    "\n",
    "        \n",
    "    # The code below barely changed compared to origninal\n",
    "    # the only difference is the fast that we access buckets\n",
    "    # slightly differently to be compliant with vector API.\n",
    "    while True:\n",
    "        if c_is_sorted(array):\n",
    "            break\n",
    "        shift = i * k\n",
    "\n",
    "        for bucket_idx in xrange(b):\n",
    "            buckets[bucket_idx].clear()\n",
    "        \n",
    "        for num in array:\n",
    "            bucket_idx = (num >> shift) & b_m1\n",
    "            buckets[bucket_idx].push_back(num)\n",
    "        \n",
    "        next_index = 0\n",
    "        for bucket_idx in xrange(b):\n",
    "            for in_bucket_idx in xrange(buckets[bucket_idx].size()):\n",
    "                array[next_index] = buckets[bucket_idx][in_bucket_idx]\n",
    "                next_index += 1\n",
    "        \n",
    "        i += 1\n"
   ]
  },
  {
   "cell_type": "code",
   "execution_count": 54,
   "metadata": {
    "collapsed": false
   },
   "outputs": [
    {
     "data": {
      "text/plain": [
       "[1, 2, 2, 3, 4, 5, 5, 6]"
      ]
     },
     "execution_count": 54,
     "metadata": {},
     "output_type": "execute_result"
    }
   ],
   "source": [
    "example = [5,3,2,5,6,1,2,4]\n",
    "c_radix_sort(example, 16)\n",
    "example"
   ]
  },
  {
   "cell_type": "code",
   "execution_count": 56,
   "metadata": {
    "collapsed": false
   },
   "outputs": [
    {
     "name": "stdout",
     "output_type": "stream",
     "text": [
      "         3 function calls in 0.128 seconds\n",
      "\n",
      "   Ordered by: standard name\n",
      "\n",
      "   ncalls  tottime  percall  cumtime  percall filename:lineno(function)\n",
      "        1    0.000    0.000    0.128    0.128 <string>:1(<module>)\n",
      "        1    0.128    0.128    0.128    0.128 {_cython_magic_b8266c1b71a95275ac05a28b869d9d61.c_radix_sort}\n",
      "        1    0.000    0.000    0.000    0.000 {method 'disable' of '_lsprof.Profiler' objects}\n",
      "\n",
      "\n"
     ]
    }
   ],
   "source": [
    "example = generate_test(1000000)\n",
    "cProfile.run(\"c_radix_sort(example, 16)\")\n",
    "assert is_sorted(example)"
   ]
  },
  {
   "cell_type": "code",
   "execution_count": null,
   "metadata": {
    "collapsed": true
   },
   "outputs": [],
   "source": []
  }
 ],
 "metadata": {
  "kernelspec": {
   "display_name": "Python 2",
   "language": "python",
   "name": "python2"
  },
  "language_info": {
   "codemirror_mode": {
    "name": "ipython",
    "version": 2
   },
   "file_extension": ".py",
   "mimetype": "text/x-python",
   "name": "python",
   "nbconvert_exporter": "python",
   "pygments_lexer": "ipython2",
   "version": "2.7.8"
  }
 },
 "nbformat": 4,
 "nbformat_minor": 0
}
