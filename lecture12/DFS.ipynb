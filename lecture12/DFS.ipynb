{
 "cells": [
  {
   "cell_type": "code",
   "execution_count": 65,
   "metadata": {
    "collapsed": true
   },
   "outputs": [],
   "source": [
    "from collections import defaultdict, deque\n",
    "from igraph import Graph as PlottableGraph, plot, layout, Plot"
   ]
  },
  {
   "cell_type": "code",
   "execution_count": 22,
   "metadata": {
    "collapsed": true
   },
   "outputs": [],
   "source": [
    "class Graph(object):\n",
    "    def __init__(self):\n",
    "        self.adj = defaultdict(lambda: [])\n",
    "        self.nodes = set()\n",
    "    def add_edge(self, a, b):\n",
    "        self.adj[a].append(b)\n",
    "        self.nodes.add(a)\n",
    "        self.nodes.add(b)\n",
    "\n",
    "    def draw(self, root):\n",
    "        graph = PlottableGraph(directed=True)\n",
    "        figure = Plot(bbox=(800, 600))\n",
    "        for name in self.nodes:\n",
    "            graph.add_vertex(name=name, label=name)\n",
    "        for name, neighbors in self.adj.items():\n",
    "            for neighbor in neighbors:\n",
    "                graph.add_edge(name, neighbor, color=\"black\")\n",
    "        for vv in graph.vs:\n",
    "            if vv.attributes()[\"name\"] == root:\n",
    "                root = vv.index\n",
    "                break\n",
    "                    \n",
    "        figure.add(graph, layout=graph.layout(\"kk\"), margin = 100,\n",
    "                          vertex_label_dist=1, root=root)\n",
    "        return figure"
   ]
  },
  {
   "cell_type": "code",
   "execution_count": 23,
   "metadata": {
    "collapsed": true
   },
   "outputs": [],
   "source": [
    "g = Graph()\n",
    "g.add_edge(\"START\", \"study_hard\")\n",
    "g.add_edge(\"study_hard\", \"grad_school\")\n",
    "g.add_edge(\"study_hard\", \"start_a_business\")\n",
    "g.add_edge(\"start_a_business\", \"happy_life\")\n",
    "\n",
    "g.add_edge(\"grad_school\", \"fear_of_being_expelled\")\n",
    "g.add_edge(\"fear_of_being_expelled\", \"apply_for_funding\")\n",
    "g.add_edge(\"apply_for_funding\", \"work_hard\")\n",
    "g.add_edge(\"work_hard\", \"publish\")\n",
    "g.add_edge(\"publish\", \"out_of_funding\")\n",
    "g.add_edge(\"out_of_funding\", \"fear_of_being_expelled\")"
   ]
  },
  {
   "cell_type": "code",
   "execution_count": 24,
   "metadata": {
    "collapsed": false
   },
   "outputs": [
    {
     "data": {
      "image/png": "[encoded data removed]",
      "text/plain": [
       "<igraph.drawing.Plot at 0x7fbf7291fb10>"
      ]
     },
     "execution_count": 24,
     "metadata": {},
     "output_type": "execute_result"
    }
   ],
   "source": [
    "g.draw(root=\"START\")"
   ]
  },
  {
   "cell_type": "markdown",
   "metadata": {},
   "source": [
    "# DFS"
   ]
  },
  {
   "cell_type": "code",
   "execution_count": 92,
   "metadata": {
    "collapsed": true
   },
   "outputs": [],
   "source": [
    "def dfs(graph, start):\n",
    "    visited = {}\n",
    "    def recurse(node):\n",
    "        print(node)\n",
    "        for neighbor in graph.adj[node]:\n",
    "            if neighbor not in visited:\n",
    "                visited[neighbor] = True\n",
    "                recurse(neighbor)\n",
    "    recurse(start)"
   ]
  },
  {
   "cell_type": "code",
   "execution_count": 93,
   "metadata": {
    "collapsed": false
   },
   "outputs": [
    {
     "name": "stdout",
     "output_type": "stream",
     "text": [
      "START\n",
      "study_hard\n",
      "grad_school\n",
      "fear_of_being_expelled\n",
      "apply_for_funding\n",
      "work_hard\n",
      "publish\n",
      "out_of_funding\n",
      "start_a_business\n",
      "happy_life\n"
     ]
    }
   ],
   "source": [
    "dfs(g, \"START\")"
   ]
  },
  {
   "cell_type": "markdown",
   "metadata": {},
   "source": [
    "# Cycle detection"
   ]
  },
  {
   "cell_type": "code",
   "execution_count": 60,
   "metadata": {
    "collapsed": false
   },
   "outputs": [],
   "source": [
    "# now ancestors is a set of nodes on \"DFS tree\"\n",
    "# path from start node to current node. \n",
    "\n",
    "def ensure_no_cycle(graph, start):\n",
    "    visited = {}\n",
    "    ancestors = set()\n",
    "    \n",
    "    def recurse(node):\n",
    "        ancestors.add(node)\n",
    "        print(node)\n",
    "        for neighbor in graph.adj[node]:\n",
    "            if neighbor not in visited:\n",
    "                visited[neighbor] = True\n",
    "                recurse(neighbor)\n",
    "            elif neighbor in ancestors:\n",
    "                raise Exception(\"Cycle\")\n",
    "        ancestors.remove(node)\n",
    "    recurse(start)"
   ]
  },
  {
   "cell_type": "markdown",
   "metadata": {},
   "source": [
    "## Proof cycle detection works\n",
    "1. Back edge $\\Rightarrow$ cycle: trivial\n",
    "2. Cycle $\\Rightarrow$ backedge:\n",
    "\n",
    "Look at the first node discovered by DFS from that cycle $u$\n",
    "\n",
    "Let's consider a cycle $C$. Let $v$ be the first node on $C$ visited by DFS and $u$ we see on $C$ when we follow edges from $v$. We know that $u$ is descendant of $v$ in DFS tree, because of the fact that by assumption $u$ was not yet visited when we entered $v$ and there is a path from $v$ to $u$ (and DFS will always follow unexplored paths). Also edge $u \\rightarrow v$ cannot be a part of DFS tree, so it must be a back edge."
   ]
  },
  {
   "cell_type": "code",
   "execution_count": 61,
   "metadata": {
    "collapsed": false
   },
   "outputs": [
    {
     "name": "stdout",
     "output_type": "stream",
     "text": [
      "START\n",
      "study_hard\n",
      "grad_school\n",
      "fear_of_being_expelled\n",
      "apply_for_funding\n",
      "work_hard\n",
      "publish\n",
      "out_of_funding\n"
     ]
    },
    {
     "ename": "Exception",
     "evalue": "Cycle",
     "output_type": "error",
     "traceback": [
      "\u001b[1;31m---------------------------------------------------------------------------\u001b[0m",
      "\u001b[1;31mException\u001b[0m                                 Traceback (most recent call last)",
      "\u001b[1;32m<ipython-input-61-f0128eba7554>\u001b[0m in \u001b[0;36m<module>\u001b[1;34m()\u001b[0m\n\u001b[1;32m----> 1\u001b[1;33m \u001b[0mensure_no_cycle\u001b[0m\u001b[1;33m(\u001b[0m\u001b[0mg\u001b[0m\u001b[1;33m,\u001b[0m \u001b[1;34m\"START\"\u001b[0m\u001b[1;33m)\u001b[0m\u001b[1;33m\u001b[0m\u001b[0m\n\u001b[0m",
      "\u001b[1;32m<ipython-input-60-2d6fb18515cf>\u001b[0m in \u001b[0;36mensure_no_cycle\u001b[1;34m(graph, start)\u001b[0m\n\u001b[0;32m     17\u001b[0m         \u001b[0mancestors\u001b[0m\u001b[1;33m.\u001b[0m\u001b[0mremove\u001b[0m\u001b[1;33m(\u001b[0m\u001b[0mnode\u001b[0m\u001b[1;33m)\u001b[0m\u001b[1;33m\u001b[0m\u001b[0m\n\u001b[0;32m     18\u001b[0m \u001b[1;33m\u001b[0m\u001b[0m\n\u001b[1;32m---> 19\u001b[1;33m     \u001b[0mrecurse\u001b[0m\u001b[1;33m(\u001b[0m\u001b[0mstart\u001b[0m\u001b[1;33m)\u001b[0m\u001b[1;33m\u001b[0m\u001b[0m\n\u001b[0m",
      "\u001b[1;32m<ipython-input-60-2d6fb18515cf>\u001b[0m in \u001b[0;36mrecurse\u001b[1;34m(node)\u001b[0m\n\u001b[0;32m     12\u001b[0m             \u001b[1;32mif\u001b[0m \u001b[0mneighbor\u001b[0m \u001b[1;32mnot\u001b[0m \u001b[1;32min\u001b[0m \u001b[0mvisited\u001b[0m\u001b[1;33m:\u001b[0m\u001b[1;33m\u001b[0m\u001b[0m\n\u001b[0;32m     13\u001b[0m                 \u001b[0mvisited\u001b[0m\u001b[1;33m[\u001b[0m\u001b[0mneighbor\u001b[0m\u001b[1;33m]\u001b[0m \u001b[1;33m=\u001b[0m \u001b[0mTrue\u001b[0m\u001b[1;33m\u001b[0m\u001b[0m\n\u001b[1;32m---> 14\u001b[1;33m                 \u001b[0mrecurse\u001b[0m\u001b[1;33m(\u001b[0m\u001b[0mneighbor\u001b[0m\u001b[1;33m)\u001b[0m\u001b[1;33m\u001b[0m\u001b[0m\n\u001b[0m\u001b[0;32m     15\u001b[0m             \u001b[1;32melif\u001b[0m \u001b[0mneighbor\u001b[0m \u001b[1;32min\u001b[0m \u001b[0mancestors\u001b[0m\u001b[1;33m:\u001b[0m\u001b[1;33m\u001b[0m\u001b[0m\n\u001b[0;32m     16\u001b[0m                 \u001b[1;32mraise\u001b[0m \u001b[0mException\u001b[0m\u001b[1;33m(\u001b[0m\u001b[1;34m\"Cycle\"\u001b[0m\u001b[1;33m)\u001b[0m\u001b[1;33m\u001b[0m\u001b[0m\n",
      "\u001b[1;32m<ipython-input-60-2d6fb18515cf>\u001b[0m in \u001b[0;36mrecurse\u001b[1;34m(node)\u001b[0m\n\u001b[0;32m     12\u001b[0m             \u001b[1;32mif\u001b[0m \u001b[0mneighbor\u001b[0m \u001b[1;32mnot\u001b[0m \u001b[1;32min\u001b[0m \u001b[0mvisited\u001b[0m\u001b[1;33m:\u001b[0m\u001b[1;33m\u001b[0m\u001b[0m\n\u001b[0;32m     13\u001b[0m                 \u001b[0mvisited\u001b[0m\u001b[1;33m[\u001b[0m\u001b[0mneighbor\u001b[0m\u001b[1;33m]\u001b[0m \u001b[1;33m=\u001b[0m \u001b[0mTrue\u001b[0m\u001b[1;33m\u001b[0m\u001b[0m\n\u001b[1;32m---> 14\u001b[1;33m                 \u001b[0mrecurse\u001b[0m\u001b[1;33m(\u001b[0m\u001b[0mneighbor\u001b[0m\u001b[1;33m)\u001b[0m\u001b[1;33m\u001b[0m\u001b[0m\n\u001b[0m\u001b[0;32m     15\u001b[0m             \u001b[1;32melif\u001b[0m \u001b[0mneighbor\u001b[0m \u001b[1;32min\u001b[0m \u001b[0mancestors\u001b[0m\u001b[1;33m:\u001b[0m\u001b[1;33m\u001b[0m\u001b[0m\n\u001b[0;32m     16\u001b[0m                 \u001b[1;32mraise\u001b[0m \u001b[0mException\u001b[0m\u001b[1;33m(\u001b[0m\u001b[1;34m\"Cycle\"\u001b[0m\u001b[1;33m)\u001b[0m\u001b[1;33m\u001b[0m\u001b[0m\n",
      "\u001b[1;32m<ipython-input-60-2d6fb18515cf>\u001b[0m in \u001b[0;36mrecurse\u001b[1;34m(node)\u001b[0m\n\u001b[0;32m     12\u001b[0m             \u001b[1;32mif\u001b[0m \u001b[0mneighbor\u001b[0m \u001b[1;32mnot\u001b[0m \u001b[1;32min\u001b[0m \u001b[0mvisited\u001b[0m\u001b[1;33m:\u001b[0m\u001b[1;33m\u001b[0m\u001b[0m\n\u001b[0;32m     13\u001b[0m                 \u001b[0mvisited\u001b[0m\u001b[1;33m[\u001b[0m\u001b[0mneighbor\u001b[0m\u001b[1;33m]\u001b[0m \u001b[1;33m=\u001b[0m \u001b[0mTrue\u001b[0m\u001b[1;33m\u001b[0m\u001b[0m\n\u001b[1;32m---> 14\u001b[1;33m                 \u001b[0mrecurse\u001b[0m\u001b[1;33m(\u001b[0m\u001b[0mneighbor\u001b[0m\u001b[1;33m)\u001b[0m\u001b[1;33m\u001b[0m\u001b[0m\n\u001b[0m\u001b[0;32m     15\u001b[0m             \u001b[1;32melif\u001b[0m \u001b[0mneighbor\u001b[0m \u001b[1;32min\u001b[0m \u001b[0mancestors\u001b[0m\u001b[1;33m:\u001b[0m\u001b[1;33m\u001b[0m\u001b[0m\n\u001b[0;32m     16\u001b[0m                 \u001b[1;32mraise\u001b[0m \u001b[0mException\u001b[0m\u001b[1;33m(\u001b[0m\u001b[1;34m\"Cycle\"\u001b[0m\u001b[1;33m)\u001b[0m\u001b[1;33m\u001b[0m\u001b[0m\n",
      "\u001b[1;32m<ipython-input-60-2d6fb18515cf>\u001b[0m in \u001b[0;36mrecurse\u001b[1;34m(node)\u001b[0m\n\u001b[0;32m     12\u001b[0m             \u001b[1;32mif\u001b[0m \u001b[0mneighbor\u001b[0m \u001b[1;32mnot\u001b[0m \u001b[1;32min\u001b[0m \u001b[0mvisited\u001b[0m\u001b[1;33m:\u001b[0m\u001b[1;33m\u001b[0m\u001b[0m\n\u001b[0;32m     13\u001b[0m                 \u001b[0mvisited\u001b[0m\u001b[1;33m[\u001b[0m\u001b[0mneighbor\u001b[0m\u001b[1;33m]\u001b[0m \u001b[1;33m=\u001b[0m \u001b[0mTrue\u001b[0m\u001b[1;33m\u001b[0m\u001b[0m\n\u001b[1;32m---> 14\u001b[1;33m                 \u001b[0mrecurse\u001b[0m\u001b[1;33m(\u001b[0m\u001b[0mneighbor\u001b[0m\u001b[1;33m)\u001b[0m\u001b[1;33m\u001b[0m\u001b[0m\n\u001b[0m\u001b[0;32m     15\u001b[0m             \u001b[1;32melif\u001b[0m \u001b[0mneighbor\u001b[0m \u001b[1;32min\u001b[0m \u001b[0mancestors\u001b[0m\u001b[1;33m:\u001b[0m\u001b[1;33m\u001b[0m\u001b[0m\n\u001b[0;32m     16\u001b[0m                 \u001b[1;32mraise\u001b[0m \u001b[0mException\u001b[0m\u001b[1;33m(\u001b[0m\u001b[1;34m\"Cycle\"\u001b[0m\u001b[1;33m)\u001b[0m\u001b[1;33m\u001b[0m\u001b[0m\n",
      "\u001b[1;32m<ipython-input-60-2d6fb18515cf>\u001b[0m in \u001b[0;36mrecurse\u001b[1;34m(node)\u001b[0m\n\u001b[0;32m     12\u001b[0m             \u001b[1;32mif\u001b[0m \u001b[0mneighbor\u001b[0m \u001b[1;32mnot\u001b[0m \u001b[1;32min\u001b[0m \u001b[0mvisited\u001b[0m\u001b[1;33m:\u001b[0m\u001b[1;33m\u001b[0m\u001b[0m\n\u001b[0;32m     13\u001b[0m                 \u001b[0mvisited\u001b[0m\u001b[1;33m[\u001b[0m\u001b[0mneighbor\u001b[0m\u001b[1;33m]\u001b[0m \u001b[1;33m=\u001b[0m \u001b[0mTrue\u001b[0m\u001b[1;33m\u001b[0m\u001b[0m\n\u001b[1;32m---> 14\u001b[1;33m                 \u001b[0mrecurse\u001b[0m\u001b[1;33m(\u001b[0m\u001b[0mneighbor\u001b[0m\u001b[1;33m)\u001b[0m\u001b[1;33m\u001b[0m\u001b[0m\n\u001b[0m\u001b[0;32m     15\u001b[0m             \u001b[1;32melif\u001b[0m \u001b[0mneighbor\u001b[0m \u001b[1;32min\u001b[0m \u001b[0mancestors\u001b[0m\u001b[1;33m:\u001b[0m\u001b[1;33m\u001b[0m\u001b[0m\n\u001b[0;32m     16\u001b[0m                 \u001b[1;32mraise\u001b[0m \u001b[0mException\u001b[0m\u001b[1;33m(\u001b[0m\u001b[1;34m\"Cycle\"\u001b[0m\u001b[1;33m)\u001b[0m\u001b[1;33m\u001b[0m\u001b[0m\n",
      "\u001b[1;32m<ipython-input-60-2d6fb18515cf>\u001b[0m in \u001b[0;36mrecurse\u001b[1;34m(node)\u001b[0m\n\u001b[0;32m     12\u001b[0m             \u001b[1;32mif\u001b[0m \u001b[0mneighbor\u001b[0m \u001b[1;32mnot\u001b[0m \u001b[1;32min\u001b[0m \u001b[0mvisited\u001b[0m\u001b[1;33m:\u001b[0m\u001b[1;33m\u001b[0m\u001b[0m\n\u001b[0;32m     13\u001b[0m                 \u001b[0mvisited\u001b[0m\u001b[1;33m[\u001b[0m\u001b[0mneighbor\u001b[0m\u001b[1;33m]\u001b[0m \u001b[1;33m=\u001b[0m \u001b[0mTrue\u001b[0m\u001b[1;33m\u001b[0m\u001b[0m\n\u001b[1;32m---> 14\u001b[1;33m                 \u001b[0mrecurse\u001b[0m\u001b[1;33m(\u001b[0m\u001b[0mneighbor\u001b[0m\u001b[1;33m)\u001b[0m\u001b[1;33m\u001b[0m\u001b[0m\n\u001b[0m\u001b[0;32m     15\u001b[0m             \u001b[1;32melif\u001b[0m \u001b[0mneighbor\u001b[0m \u001b[1;32min\u001b[0m \u001b[0mancestors\u001b[0m\u001b[1;33m:\u001b[0m\u001b[1;33m\u001b[0m\u001b[0m\n\u001b[0;32m     16\u001b[0m                 \u001b[1;32mraise\u001b[0m \u001b[0mException\u001b[0m\u001b[1;33m(\u001b[0m\u001b[1;34m\"Cycle\"\u001b[0m\u001b[1;33m)\u001b[0m\u001b[1;33m\u001b[0m\u001b[0m\n",
      "\u001b[1;32m<ipython-input-60-2d6fb18515cf>\u001b[0m in \u001b[0;36mrecurse\u001b[1;34m(node)\u001b[0m\n\u001b[0;32m     12\u001b[0m             \u001b[1;32mif\u001b[0m \u001b[0mneighbor\u001b[0m \u001b[1;32mnot\u001b[0m \u001b[1;32min\u001b[0m \u001b[0mvisited\u001b[0m\u001b[1;33m:\u001b[0m\u001b[1;33m\u001b[0m\u001b[0m\n\u001b[0;32m     13\u001b[0m                 \u001b[0mvisited\u001b[0m\u001b[1;33m[\u001b[0m\u001b[0mneighbor\u001b[0m\u001b[1;33m]\u001b[0m \u001b[1;33m=\u001b[0m \u001b[0mTrue\u001b[0m\u001b[1;33m\u001b[0m\u001b[0m\n\u001b[1;32m---> 14\u001b[1;33m                 \u001b[0mrecurse\u001b[0m\u001b[1;33m(\u001b[0m\u001b[0mneighbor\u001b[0m\u001b[1;33m)\u001b[0m\u001b[1;33m\u001b[0m\u001b[0m\n\u001b[0m\u001b[0;32m     15\u001b[0m             \u001b[1;32melif\u001b[0m \u001b[0mneighbor\u001b[0m \u001b[1;32min\u001b[0m \u001b[0mancestors\u001b[0m\u001b[1;33m:\u001b[0m\u001b[1;33m\u001b[0m\u001b[0m\n\u001b[0;32m     16\u001b[0m                 \u001b[1;32mraise\u001b[0m \u001b[0mException\u001b[0m\u001b[1;33m(\u001b[0m\u001b[1;34m\"Cycle\"\u001b[0m\u001b[1;33m)\u001b[0m\u001b[1;33m\u001b[0m\u001b[0m\n",
      "\u001b[1;32m<ipython-input-60-2d6fb18515cf>\u001b[0m in \u001b[0;36mrecurse\u001b[1;34m(node)\u001b[0m\n\u001b[0;32m     14\u001b[0m                 \u001b[0mrecurse\u001b[0m\u001b[1;33m(\u001b[0m\u001b[0mneighbor\u001b[0m\u001b[1;33m)\u001b[0m\u001b[1;33m\u001b[0m\u001b[0m\n\u001b[0;32m     15\u001b[0m             \u001b[1;32melif\u001b[0m \u001b[0mneighbor\u001b[0m \u001b[1;32min\u001b[0m \u001b[0mancestors\u001b[0m\u001b[1;33m:\u001b[0m\u001b[1;33m\u001b[0m\u001b[0m\n\u001b[1;32m---> 16\u001b[1;33m                 \u001b[1;32mraise\u001b[0m \u001b[0mException\u001b[0m\u001b[1;33m(\u001b[0m\u001b[1;34m\"Cycle\"\u001b[0m\u001b[1;33m)\u001b[0m\u001b[1;33m\u001b[0m\u001b[0m\n\u001b[0m\u001b[0;32m     17\u001b[0m         \u001b[0mancestors\u001b[0m\u001b[1;33m.\u001b[0m\u001b[0mremove\u001b[0m\u001b[1;33m(\u001b[0m\u001b[0mnode\u001b[0m\u001b[1;33m)\u001b[0m\u001b[1;33m\u001b[0m\u001b[0m\n\u001b[0;32m     18\u001b[0m \u001b[1;33m\u001b[0m\u001b[0m\n",
      "\u001b[1;31mException\u001b[0m: Cycle"
     ]
    }
   ],
   "source": [
    "ensure_no_cycle(g, \"START\")"
   ]
  },
  {
   "cell_type": "code",
   "execution_count": 79,
   "metadata": {
    "collapsed": true
   },
   "outputs": [],
   "source": [
    "def recover_cycle(graph, start):\n",
    "    visited = {}\n",
    "    ancestors = set()\n",
    "    path = deque()\n",
    "    cycle_end = [None]\n",
    "    \n",
    "    def recurse(node):\n",
    "        ancestors.add(node)\n",
    "        path.append(node)\n",
    "        for neighbor in graph.adj[node]:\n",
    "            if neighbor not in visited:\n",
    "                visited[neighbor] = True\n",
    "                recurse(neighbor)\n",
    "            elif neighbor in ancestors:\n",
    "                cycle_end[0] = neighbor\n",
    "                raise Exception(\"Cycle\")\n",
    "        path.pop(node)\n",
    "        ancestors.pop(node)\n",
    "    try:\n",
    "        recurse(start)\n",
    "    except:\n",
    "        while path[0] != cycle_end[0]:\n",
    "            path.popleft()\n",
    "        return path"
   ]
  },
  {
   "cell_type": "code",
   "execution_count": 78,
   "metadata": {
    "collapsed": false
   },
   "outputs": [
    {
     "data": {
      "text/plain": [
       "deque(['fear_of_being_expelled',\n",
       "       'apply_for_funding',\n",
       "       'work_hard',\n",
       "       'publish',\n",
       "       'out_of_funding'])"
      ]
     },
     "execution_count": 78,
     "metadata": {},
     "output_type": "execute_result"
    }
   ],
   "source": [
    "recover_cycle(g, \"START\")"
   ]
  },
  {
   "cell_type": "markdown",
   "metadata": {},
   "source": [
    "# BFS and DFS are close cousins really."
   ]
  },
  {
   "cell_type": "code",
   "execution_count": 86,
   "metadata": {
    "collapsed": true
   },
   "outputs": [],
   "source": [
    "def bfs_from(graph, source):\n",
    "    q = deque()\n",
    "    # initially source is on the queue\n",
    "    distance = {source: 0}\n",
    "    q.appendleft(source)\n",
    "    # while queue is not empty\n",
    "    while len(q) > 0:\n",
    "        # consider the node that has been in the queue for\n",
    "        # the longest\n",
    "        node = q.popleft()\n",
    "        # for all neighbours\n",
    "        for neighbour in graph.adj[node]:\n",
    "            # if they were NOT visted yet\n",
    "            if neighbour not in distance:\n",
    "                # mark their distance and put them on queue\n",
    "                distance[neighbour] = distance[node] + 1\n",
    "                q.append(neighbour)\n",
    "    return distance"
   ]
  },
  {
   "cell_type": "code",
   "execution_count": 95,
   "metadata": {
    "collapsed": true
   },
   "outputs": [],
   "source": [
    "def bfs_from(graph, source):\n",
    "    q = deque()\n",
    "    distance = {source: 0}\n",
    "    q.appendleft(source)\n",
    "    while len(q) > 0:\n",
    "        node = q.popleft()\n",
    "        print(node)\n",
    "        for neighbour in graph.adj[node]:\n",
    "            if neighbour not in distance:\n",
    "                distance[neighbour] = distance[node] + 1\n",
    "                q.append(neighbour)\n",
    "    return distance\n",
    "\n",
    "def dfs_from(graph, source):\n",
    "    q = deque()\n",
    "    distance = {source: 0}\n",
    "    q.appendleft(source)\n",
    "    while len(q) > 0:\n",
    "        node = q.pop()   # only change!\n",
    "        print(node)\n",
    "        for neighbour in reversed(graph.adj[node]): # ok fine\n",
    "            if neighbour not in distance:\n",
    "                distance[neighbour] = distance[node] + 1\n",
    "                q.append(neighbour)\n",
    "    return distance"
   ]
  },
  {
   "cell_type": "code",
   "execution_count": 100,
   "metadata": {
    "collapsed": false
   },
   "outputs": [
    {
     "data": {
      "image/png": "[encoded data removed]",
      "text/plain": [
       "<igraph.drawing.Plot at 0x7fbf581ffa90>"
      ]
     },
     "execution_count": 100,
     "metadata": {},
     "output_type": "execute_result"
    }
   ],
   "source": [
    "g.draw(root=\"START\")"
   ]
  },
  {
   "cell_type": "code",
   "execution_count": 98,
   "metadata": {
    "collapsed": false
   },
   "outputs": [
    {
     "name": "stdout",
     "output_type": "stream",
     "text": [
      "START\n",
      "study_hard\n",
      "grad_school\n",
      "start_a_business\n",
      "fear_of_being_expelled\n",
      "happy_life\n",
      "apply_for_funding\n",
      "work_hard\n",
      "publish\n",
      "out_of_funding\n"
     ]
    }
   ],
   "source": [
    "_ = bfs_from(g, \"START\") # iterative DFS"
   ]
  },
  {
   "cell_type": "code",
   "execution_count": 96,
   "metadata": {
    "collapsed": false
   },
   "outputs": [
    {
     "name": "stdout",
     "output_type": "stream",
     "text": [
      "START\n",
      "study_hard\n",
      "grad_school\n",
      "fear_of_being_expelled\n",
      "apply_for_funding\n",
      "work_hard\n",
      "publish\n",
      "out_of_funding\n",
      "start_a_business\n",
      "happy_life\n"
     ]
    }
   ],
   "source": [
    "_ = dfs_from(g, \"START\") # iterative DFS"
   ]
  },
  {
   "cell_type": "code",
   "execution_count": 97,
   "metadata": {
    "collapsed": false
   },
   "outputs": [
    {
     "name": "stdout",
     "output_type": "stream",
     "text": [
      "START\n",
      "study_hard\n",
      "grad_school\n",
      "fear_of_being_expelled\n",
      "apply_for_funding\n",
      "work_hard\n",
      "publish\n",
      "out_of_funding\n",
      "start_a_business\n",
      "happy_life\n"
     ]
    }
   ],
   "source": [
    "dfs(g, \"START\")"
   ]
  },
  {
   "cell_type": "markdown",
   "metadata": {},
   "source": [
    "# Topological sort"
   ]
  },
  {
   "cell_type": "code",
   "execution_count": 108,
   "metadata": {
    "collapsed": true
   },
   "outputs": [],
   "source": [
    "g = Graph()\n",
    "g.add_edge(\"intersections.cpp\", \"geometry.o\")\n",
    "g.add_edge(\"triangles.cpp\", \"geometry.o\")\n",
    "g.add_edge(\"utils.cpp\", \"geometry.o\")\n",
    "\n",
    "g.add_edge(\"utils.cpp\", \"random.o\")\n",
    "\n",
    "g.add_edge(\"neural_network.cpp\", \"ai.o\")\n",
    "g.add_edge(\"behavioral_model.cpp\", \"ai.o\")\n",
    "g.add_edge(\"utils.cpp\", \"ai.o\")\n",
    "g.add_edge(\"random.o\", \"ai.o\")\n",
    "\n",
    "g.add_edge(\"geometry.o\", \"game.o\")\n",
    "g.add_edge(\"ai.o\", \"game.o\")\n",
    "\n",
    "g.add_edge(\"queue_server.cpp\", \"queue_server.o\")"
   ]
  },
  {
   "cell_type": "code",
   "execution_count": 109,
   "metadata": {
    "collapsed": false
   },
   "outputs": [
    {
     "data": {
      "image/png": "[encoded data removed]",
      "text/plain": [
       "<igraph.drawing.Plot at 0x7fbf581ff850>"
      ]
     },
     "execution_count": 109,
     "metadata": {},
     "output_type": "execute_result"
    }
   ],
   "source": [
    "g.draw(root=\"\")"
   ]
  },
  {
   "cell_type": "code",
   "execution_count": 138,
   "metadata": {
    "collapsed": true
   },
   "outputs": [],
   "source": [
    "def topological_sort(graph):\n",
    "    visited = {}\n",
    "    result = []\n",
    "    def recurse(node):\n",
    "        for neighbor in graph.adj[node]:\n",
    "            if neighbor not in visited:\n",
    "                visited[neighbor] = True\n",
    "                recurse(neighbor)\n",
    "        result.append(node)\n",
    "    \n",
    "    for potential_start in graph.nodes:\n",
    "        if potential_start not in visited:\n",
    "            visited[potential_start] = True\n",
    "            recurse(potential_start)\n",
    "    return list(reversed(result))"
   ]
  },
  {
   "cell_type": "code",
   "execution_count": 139,
   "metadata": {
    "collapsed": false
   },
   "outputs": [
    {
     "data": {
      "text/plain": [
       "['triangles.cpp',\n",
       " 'behavioral_model.cpp',\n",
       " 'neural_network.cpp',\n",
       " 'utils.cpp',\n",
       " 'random.o',\n",
       " 'ai.o',\n",
       " 'intersections.cpp',\n",
       " 'geometry.o',\n",
       " 'game.o',\n",
       " 'queue_server.cpp',\n",
       " 'queue_server.o']"
      ]
     },
     "execution_count": 139,
     "metadata": {},
     "output_type": "execute_result"
    }
   ],
   "source": [
    "topological_sort(g)"
   ]
  },
  {
   "cell_type": "code",
   "execution_count": 130,
   "metadata": {
    "collapsed": true
   },
   "outputs": [],
   "source": [
    "def topological_nondfs(graph):\n",
    "    indegree = {node:0 for node in graph.nodes}\n",
    "    \n",
    "    for node in graph.nodes:\n",
    "        for neighbor in graph.adj[node]:\n",
    "            indegree[neighbor] += 1\n",
    "    \n",
    "    enabled = [node for node in graph.nodes\n",
    "                    if indegree[node] == 0]\n",
    "    result = []\n",
    "    while len(enabled) > 0:\n",
    "        node = enabled.pop()\n",
    "        result.append(node)\n",
    "        for neighbor in graph.adj[node]:\n",
    "            indegree[neighbor] -= 1\n",
    "            if indegree[neighbor] == 0:\n",
    "                enabled.append(neighbor)\n",
    "   \n",
    "    return result"
   ]
  },
  {
   "cell_type": "code",
   "execution_count": 131,
   "metadata": {
    "collapsed": false
   },
   "outputs": [
    {
     "data": {
      "text/plain": [
       "['triangles.cpp',\n",
       " 'behavioral_model.cpp',\n",
       " 'neural_network.cpp',\n",
       " 'utils.cpp',\n",
       " 'random.o',\n",
       " 'ai.o',\n",
       " 'intersections.cpp',\n",
       " 'geometry.o',\n",
       " 'game.o',\n",
       " 'queue_server.cpp',\n",
       " 'queue_server.o']"
      ]
     },
     "execution_count": 131,
     "metadata": {},
     "output_type": "execute_result"
    }
   ],
   "source": [
    "topological_nondfs(g)"
   ]
  },
  {
   "cell_type": "code",
   "execution_count": null,
   "metadata": {
    "collapsed": true
   },
   "outputs": [],
   "source": []
  }
 ],
 "metadata": {
  "kernelspec": {
   "display_name": "Python 2",
   "language": "python",
   "name": "python2"
  },
  "language_info": {
   "codemirror_mode": {
    "name": "ipython",
    "version": 2
   },
   "file_extension": ".py",
   "mimetype": "text/x-python",
   "name": "python",
   "nbconvert_exporter": "python",
   "pygments_lexer": "ipython2",
   "version": "2.7.8"
  }
 },
 "nbformat": 4,
 "nbformat_minor": 0
}
