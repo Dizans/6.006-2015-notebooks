{
 "cells": [
  {
   "cell_type": "markdown",
   "metadata": {},
   "source": [
    "# Document distance\n",
    "\n",
    "In this section, we analyze an algorithm for calculating the distance between two documents\n",
    "in terms of the angle between them. In other words, we try to see how much overlap these\n",
    "documents have in terms of their constituent words with no regard to their order. For exam-\n",
    "ple, `[\"Steve\",\"is\",\"pretty\",\"cool\"]` is quite close to `[\"Steve\",\"is\",\"pretty\",\"awesome\"]` but an exact\n",
    "match for `[\"is\",\"steve\",\"pretty\",\"cool\"]`. This algorithm has applications in search engines, where\n",
    "we match documents based on the document distance between a query and a stored document.\n",
    "In this section we walk through the algorithm line-by-line. See the \"Document Distance\"\n",
    "handout for a full description of the algorithm and iterative improvements we make on it. The\n",
    "improvements lead to the following. Note that $O(L)$ denotes time linear in the length of an array\n",
    "$L$."
   ]
  },
  {
   "cell_type": "code",
   "execution_count": 1,
   "metadata": {
    "collapsed": true
   },
   "outputs": [],
   "source": [
    "import math\n",
    "import string\n",
    "import sys\n",
    "import cProfile"
   ]
  },
  {
   "cell_type": "code",
   "execution_count": 2,
   "metadata": {
    "collapsed": false
   },
   "outputs": [],
   "source": [
    "with open(\"book1.txt\") as f:\n",
    "    document1 = f.read()\n",
    "with open(\"book2.txt\") as f:\n",
    "    document2 = f.read()"
   ]
  },
  {
   "cell_type": "code",
   "execution_count": 3,
   "metadata": {
    "collapsed": false
   },
   "outputs": [],
   "source": [
    "def read_file(filename):\n",
    "    \"\"\" \n",
    "    Read the text file with the given filename;\n",
    "    return a list of the lines of text in the file.\n",
    "    \"\"\"\n",
    "    try:\n",
    "        f = open(filename, 'r')\n",
    "        return f.readlines()\n",
    "    except IOError:\n",
    "        print \"Error opening or reading input file: \",filename\n",
    "        sys.exit()\n",
    "\n",
    "def get_words_from_line_list(L):\n",
    "    \"\"\"\n",
    "    Parse the given list L of text lines into words.\n",
    "    Return list of all words found.\n",
    "    \"\"\"\n",
    "\n",
    "    word_list = []\n",
    "    for line in L:\n",
    "        words_in_line = get_words_from_string(line)\n",
    "        word_list = word_list + words_in_line\n",
    "    return word_list\n",
    "\n",
    "def get_words_from_string(line):\n",
    "    \"\"\"\n",
    "    Return a list of the words in the given input string,\n",
    "    converting each word to lower-case.\n",
    "\n",
    "    Input:  line (a string)\n",
    "    Output: a list of strings \n",
    "              (each string is a sequence of alphanumeric characters)\n",
    "    \"\"\"\n",
    "    word_list = []          # accumulates words in line\n",
    "    character_list = []     # accumulates characters in word\n",
    "    for c in line:\n",
    "        if c.isalnum():\n",
    "            character_list.append(c)\n",
    "        elif len(character_list)>0:\n",
    "            word = \"\".join(character_list)\n",
    "            word = word.lower()\n",
    "            word_list.append(word)\n",
    "            character_list = []\n",
    "    if len(character_list)>0:\n",
    "        word = \"\".join(character_list)\n",
    "        word = word.lower()\n",
    "        word_list.append(word)\n",
    "    return word_list\n",
    "\n",
    "def count_frequency(word_list):\n",
    "    \"\"\"\n",
    "    Return a list giving pairs of form: (word,frequency)\n",
    "    \"\"\"\n",
    "    L = []\n",
    "    for new_word in word_list:\n",
    "        for entry in L:\n",
    "            if new_word == entry[0]:\n",
    "                entry[1] = entry[1] + 1\n",
    "                break\n",
    "        else:\n",
    "            L.append([new_word,1])\n",
    "    return L\n",
    "    \n",
    "def word_frequencies_for_file(filename):\n",
    "    \"\"\"\n",
    "    Return alphabetically sorted list of (word,frequency) pairs \n",
    "    for the given file.\n",
    "    \"\"\"\n",
    "    line_list = read_file(filename)\n",
    "    word_list = get_words_from_line_list(line_list)\n",
    "    freq_mapping = count_frequency(word_list)\n",
    "    return freq_mapping\n",
    "\n",
    "def inner_product(L1,L2):\n",
    "    \"\"\"\n",
    "    Inner product between two vectors, where vectors\n",
    "    are represented as lists of (word,freq) pairs.\n",
    "\n",
    "    Example: inner_product([[\"and\",3],[\"of\",2],[\"the\",5]],\n",
    "                           [[\"and\",4],[\"in\",1],[\"of\",1],[\"this\",2]]) = 14.0 \n",
    "    \"\"\"\n",
    "    sum = 0.0\n",
    "    for word1, count1 in L1:\n",
    "        for word2, count2 in L2:\n",
    "            if word1 == word2:\n",
    "                sum += count1 * count2\n",
    "    return sum\n",
    "\n",
    "def vector_angle(L1,L2):\n",
    "    \"\"\"\n",
    "    The input is a list of (word,freq) pairs, sorted alphabetically.\n",
    "\n",
    "    Return the angle between these two vectors.\n",
    "    \"\"\"\n",
    "    numerator = inner_product(L1,L2)\n",
    "    denominator = math.sqrt(inner_product(L1,L1)*inner_product(L2,L2))\n",
    "    return math.acos(numerator/denominator)"
   ]
  },
  {
   "cell_type": "code",
   "execution_count": 4,
   "metadata": {
    "collapsed": true
   },
   "outputs": [],
   "source": [
    "def document_distance(d1, d2):\n",
    "    sorted_word_list_1 = word_frequencies_for_file(d1)\n",
    "    \n",
    "    sorted_word_list_2 = word_frequencies_for_file(d2)\n",
    "    distance = vector_angle(sorted_word_list_1,sorted_word_list_2)\n",
    "    return distance\n"
   ]
  },
  {
   "cell_type": "code",
   "execution_count": 5,
   "metadata": {
    "collapsed": false
   },
   "outputs": [
    {
     "ename": "KeyboardInterrupt",
     "evalue": "",
     "output_type": "error",
     "traceback": [
      "\u001b[1;31m---------------------------------------------------------------------------\u001b[0m",
      "\u001b[1;31mKeyboardInterrupt\u001b[0m                         Traceback (most recent call last)",
      "\u001b[1;32m<ipython-input-5-229c2733c718>\u001b[0m in \u001b[0;36m<module>\u001b[1;34m()\u001b[0m\n\u001b[1;32m----> 1\u001b[1;33m \u001b[0mdistance\u001b[0m \u001b[1;33m=\u001b[0m \u001b[0mdocument_distance\u001b[0m\u001b[1;33m(\u001b[0m\u001b[1;34m\"book1.txt\"\u001b[0m\u001b[1;33m,\u001b[0m \u001b[1;34m\"book2.txt\"\u001b[0m\u001b[1;33m)\u001b[0m\u001b[1;33m\u001b[0m\u001b[0m\n\u001b[0m\u001b[0;32m      2\u001b[0m \u001b[1;32mprint\u001b[0m \u001b[1;34m\"The distance between the documents is: %0.6f (radians)\"\u001b[0m\u001b[1;33m%\u001b[0m \u001b[0mdistance\u001b[0m\u001b[1;33m\u001b[0m\u001b[0m\n",
      "\u001b[1;32m<ipython-input-4-e8249b2cd580>\u001b[0m in \u001b[0;36mdocument_distance\u001b[1;34m(d1, d2)\u001b[0m\n\u001b[0;32m      1\u001b[0m \u001b[1;32mdef\u001b[0m \u001b[0mdocument_distance\u001b[0m\u001b[1;33m(\u001b[0m\u001b[0md1\u001b[0m\u001b[1;33m,\u001b[0m \u001b[0md2\u001b[0m\u001b[1;33m)\u001b[0m\u001b[1;33m:\u001b[0m\u001b[1;33m\u001b[0m\u001b[0m\n\u001b[1;32m----> 2\u001b[1;33m     \u001b[0msorted_word_list_1\u001b[0m \u001b[1;33m=\u001b[0m \u001b[0mword_frequencies_for_file\u001b[0m\u001b[1;33m(\u001b[0m\u001b[0md1\u001b[0m\u001b[1;33m)\u001b[0m\u001b[1;33m\u001b[0m\u001b[0m\n\u001b[0m\u001b[0;32m      3\u001b[0m \u001b[1;33m\u001b[0m\u001b[0m\n\u001b[0;32m      4\u001b[0m     \u001b[0msorted_word_list_2\u001b[0m \u001b[1;33m=\u001b[0m \u001b[0mword_frequencies_for_file\u001b[0m\u001b[1;33m(\u001b[0m\u001b[0md2\u001b[0m\u001b[1;33m)\u001b[0m\u001b[1;33m\u001b[0m\u001b[0m\n\u001b[0;32m      5\u001b[0m     \u001b[0mdistance\u001b[0m \u001b[1;33m=\u001b[0m \u001b[0mvector_angle\u001b[0m\u001b[1;33m(\u001b[0m\u001b[0msorted_word_list_1\u001b[0m\u001b[1;33m,\u001b[0m\u001b[0msorted_word_list_2\u001b[0m\u001b[1;33m)\u001b[0m\u001b[1;33m\u001b[0m\u001b[0m\n",
      "\u001b[1;32m<ipython-input-3-5fa6de42b2ce>\u001b[0m in \u001b[0;36mword_frequencies_for_file\u001b[1;34m(filename)\u001b[0m\n\u001b[0;32m     68\u001b[0m     \"\"\"\n\u001b[0;32m     69\u001b[0m     \u001b[0mline_list\u001b[0m \u001b[1;33m=\u001b[0m \u001b[0mread_file\u001b[0m\u001b[1;33m(\u001b[0m\u001b[0mfilename\u001b[0m\u001b[1;33m)\u001b[0m\u001b[1;33m\u001b[0m\u001b[0m\n\u001b[1;32m---> 70\u001b[1;33m     \u001b[0mword_list\u001b[0m \u001b[1;33m=\u001b[0m \u001b[0mget_words_from_line_list\u001b[0m\u001b[1;33m(\u001b[0m\u001b[0mline_list\u001b[0m\u001b[1;33m)\u001b[0m\u001b[1;33m\u001b[0m\u001b[0m\n\u001b[0m\u001b[0;32m     71\u001b[0m     \u001b[0mfreq_mapping\u001b[0m \u001b[1;33m=\u001b[0m \u001b[0mcount_frequency\u001b[0m\u001b[1;33m(\u001b[0m\u001b[0mword_list\u001b[0m\u001b[1;33m)\u001b[0m\u001b[1;33m\u001b[0m\u001b[0m\n\u001b[0;32m     72\u001b[0m     \u001b[1;32mreturn\u001b[0m \u001b[0mfreq_mapping\u001b[0m\u001b[1;33m\u001b[0m\u001b[0m\n",
      "\u001b[1;32m<ipython-input-3-5fa6de42b2ce>\u001b[0m in \u001b[0;36mget_words_from_line_list\u001b[1;34m(L)\u001b[0m\n\u001b[0;32m     20\u001b[0m     \u001b[1;32mfor\u001b[0m \u001b[0mline\u001b[0m \u001b[1;32min\u001b[0m \u001b[0mL\u001b[0m\u001b[1;33m:\u001b[0m\u001b[1;33m\u001b[0m\u001b[0m\n\u001b[0;32m     21\u001b[0m         \u001b[0mwords_in_line\u001b[0m \u001b[1;33m=\u001b[0m \u001b[0mget_words_from_string\u001b[0m\u001b[1;33m(\u001b[0m\u001b[0mline\u001b[0m\u001b[1;33m)\u001b[0m\u001b[1;33m\u001b[0m\u001b[0m\n\u001b[1;32m---> 22\u001b[1;33m         \u001b[0mword_list\u001b[0m \u001b[1;33m=\u001b[0m \u001b[0mword_list\u001b[0m \u001b[1;33m+\u001b[0m \u001b[0mwords_in_line\u001b[0m\u001b[1;33m\u001b[0m\u001b[0m\n\u001b[0m\u001b[0;32m     23\u001b[0m     \u001b[1;32mreturn\u001b[0m \u001b[0mword_list\u001b[0m\u001b[1;33m\u001b[0m\u001b[0m\n\u001b[0;32m     24\u001b[0m \u001b[1;33m\u001b[0m\u001b[0m\n",
      "\u001b[1;31mKeyboardInterrupt\u001b[0m: "
     ]
    }
   ],
   "source": [
    "distance = document_distance(\"book1.txt\", \"book2.txt\")\n",
    "print \"The distance between the documents is: %0.6f (radians)\"% distance"
   ]
  },
  {
   "cell_type": "code",
   "execution_count": 10,
   "metadata": {
    "collapsed": false
   },
   "outputs": [
    {
     "ename": "KeyboardInterrupt",
     "evalue": "",
     "output_type": "error",
     "traceback": [
      "\u001b[1;31m---------------------------------------------------------------------------\u001b[0m",
      "\u001b[1;31mKeyboardInterrupt\u001b[0m                         Traceback (most recent call last)",
      "\u001b[1;32m<ipython-input-10-2e1697c4dfe3>\u001b[0m in \u001b[0;36m<module>\u001b[1;34m()\u001b[0m\n\u001b[1;32m----> 1\u001b[1;33m \u001b[0mdistance\u001b[0m \u001b[1;33m=\u001b[0m \u001b[0mdocument_distance\u001b[0m\u001b[1;33m(\u001b[0m\u001b[1;34m\"book1_small.txt\"\u001b[0m\u001b[1;33m,\u001b[0m \u001b[1;34m\"book2_small.txt\"\u001b[0m\u001b[1;33m)\u001b[0m\u001b[1;33m\u001b[0m\u001b[0m\n\u001b[0m\u001b[0;32m      2\u001b[0m \u001b[1;32mprint\u001b[0m \u001b[1;34m\"The distance between the documents is: %0.6f (radians)\"\u001b[0m\u001b[1;33m%\u001b[0m \u001b[0mdistance\u001b[0m\u001b[1;33m\u001b[0m\u001b[0m\n",
      "\u001b[1;32m<ipython-input-4-e8249b2cd580>\u001b[0m in \u001b[0;36mdocument_distance\u001b[1;34m(d1, d2)\u001b[0m\n\u001b[0;32m      1\u001b[0m \u001b[1;32mdef\u001b[0m \u001b[0mdocument_distance\u001b[0m\u001b[1;33m(\u001b[0m\u001b[0md1\u001b[0m\u001b[1;33m,\u001b[0m \u001b[0md2\u001b[0m\u001b[1;33m)\u001b[0m\u001b[1;33m:\u001b[0m\u001b[1;33m\u001b[0m\u001b[0m\n\u001b[1;32m----> 2\u001b[1;33m     \u001b[0msorted_word_list_1\u001b[0m \u001b[1;33m=\u001b[0m \u001b[0mword_frequencies_for_file\u001b[0m\u001b[1;33m(\u001b[0m\u001b[0md1\u001b[0m\u001b[1;33m)\u001b[0m\u001b[1;33m\u001b[0m\u001b[0m\n\u001b[0m\u001b[0;32m      3\u001b[0m \u001b[1;33m\u001b[0m\u001b[0m\n\u001b[0;32m      4\u001b[0m     \u001b[0msorted_word_list_2\u001b[0m \u001b[1;33m=\u001b[0m \u001b[0mword_frequencies_for_file\u001b[0m\u001b[1;33m(\u001b[0m\u001b[0md2\u001b[0m\u001b[1;33m)\u001b[0m\u001b[1;33m\u001b[0m\u001b[0m\n\u001b[0;32m      5\u001b[0m     \u001b[0mdistance\u001b[0m \u001b[1;33m=\u001b[0m \u001b[0mvector_angle\u001b[0m\u001b[1;33m(\u001b[0m\u001b[0msorted_word_list_1\u001b[0m\u001b[1;33m,\u001b[0m\u001b[0msorted_word_list_2\u001b[0m\u001b[1;33m)\u001b[0m\u001b[1;33m\u001b[0m\u001b[0m\n",
      "\u001b[1;32m<ipython-input-3-5fa6de42b2ce>\u001b[0m in \u001b[0;36mword_frequencies_for_file\u001b[1;34m(filename)\u001b[0m\n\u001b[0;32m     68\u001b[0m     \"\"\"\n\u001b[0;32m     69\u001b[0m     \u001b[0mline_list\u001b[0m \u001b[1;33m=\u001b[0m \u001b[0mread_file\u001b[0m\u001b[1;33m(\u001b[0m\u001b[0mfilename\u001b[0m\u001b[1;33m)\u001b[0m\u001b[1;33m\u001b[0m\u001b[0m\n\u001b[1;32m---> 70\u001b[1;33m     \u001b[0mword_list\u001b[0m \u001b[1;33m=\u001b[0m \u001b[0mget_words_from_line_list\u001b[0m\u001b[1;33m(\u001b[0m\u001b[0mline_list\u001b[0m\u001b[1;33m)\u001b[0m\u001b[1;33m\u001b[0m\u001b[0m\n\u001b[0m\u001b[0;32m     71\u001b[0m     \u001b[0mfreq_mapping\u001b[0m \u001b[1;33m=\u001b[0m \u001b[0mcount_frequency\u001b[0m\u001b[1;33m(\u001b[0m\u001b[0mword_list\u001b[0m\u001b[1;33m)\u001b[0m\u001b[1;33m\u001b[0m\u001b[0m\n\u001b[0;32m     72\u001b[0m     \u001b[1;32mreturn\u001b[0m \u001b[0mfreq_mapping\u001b[0m\u001b[1;33m\u001b[0m\u001b[0m\n",
      "\u001b[1;32m<ipython-input-3-5fa6de42b2ce>\u001b[0m in \u001b[0;36mget_words_from_line_list\u001b[1;34m(L)\u001b[0m\n\u001b[0;32m     20\u001b[0m     \u001b[1;32mfor\u001b[0m \u001b[0mline\u001b[0m \u001b[1;32min\u001b[0m \u001b[0mL\u001b[0m\u001b[1;33m:\u001b[0m\u001b[1;33m\u001b[0m\u001b[0m\n\u001b[0;32m     21\u001b[0m         \u001b[0mwords_in_line\u001b[0m \u001b[1;33m=\u001b[0m \u001b[0mget_words_from_string\u001b[0m\u001b[1;33m(\u001b[0m\u001b[0mline\u001b[0m\u001b[1;33m)\u001b[0m\u001b[1;33m\u001b[0m\u001b[0m\n\u001b[1;32m---> 22\u001b[1;33m         \u001b[0mword_list\u001b[0m \u001b[1;33m=\u001b[0m \u001b[0mword_list\u001b[0m \u001b[1;33m+\u001b[0m \u001b[0mwords_in_line\u001b[0m\u001b[1;33m\u001b[0m\u001b[0m\n\u001b[0m\u001b[0;32m     23\u001b[0m     \u001b[1;32mreturn\u001b[0m \u001b[0mword_list\u001b[0m\u001b[1;33m\u001b[0m\u001b[0m\n\u001b[0;32m     24\u001b[0m \u001b[1;33m\u001b[0m\u001b[0m\n",
      "\u001b[1;31mKeyboardInterrupt\u001b[0m: "
     ]
    }
   ],
   "source": [
    "distance = document_distance(\"book1_small.txt\", \"book2_small.txt\")\n",
    "print \"The distance between the documents is: %0.6f (radians)\"% distance"
   ]
  },
  {
   "cell_type": "code",
   "execution_count": 8,
   "metadata": {
    "collapsed": false
   },
   "outputs": [
    {
     "name": "stdout",
     "output_type": "stream",
     "text": [
      "The distance between the documents is: 0.667024 (radians)\n"
     ]
    }
   ],
   "source": [
    "distance = document_distance(\"book1_tiny.txt\", \"book2_tiny.txt\")\n",
    "print \"The distance between the documents is: %0.6f (radians)\"% distance"
   ]
  },
  {
   "cell_type": "code",
   "execution_count": 9,
   "metadata": {
    "collapsed": false
   },
   "outputs": [
    {
     "name": "stdout",
     "output_type": "stream",
     "text": [
      "         42760 function calls in 0.193 seconds\n",
      "\n",
      "   Ordered by: standard name\n",
      "\n",
      "   ncalls  tottime  percall  cumtime  percall filename:lineno(function)\n",
      "        2    0.000    0.000    0.000    0.000 <ipython-input-3-5fa6de42b2ce>:1(read_file)\n",
      "        2    0.001    0.001    0.024    0.012 <ipython-input-3-5fa6de42b2ce>:13(get_words_from_line_list)\n",
      "      200    0.016    0.000    0.023    0.000 <ipython-input-3-5fa6de42b2ce>:25(get_words_from_string)\n",
      "        2    0.066    0.033    0.066    0.033 <ipython-input-3-5fa6de42b2ce>:50(count_frequency)\n",
      "        2    0.000    0.000    0.090    0.045 <ipython-input-3-5fa6de42b2ce>:64(word_frequencies_for_file)\n",
      "        3    0.102    0.034    0.102    0.034 <ipython-input-3-5fa6de42b2ce>:74(inner_product)\n",
      "        1    0.000    0.000    0.102    0.102 <ipython-input-3-5fa6de42b2ce>:89(vector_angle)\n",
      "        1    0.000    0.000    0.193    0.193 <ipython-input-4-e8249b2cd580>:1(document_distance)\n",
      "        1    0.000    0.000    0.193    0.193 <string>:1(<module>)\n",
      "     3965    0.001    0.000    0.001    0.000 {len}\n",
      "        1    0.000    0.000    0.000    0.000 {math.acos}\n",
      "        1    0.000    0.000    0.000    0.000 {math.sqrt}\n",
      "    16663    0.002    0.000    0.002    0.000 {method 'append' of 'list' objects}\n",
      "        1    0.000    0.000    0.000    0.000 {method 'disable' of '_lsprof.Profiler' objects}\n",
      "    16471    0.002    0.000    0.002    0.000 {method 'isalnum' of 'str' objects}\n",
      "     2720    0.001    0.000    0.001    0.000 {method 'join' of 'str' objects}\n",
      "     2720    0.001    0.000    0.001    0.000 {method 'lower' of 'str' objects}\n",
      "        2    0.000    0.000    0.000    0.000 {method 'readlines' of 'file' objects}\n",
      "        2    0.000    0.000    0.000    0.000 {open}\n",
      "\n",
      "\n"
     ]
    }
   ],
   "source": [
    "cProfile.run('document_distance(\"book1_tiny.txt\", \"book2_tiny.txt\")')"
   ]
  },
  {
   "cell_type": "markdown",
   "metadata": {},
   "source": [
    "## Optimization 1: remove list concatenation"
   ]
  },
  {
   "cell_type": "code",
   "execution_count": 11,
   "metadata": {
    "collapsed": true
   },
   "outputs": [],
   "source": [
    "def get_words_from_line_list(L):\n",
    "    word_list = []\n",
    "    for line in L:\n",
    "        words_in_line = get_words_from_string(line)\n",
    "        word_list.extend(words_in_line)\n",
    "        return word_list"
   ]
  },
  {
   "cell_type": "code",
   "execution_count": 12,
   "metadata": {
    "collapsed": false
   },
   "outputs": [
    {
     "name": "stdout",
     "output_type": "stream",
     "text": [
      "The distance between the documents is: 1.201624 (radians)\n"
     ]
    }
   ],
   "source": [
    "distance = document_distance(\"book1_tiny.txt\", \"book2_tiny.txt\")\n",
    "print \"The distance between the documents is: %0.6f (radians)\"% distance"
   ]
  },
  {
   "cell_type": "code",
   "execution_count": 19,
   "metadata": {
    "collapsed": false
   },
   "outputs": [
    {
     "name": "stdout",
     "output_type": "stream",
     "text": [
      "The distance between the documents is: 1.201624 (radians)\n"
     ]
    }
   ],
   "source": [
    "distance = document_distance(\"book1_small.txt\", \"book2_small.txt\")\n",
    "print \"The distance between the documents is: %0.6f (radians)\"% distance"
   ]
  },
  {
   "cell_type": "code",
   "execution_count": 21,
   "metadata": {
    "collapsed": false
   },
   "outputs": [
    {
     "name": "stdout",
     "output_type": "stream",
     "text": [
      "         442 function calls in 0.021 seconds\n",
      "\n",
      "   Ordered by: standard name\n",
      "\n",
      "   ncalls  tottime  percall  cumtime  percall filename:lineno(function)\n",
      "        2    0.000    0.000    0.000    0.000 <ipython-input-11-af1902ee9362>:1(get_words_from_line_list)\n",
      "        2    0.000    0.000    0.016    0.008 <ipython-input-3-5fa6de42b2ce>:1(read_file)\n",
      "        2    0.000    0.000    0.000    0.000 <ipython-input-3-5fa6de42b2ce>:25(get_words_from_string)\n",
      "        2    0.000    0.000    0.000    0.000 <ipython-input-3-5fa6de42b2ce>:50(count_frequency)\n",
      "        2    0.000    0.000    0.017    0.008 <ipython-input-3-5fa6de42b2ce>:64(word_frequencies_for_file)\n",
      "        3    0.000    0.000    0.000    0.000 <ipython-input-3-5fa6de42b2ce>:74(inner_product)\n",
      "        1    0.000    0.000    0.000    0.000 <ipython-input-3-5fa6de42b2ce>:89(vector_angle)\n",
      "        1    0.004    0.004    0.020    0.020 <ipython-input-4-e8249b2cd580>:1(document_distance)\n",
      "        1    0.000    0.000    0.021    0.021 <string>:1(<module>)\n",
      "       37    0.000    0.000    0.000    0.000 {len}\n",
      "        1    0.000    0.000    0.000    0.000 {math.acos}\n",
      "        1    0.000    0.000    0.000    0.000 {math.sqrt}\n",
      "      171    0.000    0.000    0.000    0.000 {method 'append' of 'list' objects}\n",
      "        1    0.000    0.000    0.000    0.000 {method 'disable' of '_lsprof.Profiler' objects}\n",
      "        2    0.000    0.000    0.000    0.000 {method 'extend' of 'list' objects}\n",
      "      157    0.000    0.000    0.000    0.000 {method 'isalnum' of 'str' objects}\n",
      "       26    0.000    0.000    0.000    0.000 {method 'join' of 'str' objects}\n",
      "       26    0.000    0.000    0.000    0.000 {method 'lower' of 'str' objects}\n",
      "        2    0.016    0.008    0.016    0.008 {method 'readlines' of 'file' objects}\n",
      "        2    0.000    0.000    0.000    0.000 {open}\n",
      "\n",
      "\n"
     ]
    }
   ],
   "source": [
    "cProfile.run('document_distance(\"book1.txt\", \"book2.txt\")')"
   ]
  },
  {
   "cell_type": "markdown",
   "metadata": {},
   "source": [
    "## Various smaller optimizations"
   ]
  },
  {
   "cell_type": "code",
   "execution_count": 19,
   "metadata": {
    "collapsed": false
   },
   "outputs": [],
   "source": [
    "# global variables needed for fast parsing\n",
    "# translation table maps upper case to lower case and punctuation to spaces\n",
    "translation_table = string.maketrans(string.punctuation+string.uppercase,\n",
    "                                     \" \"*len(string.punctuation)+string.lowercase)\n",
    "\n",
    "def get_words_from_text(text):\n",
    "    \"\"\"\n",
    "    Parse the given text into words.\n",
    "    Return list of all words found.\n",
    "    \"\"\"\n",
    "    text = text.translate(translation_table)\n",
    "    word_list = text.split()\n",
    "    return word_list\n",
    "\n",
    "def count_frequency(word_list):\n",
    "    \"\"\"\n",
    "    Return a dictionary mapping words to frequency.\n",
    "    \"\"\"\n",
    "    D = {}\n",
    "    for new_word in word_list:\n",
    "        if new_word in D:\n",
    "            D[new_word] = D[new_word]+1\n",
    "        else:\n",
    "            D[new_word] = 1\n",
    "    return D\n",
    "\n",
    "def word_frequencies_for_text(text):\n",
    "    \"\"\"\n",
    "    Return dictionary of (word,frequency) pairs for the given file.\n",
    "    \"\"\"\n",
    "    word_list = get_words_from_text(text)\n",
    "    freq_mapping = count_frequency(word_list)\n",
    "    return freq_mapping\n",
    "\n",
    "def inner_product(D1,D2):\n",
    "    \"\"\"\n",
    "    Inner product between two vectors, where vectors\n",
    "    are represented as dictionaries of (word,freq) pairs.\n",
    "\n",
    "    Example: inner_product({\"and\":3,\"of\":2,\"the\":5},\n",
    "                           {\"and\":4,\"in\":1,\"of\":1,\"this\":2}) = 14.0 \n",
    "    \"\"\"\n",
    "    sum = 0.0\n",
    "    for key in D1:\n",
    "        if key in D2:\n",
    "            sum += D1[key] * D2[key]\n",
    "    return sum\n",
    "\n",
    "def vector_angle(D1,D2):\n",
    "    \"\"\"\n",
    "    The input is a list of (word,freq) pairs, sorted alphabetically.\n",
    "\n",
    "    Return the angle between these two vectors.\n",
    "    \"\"\"\n",
    "    numerator = inner_product(D1,D2)\n",
    "    denominator = math.sqrt(inner_product(D1,D1)*inner_product(D2,D2))\n",
    "    return math.acos(numerator/denominator)"
   ]
  },
  {
   "cell_type": "code",
   "execution_count": 20,
   "metadata": {
    "collapsed": false
   },
   "outputs": [
    {
     "name": "stdout",
     "output_type": "stream",
     "text": [
      "         19 function calls in 0.336 seconds\n",
      "\n",
      "   Ordered by: standard name\n",
      "\n",
      "   ncalls  tottime  percall  cumtime  percall filename:lineno(function)\n",
      "        2    0.226    0.113    0.226    0.113 <ipython-input-19-227e470e7bd3>:15(count_frequency)\n",
      "        2    0.000    0.000    0.313    0.156 <ipython-input-19-227e470e7bd3>:27(word_frequencies_for_text)\n",
      "        3    0.011    0.004    0.011    0.004 <ipython-input-19-227e470e7bd3>:35(inner_product)\n",
      "        1    0.000    0.000    0.011    0.011 <ipython-input-19-227e470e7bd3>:49(vector_angle)\n",
      "        2    0.000    0.000    0.087    0.043 <ipython-input-19-227e470e7bd3>:6(get_words_from_text)\n",
      "        1    0.009    0.009    0.333    0.333 <ipython-input-7-ac93d2f4306b>:87(document_distance)\n",
      "        1    0.003    0.003    0.336    0.336 <string>:1(<module>)\n",
      "        1    0.000    0.000    0.000    0.000 {math.acos}\n",
      "        1    0.000    0.000    0.000    0.000 {math.sqrt}\n",
      "        1    0.000    0.000    0.000    0.000 {method 'disable' of '_lsprof.Profiler' objects}\n",
      "        2    0.076    0.038    0.076    0.038 {method 'split' of 'str' objects}\n",
      "        2    0.011    0.005    0.011    0.005 {method 'translate' of 'str' objects}\n",
      "\n",
      "\n"
     ]
    }
   ],
   "source": [
    "cProfile.run(\"document_distance(document1, document2)\")"
   ]
  },
  {
   "cell_type": "code",
   "execution_count": 16,
   "metadata": {
    "collapsed": false
   },
   "outputs": [
    {
     "name": "stdout",
     "output_type": "stream",
     "text": [
      "         509 function calls in 0.026 seconds\n",
      "\n",
      "   Ordered by: standard name\n",
      "\n",
      "   ncalls  tottime  percall  cumtime  percall filename:lineno(function)\n",
      "        2    0.000    0.000    0.021    0.011 <ipython-input-14-b6cbf467a347>:1(word_frequencies_for_text)\n",
      "        3    0.000    0.000    0.000    0.000 <ipython-input-14-b6cbf467a347>:18(inner_product)\n",
      "        2    0.000    0.000    0.000    0.000 <ipython-input-14-b6cbf467a347>:8(insertion_sort)\n",
      "        2    0.000    0.000    0.000    0.000 <ipython-input-15-1f90468eae9b>:1(count_frequency)\n",
      "        2    0.000    0.000    0.000    0.000 <ipython-input-7-ac93d2f4306b>:13(get_words_from_string)\n",
      "        1    0.000    0.000    0.000    0.000 <ipython-input-7-ac93d2f4306b>:77(vector_angle)\n",
      "        1    0.004    0.004    0.026    0.026 <ipython-input-7-ac93d2f4306b>:87(document_distance)\n",
      "        2    0.000    0.000    0.000    0.000 <ipython-input-9-af1902ee9362>:1(get_words_from_line_list)\n",
      "        1    0.000    0.000    0.026    0.026 <string>:1(<module>)\n",
      "      127    0.000    0.000    0.000    0.000 {len}\n",
      "        1    0.000    0.000    0.000    0.000 {math.acos}\n",
      "        1    0.000    0.000    0.000    0.000 {math.sqrt}\n",
      "      148    0.000    0.000    0.000    0.000 {method 'append' of 'list' objects}\n",
      "        1    0.000    0.000    0.000    0.000 {method 'disable' of '_lsprof.Profiler' objects}\n",
      "        2    0.000    0.000    0.000    0.000 {method 'extend' of 'list' objects}\n",
      "      155    0.000    0.000    0.000    0.000 {method 'isalnum' of 'str' objects}\n",
      "        2    0.000    0.000    0.000    0.000 {method 'items' of 'dict' objects}\n",
      "       26    0.000    0.000    0.000    0.000 {method 'join' of 'str' objects}\n",
      "       26    0.000    0.000    0.000    0.000 {method 'lower' of 'str' objects}\n",
      "        2    0.021    0.010    0.021    0.010 {method 'split' of 'str' objects}\n",
      "        2    0.000    0.000    0.000    0.000 {range}\n",
      "\n",
      "\n"
     ]
    }
   ],
   "source": [
    "cProfile.run(\"document_distance(document1, document2)\")"
   ]
  },
  {
   "cell_type": "code",
   "execution_count": null,
   "metadata": {
    "collapsed": true
   },
   "outputs": [],
   "source": []
  }
 ],
 "metadata": {
  "kernelspec": {
   "display_name": "Python 2",
   "language": "python",
   "name": "python2"
  },
  "language_info": {
   "codemirror_mode": {
    "name": "ipython",
    "version": 2
   },
   "file_extension": ".py",
   "mimetype": "text/x-python",
   "name": "python",
   "nbconvert_exporter": "python",
   "pygments_lexer": "ipython2",
   "version": "2.7.8"
  }
 },
 "nbformat": 4,
 "nbformat_minor": 0
}
